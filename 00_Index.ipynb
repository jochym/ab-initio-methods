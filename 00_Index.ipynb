{
 "cells": [
  {
   "cell_type": "markdown",
   "id": "03a41117-5f16-4bd8-a533-1297b5413766",
   "metadata": {},
   "source": [
    "# Ab initio methods in solid state physics [![Binder](https://mybinder.org/badge_logo.svg)](https://mybinder.org/v2/gh/jochym/abinitio-methods/env?urlpath=git-pull%3Frepo%3Dhttps%253A%252F%252Fgithub.com%252Fjochym%252Fabinitio-methods%26urlpath%3Dlab%252Fworkspaces%252Flab%252Ftree%252Fabinitio-methods%252F%26branch%3Dmain)\n",
    "---\n",
    "#### *Przemysław Piekarz, Paweł T. Jochym*\n",
    "#### *Dept. of Computational Materials Science*\n",
    "#### *Institute of Nuclear Physics PAN, Cracow, Poland*\n",
    "\n",
    "These notebooks are intended as supplementary materials for the lecture and exercises for the PhD students. Lectures are included in the \"lecture\" directory as PDF files. The exercises are in the form of notebooks with names starting with numbers: 01_..., 02_..., etc.\n",
    "\n",
    "---\n",
    "### Lectures\n",
    "1. [Electron Interactions](lecture/Ab_initio_lecture_01.pdf)\n",
    "2. [Density Functional Theory](lecture/Ab_initio_lecture_02.pdf)\n",
    "3. [Electronic states in crystals](lecture/Ab_initio_lecture_03.pdf)\n",
    "4. [Band structure calculations](lecture/Ab_initio_lecture_04.pdf)\n",
    "5. [Exchange functionals](lecture/Ab_initio_lecture_05.pdf)\n",
    "6. [Strongly correlated and magnetic systems](lecture/Ab_initio_lecture_06.pdf)\n",
    "7. [Modeling nanostructures](lecture/Ab_initio_lecture_07.pdf)\n",
    "8. [Mechanical properties: elasticity](lecture/Ab_initio_lecture_08.pdf)\n",
    "9. [Lattice Dynamics - harmonic approximation](lecture/Ab_initio_lecture_09.pdf)\n",
    "10. [Lattice Dynamics - anharmonicity](lecture/Ab_initio_lecture_10.pdf)\n",
    "11. [DFPT](lecture/Ab_initio_lecture_11.pdf)\n",
    "12. [Molecular Dynamics](lecture/Ab_initio_lecture_12.pdf)\n",
    "13. [Lattice Thermodynamics](lecture/Ab_initio_lecture_13.pdf)\n",
    "14. [Your Toolbox](lecture/Ab_initio_lecture_14.pdf)\n",
    "\n",
    "### Hands-on examples\n",
    "1. [Hydrogen Molecule](01_Hydrogen_Molecule.ipynb)\n",
    "2. [Convergence Analysis](02_Convergence_Analysis.ipynb)\n",
    "3. [Building Crystals](03_Building_Crystals.ipynb)\n",
    "4. [Calculations for Crystals](04_Calculations_for_Crystals.ipynb)\n",
    "5. [Electronic Structure](05_Electronic_Structure.ipynb)\n",
    "6. [Magnetic Systems](06_Magnetic_Systems.ipynb)\n",
    "7. [Elastic Properties](07_Elastic_Properties.ipynb)\n",
    "8. [Lattice Dynamics](08_Lattice_Dynamics.ipynb)\n",
    "9. [Anharmonicity](09_Anharmonicity.ipynb)\n",
    "10. [DFPT](10_DFPT.ipynb)\n",
    "11. [Nanoparticle Molecular Dynamics](11_Nanoparticle_MD.ipynb)\n",
    "\n",
    "---\n",
    "### JupyterLab environment\n",
    "\n",
    "This is the JupyterLab environment containing materials for the *Ab Initio methods* lecture. The environment contains live examples and lecture materials. The document you are reading right now is a **notebook** containing text (like this one) and code **cells**. Each cell can be edited (double click on it or select it and press `Enter`. After editing the cell can be *rendered* (text cell) or *executed* (code cell) by pressing `Shift Enter`. The code cells contain Python code. Fluent knowledge of the python language is not required for understanding of these examples. `Help` menu on the top bar contains links to manuals for Jupyter environment list of keyboard shortcuts, Python language reference (including beginners guide), and manuals for useful function libraries for plotting (Matplotlib) numerical computation (NumPy) various scientific algorithms (SciPy). Python and JupyterLab references are already opened on the right portion of the screen. The dynamical help panel in the top right corner shows information about objects under the cursor in the notebook.\n",
    "\n",
    "Explore the environment - **you cannot break anything**. If you mess something up you can just close the browser tab and start over from the beginning. \n",
    "\n",
    "**The files are not persistent!** - if you want ot save your work you need to download it to your own machine (right click on the file in the browser on the left and select \"download\")\n",
    "\n",
    "---\n",
    "\n",
    "[![License: CC BY-SA 4.0](https://licensebuttons.net/l/by-sa/4.0/80x15.png)](https://creativecommons.org/licenses/by-sa/4.0/) \n",
    "This work is licensed under CC BY-SA 4.0 \n"
   ]
  },
  {
   "cell_type": "code",
   "execution_count": null,
   "id": "25895cac-f84a-4350-a910-5361a690b3ae",
   "metadata": {},
   "outputs": [],
   "source": []
  }
 ],
 "metadata": {
  "kernelspec": {
   "display_name": "Python 3 (ipykernel)",
   "language": "python",
   "name": "python3"
  },
  "language_info": {
   "codemirror_mode": {
    "name": "ipython",
    "version": 3
   },
   "file_extension": ".py",
   "mimetype": "text/x-python",
   "name": "python",
   "nbconvert_exporter": "python",
   "pygments_lexer": "ipython3",
   "version": "3.11.9"
  }
 },
 "nbformat": 4,
 "nbformat_minor": 5
}
