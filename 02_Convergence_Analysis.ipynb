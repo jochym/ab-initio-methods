{
 "cells": [
  {
   "cell_type": "markdown",
   "id": "polish-louisiana",
   "metadata": {},
   "source": [
    "# Convergence of the DFT calculation"
   ]
  },
  {
   "cell_type": "markdown",
   "id": "impressive-society",
   "metadata": {},
   "source": [
    "In the following exercise we will perform *necessary* step in every DFT study: the convergence analysis. The foundations we use in our work are indeed \"from first principles\" and have very limited set of parameters - essentially only the geometric setup of the system. However, the actual numerical calculation involves multiple approximations and limiting factors - each one with it's set of control parameters.\n",
    "\n",
    "Most of these parameters carries out with it some trade-offs, usually speed or memory footprint (or both) against accuracy of the results. In any practical calculations we cannot just crank up all these parameters to the extreme values to hope for the accurate results. This would severely limit the range of applicability of the method to the very simplest systems and made the whole effort almost pointless.\n",
    "\n",
    "Instead, for each case, we perform the convergence study to find the set of parameters which are well suited to the problem at hand. \n",
    "\n",
    "This exercise is an adaptation of the AbInit tutorial. The relevant manuals can be found on the [AbInit documentation site](https://docs.abinit.org/) and [Atomic Simulation Environment (ASE) site](https://wiki.fysik.dtu.dk/ase/index.html).\n",
    "\n",
    "As usual the calculation starts with importing necessary tools and libraries."
   ]
  },
  {
   "cell_type": "code",
   "execution_count": null,
   "id": "induced-morris",
   "metadata": {
    "slideshow": {
     "slide_type": "fragment"
    }
   },
   "outputs": [],
   "source": [
    "# Command importing plotting and numerical functions\n",
    "%pylab inline\n",
    "\n",
    "# Atomic Simulation Environment tools\n",
    "from ase import Atoms                      # Object representing groups of atoms\n",
    "from ase.units import Ry, Bohr             # Unit conversion constants\n",
    "from ase.calculators.abinit import Abinit  # AbInit DFT program interface\n",
    "from ase.visualize.plot import plot_atoms  # Simple plotting function"
   ]
  },
  {
   "cell_type": "markdown",
   "id": "demanding-magnet",
   "metadata": {},
   "source": [
    "### Construction of the molecule\n",
    "\n",
    "We continue with our object from the first exercise - the Hydrogen molecule.\n",
    "We build the H$_2$ molecule inside a 10x10x10 Angstrom box. The atoms are separated by 1A distance. We check the result by simple plot."
   ]
  },
  {
   "cell_type": "code",
   "execution_count": null,
   "id": "successful-inventory",
   "metadata": {},
   "outputs": [],
   "source": [
    "H2 = Atoms(\"H2\", positions=[(0,0,0),(1,0,0)], cell=[10, 10, 10])\n",
    "plot_atoms(H2, colors=2*['C0'], show_unit_cell=1);"
   ]
  },
  {
   "cell_type": "markdown",
   "id": "capital-majority",
   "metadata": {},
   "source": [
    "### Defining DFT calculator\n",
    "\n",
    "This part will be a focus of our exercise. The calculator object is created with a number of explicit parameters and a large set of default values. Here we will go only over a small subset of parameters, leaving a more comprehensive study as an exercise. Let us recall the basic set of parameters:"
   ]
  },
  {
   "cell_type": "markdown",
   "id": "southwest-plaintiff",
   "metadata": {},
   "source": [
    "#### Organizing parameters\n",
    "* `label` name\n",
    "* `directory` working directory for the calculation\n",
    "* `v8_legacy_format=True` required for abinit v8 compatibility\n",
    "\n",
    "#### Calculation setup\n",
    "* `nbands` number of electronic bands per atom\n",
    "* `ecut` cutoff energy for the plane wave representation of wavefunctions\n",
    "* `kpts` grid of k-points for reciprocal space integration\n",
    "* `toldfe` convergence criterion for electronic states iteration\n",
    "* `xc` exchange type to use in the calculation (LDA, PBE)\n",
    "* `pps` variant of the pseudopotential (fhi and hgh are installed, others are available)\n",
    "\n",
    "This set is *by far* not complete, a complete list can be found on the [AbInit documentation site](https://docs.abinit.org/variables/basic/). \n",
    "\n",
    "Previously we have started with the set of parameters tuned to give us optimum speed of calculation. For this exercise we will start with even shorter set of parameters leaving the rest at their default values - to be explored at the later stage. Define the AbInit calculator object with just minimal set of required parameters (`ecut`, `toldfe`, `xc`, `pps`) plus the name of the system and the working directory."
   ]
  },
  {
   "cell_type": "code",
   "execution_count": null,
   "id": "amino-sugar",
   "metadata": {},
   "outputs": [],
   "source": [
    "calc = Abinit(label='h2', directory=\"work_02\", v8_legacy_format=True,\n",
    "              ecut= 10,\n",
    "              toldfe=1.0e-4,\n",
    "              xc='LDA',\n",
    "              pps='fhi'\n",
    "              )\n",
    "\n",
    "H2.set_calculator(calc)"
   ]
  },
  {
   "cell_type": "markdown",
   "id": "female-street",
   "metadata": {},
   "source": [
    "## Convergence in `ecut`"
   ]
  },
  {
   "cell_type": "markdown",
   "id": "decent-football",
   "metadata": {},
   "source": [
    "We start our study from the cutoff energy. This energy determines the set of plane waves (the shortest wavelength) used to represent the wave function of the electrons in the molecule. Our starting value is an absurdly small 20 eV - which is even smaller then the ionization energy of the system. The maximal value is a fairy large 700 eV - a good deal higher then the energies present in the system. We run several iteration of the calculation collecting the data in the results list."
   ]
  },
  {
   "cell_type": "markdown",
   "id": "engaging-french",
   "metadata": {},
   "source": [
    "### Energy values convergence"
   ]
  },
  {
   "cell_type": "markdown",
   "id": "complete-gasoline",
   "metadata": {},
   "source": [
    "First we will check the convergence of total energy value.\n",
    "\n",
    "This time we use more traditional for loop for iteration. Since the energy scale is really not linear we space the cutoff values in the logarithmic grid.\n",
    "Since the calculation produces energies and forces we collect both of them for future analysis."
   ]
  },
  {
   "cell_type": "code",
   "execution_count": null,
   "id": "matched-sword",
   "metadata": {},
   "outputs": [],
   "source": [
    "ecut_min = 20\n",
    "ecut_max = 700\n",
    "\n",
    "results = []\n",
    "for ec in linspace(log(ecut_min), log(ecut_max), 9):\n",
    "    calc.set(ecut=exp(ec))\n",
    "    print('%5.1f eV' % (exp(ec),), end=': ')                  # formating using % operator\n",
    "    results.append([exp(ec), \n",
    "                    H2.get_potential_energy(), \n",
    "                    H2.get_forces()[0,0]])\n",
    "    print(f'{H2.get_potential_energy():6.3f} eV')             # formating using f-strings\n",
    "\n",
    "results = array(results).T                                    # convert to array"
   ]
  },
  {
   "cell_type": "code",
   "execution_count": null,
   "id": "optional-sapphire",
   "metadata": {},
   "outputs": [],
   "source": [
    "# Plot the convergence\n",
    "plot(results[0], results[1], 'o--')\n",
    "xlabel('Cut-off energy (eV)')\n",
    "ylabel('Total energy (eV)');"
   ]
  },
  {
   "cell_type": "markdown",
   "id": "authorized-feedback",
   "metadata": {},
   "source": [
    "### Energy *differences* convergence"
   ]
  },
  {
   "cell_type": "markdown",
   "id": "computational-appointment",
   "metadata": {},
   "source": [
    "Our next goal is to check the energy *difference* convergence. Usually we are not interested in absolute energies - since they are usually defined up to additive constant. Thus, we will compare two molecules with different bond length: 1 A and 0.85 A."
   ]
  },
  {
   "cell_type": "code",
   "execution_count": null,
   "id": "adverse-richardson",
   "metadata": {},
   "outputs": [],
   "source": [
    "# copy the molecule\n",
    "H2_2 = Atoms(H2)\n",
    "\n",
    "# modify the position of the second atom\n",
    "H2_2.set_positions([(0,0,0),(0.85,0,0)])\n",
    "\n",
    "# create the calculator for the second system\n",
    "# note the changed label\n",
    "calc_2 = Abinit(label='h2_2', directory=\"work_02\", v8_legacy_format=True,\n",
    "              ecut= 10,       # !! \n",
    "              toldfe=1.0e-4,      # !!\n",
    "              xc='LDA',\n",
    "              pps='fhi'\n",
    "              )\n",
    "H2_2.set_calculator(calc_2)"
   ]
  },
  {
   "cell_type": "code",
   "execution_count": null,
   "id": "social-trigger",
   "metadata": {},
   "outputs": [],
   "source": [
    "results_2 = []\n",
    "for ec in linspace(log(ecut_min), log(ecut_max), 9):\n",
    "    H2_2.calc.set(ecut=exp(ec))\n",
    "    print('%5.1f eV' % (exp(ec),), end=': ')                  # formating using % operator\n",
    "    results_2.append([exp(ec), \n",
    "                      H2_2.get_potential_energy(),\n",
    "                      H2_2.get_forces()[0,0]])\n",
    "    print(f'{H2_2.get_potential_energy():6.3f} eV')             # formating using f-strings\n",
    "\n",
    "results_2 = array(results_2).T                                # convert to array"
   ]
  },
  {
   "cell_type": "code",
   "execution_count": null,
   "id": "exposed-french",
   "metadata": {},
   "outputs": [],
   "source": [
    "# Plot the convergence\n",
    "plot(results_2[0], results_2[1], 'o--')\n",
    "xlabel('Cut-off energy (eV)')\n",
    "ylabel('Total energy (eV)');"
   ]
  },
  {
   "cell_type": "code",
   "execution_count": null,
   "id": "silver-balance",
   "metadata": {},
   "outputs": [],
   "source": [
    "# Plot the difference in energy\n",
    "plot(results[0], results_2[1]-results[1], 'o--')\n",
    "xlabel('Cut-off energy (eV)')\n",
    "ylabel('Total energy difference (eV)');"
   ]
  },
  {
   "cell_type": "markdown",
   "id": "ruled-jordan",
   "metadata": {},
   "source": [
    "### Convergence of forces"
   ]
  },
  {
   "cell_type": "code",
   "execution_count": null,
   "id": "spanish-desert",
   "metadata": {},
   "outputs": [],
   "source": [
    "# Plot the convergence\n",
    "plot(results[0], results[2], 'o--', label='d=1 $\\AA$')\n",
    "plot(results_2[0], results_2[2], 'o--',  label='d=0.85 $\\AA$')\n",
    "xlabel('Cut-off energy (eV)')\n",
    "ylabel('Interatomic force (eV/A)')\n",
    "legend();"
   ]
  },
  {
   "cell_type": "code",
   "execution_count": null,
   "id": "apparent-transmission",
   "metadata": {},
   "outputs": [],
   "source": [
    "# Plot the convergence\n",
    "plot(results[0], results[2]-results_2[2], 'o--')\n",
    "xlabel('Cut-off energy (eV)')\n",
    "ylabel('Interatomic force difference (eV/A)');"
   ]
  },
  {
   "cell_type": "markdown",
   "id": "innocent-issue",
   "metadata": {},
   "source": [
    "## Convergence in box size"
   ]
  },
  {
   "cell_type": "markdown",
   "id": "essential-champagne",
   "metadata": {},
   "source": [
    "The cutoff energy defines the size of the system in the *momentum* space - by limiting maximum represented energy of an electron.\n",
    "The size of the box we use in the calculation limits the other side of the spectrum - by limiting the *longest* wavelength possible in the calculation and by insulating images of the calculated system with the layer of vacuum. Unfortunately vacuum is fairly expensive in the plane-wave calculation: empty or not the space must be represented in the basis set. Thus we should use only as much of a vacuum as required by the desired accuracy."
   ]
  },
  {
   "cell_type": "markdown",
   "id": "precious-desert",
   "metadata": {},
   "source": [
    "### Running the calculations"
   ]
  },
  {
   "cell_type": "markdown",
   "id": "threatened-budapest",
   "metadata": {},
   "source": [
    "We will re-use the objects and calculators from the first exercise. Learning how to modify already constructed system. The scheme of the calculation is very similar we loop over several box sizes and compare energies and forces but this time we will run both calculations together"
   ]
  },
  {
   "cell_type": "code",
   "execution_count": null,
   "id": "going-shaft",
   "metadata": {},
   "outputs": [],
   "source": [
    "cell_r = []\n",
    "ecut = 150\n",
    "\n",
    "H2.calc.set(ecut=ecut)\n",
    "H2_2.calc.set(ecut=ecut)\n",
    "\n",
    "for ls in linspace(log(3), log(15), 7):\n",
    "    s = exp(ls)\n",
    "    print(f'{s:.1f}A', end=', ')\n",
    "    H2.set_cell([s,s,s])\n",
    "    H2_2.set_cell([s,s,s])\n",
    "    cell_r.append([s, \n",
    "                   H2.get_potential_energy(), H2.get_forces()[0,0],\n",
    "                   H2_2.get_potential_energy(), H2_2.get_forces()[0,0]])\n",
    "print('Done')\n",
    "cell_r = array(cell_r).T"
   ]
  },
  {
   "cell_type": "markdown",
   "id": "favorite-insulation",
   "metadata": {},
   "source": [
    "### Analyzing the results"
   ]
  },
  {
   "cell_type": "markdown",
   "id": "enabling-savage",
   "metadata": {},
   "source": [
    "We have collected all the results. Now we can plot and analyze the data: total energy and forces, energy and force difference."
   ]
  },
  {
   "cell_type": "code",
   "execution_count": null,
   "id": "occasional-loading",
   "metadata": {},
   "outputs": [],
   "source": [
    "ax = subplot(211)\n",
    "plot(cell_r[0], cell_r[1], 'o--', label='d=1 $\\AA$')\n",
    "plot(cell_r[0], cell_r[3], 'o--', label='d=0.85 $\\AA$')\n",
    "ylabel('Energy (eV)')\n",
    "\n",
    "subplot(212, sharex=ax)\n",
    "plot(cell_r[0], cell_r[2], 'o--', label='d=1 $\\AA$')\n",
    "plot(cell_r[0], cell_r[4], 'o--', label='d=0.85 $\\AA$')\n",
    "xlabel('Cell size ($\\AA$)')\n",
    "ylabel('Force (eV/$\\AA$)')\n",
    "legend();"
   ]
  },
  {
   "cell_type": "code",
   "execution_count": null,
   "id": "bronze-output",
   "metadata": {},
   "outputs": [],
   "source": [
    "ax = subplot(211)\n",
    "plot(cell_r[0], cell_r[1]-cell_r[1].min(), 'o--', label='d=1 $\\AA$')\n",
    "plot(cell_r[0], cell_r[3]-cell_r[3].min(), 'o--', label='d=0.85 $\\AA$')\n",
    "ylabel('$E - E_{min}$ (eV)')\n",
    "\n",
    "subplot(212, sharex=ax)\n",
    "plot(cell_r[0], cell_r[2]-cell_r[2].mean(), 'o--', label='d=1 $\\AA$')\n",
    "plot(cell_r[0], cell_r[4]-cell_r[4].mean(), 'o--', label='d=0.85 $\\AA$')\n",
    "ylabel(r'$F - \\langle F \\rangle$ (eV/$\\AA$)')\n",
    "xlabel('Cell size ($\\AA$)')\n",
    "legend();"
   ]
  },
  {
   "cell_type": "code",
   "execution_count": null,
   "id": "collectible-surgeon",
   "metadata": {},
   "outputs": [],
   "source": [
    "ax = subplot(211)\n",
    "plot(cell_r[0], cell_r[1] - cell_r[3], 'o--')\n",
    "ylabel('Energy diff. (eV)')\n",
    "\n",
    "subplot(212, sharex=ax)\n",
    "plot(cell_r[0], cell_r[2] - cell_r[4], 'o--')\n",
    "ylabel('Force diff. (eV/$\\AA$)')\n",
    "xlabel('Cell size ($\\AA$)');"
   ]
  },
  {
   "cell_type": "markdown",
   "id": "cleared-mercy",
   "metadata": {},
   "source": [
    "## Rerun example from the first lecture"
   ]
  },
  {
   "cell_type": "markdown",
   "id": "seasonal-albania",
   "metadata": {},
   "source": [
    "Now, when we have done convergence analysis and selected optimal calculation parameters we can rerun our calculation of H-H bond length for the determined set of parameters."
   ]
  },
  {
   "cell_type": "code",
   "execution_count": null,
   "id": "expensive-dylan",
   "metadata": {},
   "outputs": [],
   "source": [
    "H2.calc.set(ecut=150)\n",
    "H2.set_cell([12,12,12])\n",
    "\n",
    "EvsD = []\n",
    "print(' d(A)   E(eV)  \\n---------------------')\n",
    "for d in np.linspace(0.6, 1, 5):\n",
    "    H2.set_positions([(0,0,0),(0,0,d)])\n",
    "    E = H2.get_potential_energy()\n",
    "    EvsD.append([d, E])\n",
    "    print(f'{d:5.2f}: {E:6.2f}')\n",
    "EvsD = np.array(EvsD).T"
   ]
  },
  {
   "cell_type": "code",
   "execution_count": null,
   "id": "analyzed-thesis",
   "metadata": {},
   "outputs": [],
   "source": [
    "fit = polyfit(EvsD[0], EvsD[1], 4)\n",
    "\n",
    "mpos = [real(r) for r in roots(fit[:-1] * np.arange(4,0,-1)) \n",
    "        if abs(imag(r))<1e-3 and real(r) < 1 and real(r) > 0.5][0]"
   ]
  },
  {
   "cell_type": "code",
   "execution_count": null,
   "id": "healthy-nickname",
   "metadata": {},
   "outputs": [],
   "source": [
    "plot(EvsD[0], EvsD[1], \"o\", label='DFT')\n",
    "d = linspace(0.6,1,100)\n",
    "plot(d, np.polyval(fit, d), \"-\", label='Fit')\n",
    "axvline(mpos, ls=':', label=f'min={mpos:.3f}A')\n",
    "xlabel('H-H distance (A)')\n",
    "ylabel('Energy (eV)')\n",
    "legend();"
   ]
  },
  {
   "cell_type": "code",
   "execution_count": null,
   "id": "environmental-garlic",
   "metadata": {},
   "outputs": [],
   "source": []
  }
 ],
 "metadata": {
  "kernelspec": {
   "display_name": "Python 3",
   "language": "python",
   "name": "python3"
  },
  "language_info": {
   "codemirror_mode": {
    "name": "ipython",
    "version": 3
   },
   "file_extension": ".py",
   "mimetype": "text/x-python",
   "name": "python",
   "nbconvert_exporter": "python",
   "pygments_lexer": "ipython3",
   "version": "3.6.13"
  },
  "toc-autonumbering": false,
  "toc-showcode": false,
  "toc-showmarkdowntxt": false
 },
 "nbformat": 4,
 "nbformat_minor": 5
}
