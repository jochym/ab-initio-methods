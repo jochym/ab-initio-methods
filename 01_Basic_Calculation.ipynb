{
 "cells": [
  {
   "cell_type": "markdown",
   "id": "controlled-berkeley",
   "metadata": {},
   "source": [
    "# JupyterLab environment\n",
    "\n",
    "This is the JupyterLab environment containing materials for the *Ab Initio methods* lecture. The environment contains live examples and lecture materials. The document you are reading right now is a **notebook** containing text (like this one) and code **cells**. Each cell can be edited (double click on it or select it and press `Enter`. After editing the cell can be *rendered* (text cell) or *executed* (code cell) by pressing `Shift Enter`. The code cells contain Python code. Fluent knowledge of the python language is not required for understanding of these examples. `Help` menu on the top bar contains links to manuals for Jupyter environment list of keyboard shortcuts, Python language reference (including beginners guide), and manuals for useful function libraries for plotting (Matplotlib) numerical computation (NumPy) various scientific algorithms (SciPy). Python and JupyterLab references are already opened on the right portion of the screen. The dynamical help panel in the top right corner shows information about objects under the cursor in the notebook.\n",
    "\n",
    "Explore the environment - **you cannot break anything**. If you mess something up you can just close the browser tab and start over from the beginning. \n",
    "\n",
    "**The files are not persistent!** - if you want ot save your work you need to download it to your own machine (right click on the file in the browser on the left and select \"download\")"
   ]
  },
  {
   "cell_type": "markdown",
   "id": "sufficient-parliament",
   "metadata": {},
   "source": [
    "# Hydrogen molecule with DFT"
   ]
  },
  {
   "cell_type": "markdown",
   "id": "sunrise-fellow",
   "metadata": {},
   "source": [
    "The calculation starts with importing necessary tools for the calculation"
   ]
  },
  {
   "cell_type": "code",
   "execution_count": 2,
   "id": "clear-porter",
   "metadata": {
    "slideshow": {
     "slide_type": "fragment"
    }
   },
   "outputs": [
    {
     "name": "stdout",
     "output_type": "stream",
     "text": [
      "Populating the interactive namespace from numpy and matplotlib\n"
     ]
    }
   ],
   "source": [
    "# Command importing plotting and numerical functions\n",
    "%pylab inline\n",
    "\n",
    "# Atomic Simulation Environment tools\n",
    "from ase import Atoms                      # Object representing groups of atoms\n",
    "from ase.units import Ry, Bohr             # Unit conversion constants\n",
    "from ase.calculators.abinit import Abinit  # AbInit DFT program interface\n",
    "from ase.visualize.plot import plot_atoms  # Simple plotting function"
   ]
  },
  {
   "cell_type": "markdown",
   "id": "interior-woman",
   "metadata": {},
   "source": [
    "### Construction of the molecule\n",
    "\n",
    "Here we build the H$_2$ molecule inside a 10x10x10 Angstrom box. The atoms are separated by 1A distance. We check the result by simple plot."
   ]
  },
  {
   "cell_type": "code",
   "execution_count": 3,
   "id": "olive-sugar",
   "metadata": {},
   "outputs": [
    {
     "data": {
      "image/png": "[encoded data removed]",
      "text/plain": [
       "<Figure size 432x288 with 1 Axes>"
      ]
     },
     "metadata": {
      "needs_background": "light"
     },
     "output_type": "display_data"
    }
   ],
   "source": [
    "H2 = Atoms(\"H2\", positions=[(0,0,0),(1,0,0)], cell=[10, 10, 10])\n",
    "plot_atoms(H2, colors=2*['C0'], show_unit_cell=1);"
   ]
  },
  {
   "cell_type": "markdown",
   "id": "useful-doctrine",
   "metadata": {},
   "source": [
    "### Defining DFT calculator\n",
    "\n",
    "Define the AbInit calculator object with all required parameters:\n",
    "\n",
    "* `label` name\n",
    "* `nbands` number of electronic bands per atom\n",
    "* `ecut` cutoff energy for the plane wave representation of wavefunctions\n",
    "* `kpts` grid of k-points for reciprocal space integration\n",
    "* `toldfe` convergence criterion for electronic states iteration\n",
    "* `xc` exchange type to use in the calculation (LDA, PBE)\n",
    "* `pps` variant of the pseudopotential (fhi and hgh are installed, others are available)\n",
    "* `directory` working directory for the calculation\n",
    "* `v8_legacy_format=True` required for abinit v8 compatibility\n",
    "\n",
    "The variables marked with double exclamation points (!!) are critical for the accuracy or sometimes even validity of the results. After defining the calculator we assign it to the H2 molecule defined above. The parameters used here are optimized for speed *not* accuracy."
   ]
  },
  {
   "cell_type": "code",
   "execution_count": 4,
   "id": "encouraging-market",
   "metadata": {},
   "outputs": [],
   "source": [
    "calc = Abinit(label='h2',\n",
    "              nbands=2,           # !!\n",
    "              ecut= 8 * Ry,       # !! \n",
    "              kpts=[1, 1, 1],     # !!\n",
    "              toldfe=1.0e-3,      # !!\n",
    "              xc='LDA',           # try 'PBE'\n",
    "              pps='fhi',\n",
    "              directory=\"work\",\n",
    "              v8_legacy_format=True\n",
    "              )\n",
    "\n",
    "H2.set_calculator(calc)"
   ]
  },
  {
   "cell_type": "markdown",
   "id": "studied-magazine",
   "metadata": {},
   "source": [
    "Finally, we can run a simple calculation of total energy of the H2 molecule."
   ]
  },
  {
   "cell_type": "code",
   "execution_count": 5,
   "id": "continued-holmes",
   "metadata": {},
   "outputs": [
    {
     "data": {
      "text/plain": [
       "-28.226665055343283"
      ]
     },
     "execution_count": 5,
     "metadata": {},
     "output_type": "execute_result"
    }
   ],
   "source": [
    "H2.get_potential_energy()"
   ]
  },
  {
   "cell_type": "markdown",
   "id": "blessed-residence",
   "metadata": {},
   "source": [
    "## Calculation of H2 bond length\n",
    "\n",
    "To calculate the equilibrium bond length of the molecule we need to plot energy (`E`)\n",
    "of the molecule for several H-H distances `d` and find its minimum by fitting the 4$^{th}$ order polynomial to the data points and locating its minimum by finding root of the derivative.\n",
    "\n",
    "First we calculate, for few distances `d` in the range 1-2A, energies `E` and forces `F` and put them in two lists `EvsD` and `FvsD` respectively."
   ]
  },
  {
   "cell_type": "code",
   "execution_count": 6,
   "id": "metallic-calendar",
   "metadata": {},
   "outputs": [
    {
     "name": "stdout",
     "output_type": "stream",
     "text": [
      "   d      E      F\n",
      "---------------------\n",
      " 1.00: -25.32 -28.69\n",
      " 1.17: -27.19 -14.90\n",
      " 1.33: -28.11  -6.68\n",
      " 1.50: -28.46  -1.81\n",
      " 1.67: -28.48   1.00\n",
      " 1.83: -28.31   2.53\n",
      " 2.00: -28.04   3.28\n"
     ]
    }
   ],
   "source": [
    "EvsD = []\n",
    "FvsD = []\n",
    "print('   d      E      F\\n---------------------')\n",
    "for d in np.linspace(1, 2, 7):\n",
    "    H2.set_positions([(0,0,0),(0,0,d*Bohr)])\n",
    "    E = H2.get_potential_energy()\n",
    "    F = H2.get_forces()[0,2]\n",
    "    EvsD.append([d, E])\n",
    "    FvsD.append([d, F])\n",
    "    print(f'{d:5.2f}: {E:6.2f} {F:6.2f}')"
   ]
  },
  {
   "cell_type": "markdown",
   "id": "excess-senator",
   "metadata": {},
   "source": [
    "Reorganize the lists into a matrix (array) for easier manipulation."
   ]
  },
  {
   "cell_type": "code",
   "execution_count": 7,
   "id": "advised-aquarium",
   "metadata": {},
   "outputs": [],
   "source": [
    "FvsD = np.array(FvsD).T\n",
    "EvsD = np.array(EvsD).T"
   ]
  },
  {
   "cell_type": "markdown",
   "id": "bright-medium",
   "metadata": {},
   "source": [
    "### Find E(d) minimum"
   ]
  },
  {
   "cell_type": "markdown",
   "id": "rotary-circus",
   "metadata": {},
   "source": [
    "Fit the fourth order polynomial to the data and find its minimum by finding root of its derivative. The derivative is calculated by standard formula for polynomials. We select a real root between 0.5 and 1. We use here a compact form of iteration known in python as *list comprehensions*."
   ]
  },
  {
   "cell_type": "code",
   "execution_count": 8,
   "id": "narrow-guyana",
   "metadata": {},
   "outputs": [],
   "source": [
    "fit = polyfit(EvsD[0]*Bohr, EvsD[1], 4)\n",
    "\n",
    "mpos = [real(r) for r in roots(fit[:-1] * np.arange(4,0,-1)) \n",
    "        if abs(imag(r))<1e-3 and real(r) < 1 and real(r) > 0.5][0]"
   ]
  },
  {
   "cell_type": "markdown",
   "id": "parental-steering",
   "metadata": {},
   "source": [
    "Finally we plot everything on the simple graph."
   ]
  },
  {
   "cell_type": "code",
   "execution_count": 9,
   "id": "israeli-toyota",
   "metadata": {},
   "outputs": [
    {
     "data": {
      "image/png": "[encoded data removed]",
      "text/plain": [
       "<Figure size 432x288 with 1 Axes>"
      ]
     },
     "metadata": {
      "needs_background": "light"
     },
     "output_type": "display_data"
    }
   ],
   "source": [
    "plot(EvsD[0]*Bohr, EvsD[1], \"o\", label='DFT')\n",
    "d = linspace(1*Bohr,2*Bohr,100)\n",
    "plot(d, np.polyval(fit, d), \"-\", label='Fit')\n",
    "axvline(mpos, ls=':', label=f'min={mpos:.3f}A')\n",
    "xlabel('H-H distance (A)')\n",
    "ylabel('Energy (Ry)')\n",
    "legend();"
   ]
  },
  {
   "cell_type": "markdown",
   "id": "bigger-average",
   "metadata": {},
   "source": [
    "### Find F(d)=0"
   ]
  },
  {
   "cell_type": "markdown",
   "id": "growing-tract",
   "metadata": {},
   "source": [
    "Alternatively, we can find the place where interatomic forces in the molecule cross zero. We have already calculated the forces with energy. We only need to fit another polynomial and find its real root in the (0.5, 1) A range."
   ]
  },
  {
   "cell_type": "code",
   "execution_count": 10,
   "id": "biblical-characterization",
   "metadata": {},
   "outputs": [],
   "source": [
    "fit = np.polyfit(FvsD[0]*Bohr, FvsD[1], 4)\n",
    "\n",
    "mpos = [np.real(r) for r in np.roots(fit) \n",
    "        if abs(np.imag(r))<1e-3 and real(r) < 1 and real(r) > 0.5][0]"
   ]
  },
  {
   "cell_type": "markdown",
   "id": "missing-trademark",
   "metadata": {},
   "source": [
    "Plot the results"
   ]
  },
  {
   "cell_type": "code",
   "execution_count": 11,
   "id": "extended-concept",
   "metadata": {},
   "outputs": [
    {
     "data": {
      "image/png": "[encoded data removed]",
      "text/plain": [
       "<Figure size 432x288 with 1 Axes>"
      ]
     },
     "metadata": {
      "needs_background": "light"
     },
     "output_type": "display_data"
    }
   ],
   "source": [
    "plot(FvsD[0]*Bohr, FvsD[1], \"o\", label=\"DFT\")\n",
    "d = linspace(1*Bohr,2*Bohr,100)\n",
    "plot(d, np.polyval(fit, d), \"-\", label=\"Fit\")\n",
    "axvline(mpos, ls=':', label=f'min={mpos:.3f}A')\n",
    "xlabel('H-H distance (A)')\n",
    "ylabel('Force (Ry/A)')\n",
    "legend();"
   ]
  },
  {
   "cell_type": "code",
   "execution_count": null,
   "id": "creative-disease",
   "metadata": {},
   "outputs": [],
   "source": []
  },
  {
   "cell_type": "code",
   "execution_count": null,
   "id": "turned-stockholm",
   "metadata": {},
   "outputs": [],
   "source": []
  }
 ],
 "metadata": {
  "kernelspec": {
   "display_name": "Python 3",
   "language": "python",
   "name": "python3"
  },
  "language_info": {
   "codemirror_mode": {
    "name": "ipython",
    "version": 3
   },
   "file_extension": ".py",
   "mimetype": "text/x-python",
   "name": "python",
   "nbconvert_exporter": "python",
   "pygments_lexer": "ipython3",
   "version": "3.6.13"
  }
 },
 "nbformat": 4,
 "nbformat_minor": 5
}
