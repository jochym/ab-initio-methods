{
 "cells": [
  {
   "cell_type": "markdown",
   "id": "sealed-scratch",
   "metadata": {},
   "source": [
    "# Hydrogen molecule with DFT"
   ]
  },
  {
   "cell_type": "markdown",
   "id": "rural-light",
   "metadata": {},
   "source": [
    "The calculation starts with importing necassary tools for the calculation"
   ]
  },
  {
   "cell_type": "code",
   "execution_count": 1,
   "id": "worst-violation",
   "metadata": {
    "slideshow": {
     "slide_type": "fragment"
    }
   },
   "outputs": [
    {
     "name": "stdout",
     "output_type": "stream",
     "text": [
      "Populating the interactive namespace from numpy and matplotlib\n"
     ]
    }
   ],
   "source": [
    "# Command importing plotting and numerical functions\n",
    "%pylab inline\n",
    "\n",
    "# Atomic Simulation Environment tools\n",
    "from ase import Atoms                      # Object representing groups of atoms\n",
    "from ase.units import Ry, Bohr             # Unit conversion constants\n",
    "from ase.calculators.abinit import Abinit  # AbInit DFT program interface\n",
    "from ase.visualize.plot import plot_atoms  # Simple plotting function"
   ]
  },
  {
   "cell_type": "markdown",
   "id": "banner-antibody",
   "metadata": {},
   "source": [
    "Here we build the H$_2$ molecule inside a 10x10x10 Angstrom box. The atoms are separated by 1A distance. We check the result by simple plot."
   ]
  },
  {
   "cell_type": "code",
   "execution_count": 2,
   "id": "demographic-technician",
   "metadata": {},
   "outputs": [
    {
     "data": {
      "image/png": "[encoded data removed]",
      "text/plain": [
       "<Figure size 432x288 with 1 Axes>"
      ]
     },
     "metadata": {
      "needs_background": "light"
     },
     "output_type": "display_data"
    }
   ],
   "source": [
    "H2 = Atoms(\"H2\", positions=[(0,0,0),(1,0,0)], cell=[10, 10, 10])\n",
    "plot_atoms(H2, colors=2*['C0'], show_unit_cell=1);"
   ]
  },
  {
   "cell_type": "markdown",
   "id": "valued-cleaning",
   "metadata": {},
   "source": [
    "Define the AbInit calculator object with all required parameters:\n",
    "\n",
    "* `label` name\n",
    "* `nbands` number of electronic bands per atom\n",
    "* `ecut` cutoff energy for the plane wave representation of wavefunctions\n",
    "* `kpts` grid of k-points for reciprocal space integrations\n",
    "* `toldfe` convergence cryterion for electronic states iteration\n",
    "\n",
    "The variables marked with double exclamation points (!!) are critical for the accuracy or sometimes even validity of the results. After defining the calculator we assign it to the H2 molecule defined above. The parameters used here are optimized for speed *not* accuracy."
   ]
  },
  {
   "cell_type": "code",
   "execution_count": 3,
   "id": "requested-biology",
   "metadata": {},
   "outputs": [],
   "source": [
    "calc = Abinit(label='h2',\n",
    "              nbands=2,           # !!\n",
    "              ecut=10 * Ry,       # !! \n",
    "              kpts=[1, 1, 1],     # !!\n",
    "              toldfe=1.0e-3,      # !!\n",
    "              xc='LDA',           # try 'PBE' instead \n",
    "              pp_paths=['/usr/share/abinit/psp'], # You can add additional directories here \n",
    "              )                                   # if you have your own pseudopotentials\n",
    "\n",
    "H2.set_calculator(calc)"
   ]
  },
  {
   "cell_type": "markdown",
   "id": "hundred-examination",
   "metadata": {},
   "source": [
    "Finally, we can run a simple calculation of total energy of the H2 molecule."
   ]
  },
  {
   "cell_type": "code",
   "execution_count": 4,
   "id": "modular-ecuador",
   "metadata": {},
   "outputs": [
    {
     "data": {
      "text/plain": [
       "-28.65535355342827"
      ]
     },
     "execution_count": 4,
     "metadata": {},
     "output_type": "execute_result"
    }
   ],
   "source": [
    "H2.get_potential_energy()"
   ]
  },
  {
   "cell_type": "markdown",
   "id": "sunset-latter",
   "metadata": {},
   "source": [
    "## Calculation of H2 bond length\n",
    "\n",
    "To calculate the equilibrium bond length of the molecule we need to plot energy (`E`)\n",
    "of the molecule for several H-H distances `d` and find its minimum by fitting the 4$^{th}$ order polynomial to the data points and locating its minimum by findig root of the derivative.\n",
    "\n",
    "First we calculate, for few distances `d` in the range 1-2A, energies `E` and forces `F` and put them in two lists `EvsD` and `FvsD` respectively."
   ]
  },
  {
   "cell_type": "code",
   "execution_count": 5,
   "id": "celtic-manhattan",
   "metadata": {},
   "outputs": [
    {
     "name": "stdout",
     "output_type": "stream",
     "text": [
      "   d      E      F\n",
      "---------------------\n",
      " 1.00: -26.39 -25.52\n",
      " 1.17: -28.01 -12.45\n",
      " 1.33: -28.75  -5.00\n",
      " 1.50: -28.98  -0.79\n",
      " 1.67: -28.93   1.50\n",
      " 1.83: -28.74   2.68\n",
      " 2.00: -28.47   3.22\n"
     ]
    }
   ],
   "source": [
    "EvsD = []\n",
    "FvsD = []\n",
    "print('   d      E      F\\n---------------------')\n",
    "for d in np.linspace(1, 2, 7):\n",
    "    H2.set_positions([(0,0,0),(0,0,d*Bohr)])\n",
    "    E = H2.get_potential_energy()\n",
    "    F = H2.get_forces()[0,2]\n",
    "    EvsD.append([d, E])\n",
    "    FvsD.append([d, F])\n",
    "    print(f'{d:5.2f}: {E:6.2f} {F:6.2f}')"
   ]
  },
  {
   "cell_type": "markdown",
   "id": "initial-shepherd",
   "metadata": {},
   "source": [
    "Reorganize the lists into a matrix (array) for easier manipulation."
   ]
  },
  {
   "cell_type": "code",
   "execution_count": 6,
   "id": "colonial-hygiene",
   "metadata": {},
   "outputs": [],
   "source": [
    "FvsD = np.array(FvsD).T\n",
    "EvsD = np.array(EvsD).T"
   ]
  },
  {
   "cell_type": "markdown",
   "id": "geographic-connection",
   "metadata": {},
   "source": [
    "### Find E(d) minimum"
   ]
  },
  {
   "cell_type": "markdown",
   "id": "respected-maintenance",
   "metadata": {},
   "source": [
    "Fit the fourth order polynomial to the data and find its minimum by finding root of its derivative. The derivative is calculated by standard formula for polynomials. We select a real root between 0.5 and 1. We use here a compact form of iteration known in python as *list comprehensions*."
   ]
  },
  {
   "cell_type": "code",
   "execution_count": 7,
   "id": "rapid-ballot",
   "metadata": {},
   "outputs": [],
   "source": [
    "fit = polyfit(EvsD[0]*Bohr, EvsD[1], 4)\n",
    "\n",
    "mpos = [real(r) for r in roots(fit[:-1] * np.arange(4,0,-1)) \n",
    "        if abs(imag(r))<1e-3 and real(r) < 1 and real(r) > 0.5][0]"
   ]
  },
  {
   "cell_type": "markdown",
   "id": "mediterranean-external",
   "metadata": {},
   "source": [
    "Finally we plot everything on the simple graph."
   ]
  },
  {
   "cell_type": "code",
   "execution_count": 8,
   "id": "italic-diagnosis",
   "metadata": {},
   "outputs": [
    {
     "data": {
      "image/png": "[encoded data removed]",
      "text/plain": [
       "<Figure size 432x288 with 1 Axes>"
      ]
     },
     "metadata": {
      "needs_background": "light"
     },
     "output_type": "display_data"
    }
   ],
   "source": [
    "plot(EvsD[0]*Bohr, EvsD[1], \"o\", label='DFT')\n",
    "d = linspace(1*Bohr,2*Bohr,100)\n",
    "plot(d, np.polyval(fit, d), \"-\", label='Fit')\n",
    "axvline(mpos, ls=':', label=f'min={mpos:.3f}A')\n",
    "xlabel('H-H distance (A)')\n",
    "ylabel('Energy (Ry)')\n",
    "legend();"
   ]
  },
  {
   "cell_type": "markdown",
   "id": "sonic-machine",
   "metadata": {},
   "source": [
    "### Use zero of the interatomic forces"
   ]
  },
  {
   "cell_type": "markdown",
   "id": "pleasant-humanitarian",
   "metadata": {},
   "source": [
    "Alternatively, we can find the place where interatomic forces in the molecule cross zero. We have already calculated the forces with energy. We only need to fit another polynomial and find its real root in the (0.5, 1) A range."
   ]
  },
  {
   "cell_type": "code",
   "execution_count": 9,
   "id": "connected-classic",
   "metadata": {},
   "outputs": [],
   "source": [
    "fit = np.polyfit(FvsD[0]*Bohr, FvsD[1], 4)\n",
    "\n",
    "mpos = [np.real(r) for r in np.roots(fit) \n",
    "        if abs(np.imag(r))<1e-3 and real(r) < 1 and real(r) > 0.5][0]"
   ]
  },
  {
   "cell_type": "markdown",
   "id": "victorian-youth",
   "metadata": {},
   "source": [
    "Plot the results"
   ]
  },
  {
   "cell_type": "code",
   "execution_count": 10,
   "id": "concerned-sterling",
   "metadata": {},
   "outputs": [
    {
     "data": {
      "image/png": "[encoded data removed]",
      "text/plain": [
       "<Figure size 432x288 with 1 Axes>"
      ]
     },
     "metadata": {
      "needs_background": "light"
     },
     "output_type": "display_data"
    }
   ],
   "source": [
    "plot(FvsD[0]*Bohr, FvsD[1], \"o\", label=\"DFT\")\n",
    "d = linspace(1*Bohr,2*Bohr,100)\n",
    "plot(d, np.polyval(fit, d), \"-\", label=\"Fit\")\n",
    "axvline(mpos, ls=':', label=f'min={mpos:.3f}A')\n",
    "xlabel('H-H distance (A)')\n",
    "ylabel('Force (Ry/A)')\n",
    "legend();"
   ]
  },
  {
   "cell_type": "code",
   "execution_count": null,
   "id": "extended-apache",
   "metadata": {},
   "outputs": [],
   "source": []
  }
 ],
 "metadata": {
  "kernelspec": {
   "display_name": "Python 3",
   "language": "python",
   "name": "python3"
  },
  "language_info": {
   "codemirror_mode": {
    "name": "ipython",
    "version": 3
   },
   "file_extension": ".py",
   "mimetype": "text/x-python",
   "name": "python",
   "nbconvert_exporter": "python",
   "pygments_lexer": "ipython3",
   "version": "3.6.12"
  }
 },
 "nbformat": 4,
 "nbformat_minor": 5
}
