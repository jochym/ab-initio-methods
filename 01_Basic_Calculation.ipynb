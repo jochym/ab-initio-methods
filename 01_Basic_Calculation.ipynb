{
 "cells": [
  {
   "cell_type": "code",
   "execution_count": 1,
   "id": "armed-fifteen",
   "metadata": {
    "slideshow": {
     "slide_type": "fragment"
    }
   },
   "outputs": [],
   "source": [
    "from ase import Atoms\n",
    "from ase.build import bulk\n",
    "from ase.units import Ry, Bohr\n",
    "from ase.calculators.abinit import Abinit\n",
    "import os\n",
    "import numpy as np"
   ]
  },
  {
   "cell_type": "code",
   "execution_count": 2,
   "id": "portuguese-shopping",
   "metadata": {},
   "outputs": [],
   "source": [
    "from ase.visualize.plot import plot_atoms"
   ]
  },
  {
   "cell_type": "code",
   "execution_count": 3,
   "id": "meaningful-infection",
   "metadata": {},
   "outputs": [],
   "source": [
    "from matplotlib import pylab as plt"
   ]
  },
  {
   "cell_type": "code",
   "execution_count": 4,
   "id": "studied-ready",
   "metadata": {},
   "outputs": [],
   "source": [
    "from ase.visualize import view"
   ]
  },
  {
   "cell_type": "code",
   "execution_count": 5,
   "id": "first-federal",
   "metadata": {
    "slideshow": {
     "slide_type": "fragment"
    }
   },
   "outputs": [],
   "source": [
    "# Konfiguracja programu abinit\n",
    "os.environ['ASE_ABINIT_COMMAND']='abinit < PREFIX.files > PREFIX.log'\n",
    "os.environ['ABINIT_PP_PATH']='abinit_psp/GGA_FHI/:abinit_psp/LDA_FHI/:abinit_psp/LDA_PAW/:abinit_psp/GGA_PAW/'"
   ]
  },
  {
   "cell_type": "code",
   "execution_count": 6,
   "id": "demonstrated-minnesota",
   "metadata": {},
   "outputs": [],
   "source": [
    "#diam = bulk(name='C',crystalstructure='diamond',a=4)\n",
    "H2 = Atoms(\"H2\", positions=[(0,0,0),(1,0,0)], cell=[10, 10, 10])"
   ]
  },
  {
   "cell_type": "code",
   "execution_count": 7,
   "id": "union-vacuum",
   "metadata": {},
   "outputs": [
    {
     "data": {
      "image/png": "[encoded data removed]",
      "text/plain": [
       "<Figure size 432x288 with 1 Axes>"
      ]
     },
     "metadata": {
      "needs_background": "light"
     },
     "output_type": "display_data"
    }
   ],
   "source": [
    "plot_atoms(H2, colors=2*['C0'], show_unit_cell=1);"
   ]
  },
  {
   "cell_type": "code",
   "execution_count": 16,
   "id": "binary-committee",
   "metadata": {
    "slideshow": {
     "slide_type": "subslide"
    }
   },
   "outputs": [
    {
     "data": {
      "text/plain": [
       "{'toldfe': 0.001}"
      ]
     },
     "execution_count": 16,
     "metadata": {},
     "output_type": "execute_result"
    }
   ],
   "source": [
    "calc = Abinit(label='h2',\n",
    "              nbands=8,  \n",
    "              ecut=10 * Ry,  # !! \n",
    "              kpts=[1, 1, 1],  # !!\n",
    "              chksymbreak=0,\n",
    "              )\n",
    "\n",
    "\n",
    "calc.set(toldfe=1.0e-3)  # !!"
   ]
  },
  {
   "cell_type": "code",
   "execution_count": 17,
   "id": "vanilla-vacuum",
   "metadata": {},
   "outputs": [],
   "source": [
    "H2.set_calculator(calc)"
   ]
  },
  {
   "cell_type": "code",
   "execution_count": 18,
   "id": "challenging-rebate",
   "metadata": {},
   "outputs": [
    {
     "data": {
      "text/plain": [
       "-28.946864721091032"
      ]
     },
     "execution_count": 18,
     "metadata": {},
     "output_type": "execute_result"
    }
   ],
   "source": [
    "H2.get_potential_energy()"
   ]
  },
  {
   "cell_type": "code",
   "execution_count": 19,
   "id": "advanced-latter",
   "metadata": {},
   "outputs": [
    {
     "name": "stdout",
     "output_type": "stream",
     "text": [
      "1.0 [1.0, -27.40108152461274]\n",
      "1.1666666666666667 [1.1666666666666667, -28.88110920906284]\n",
      "1.3333333333333333 [1.3333333333333333, -29.498091936732212]\n",
      "1.5 [1.5, -29.634166960481497]\n",
      "1.6666666666666665 [1.6666666666666665, -29.511389053878872]\n",
      "1.8333333333333333 [1.8333333333333333, -29.258274741373143]\n",
      "2.0 [2.0, -28.946864721091032]\n"
     ]
    }
   ],
   "source": [
    "EvsD = []\n",
    "FvsD = []\n",
    "for d in np.linspace(1, 2, 7):\n",
    "    H2.set_positions([(0,0,0),(0,0,d*Bohr)])\n",
    "    EvsD.append([d,H2.get_potential_energy()])\n",
    "    FvsD.append([d,H2.get_forces()])\n",
    "    print(d, EvsD[-1])"
   ]
  },
  {
   "cell_type": "code",
   "execution_count": 20,
   "id": "capable-occasion",
   "metadata": {},
   "outputs": [],
   "source": [
    "EvsD = np.array(EvsD).T"
   ]
  },
  {
   "cell_type": "code",
   "execution_count": 21,
   "id": "center-debate",
   "metadata": {},
   "outputs": [],
   "source": [
    "fit = np.polyfit(EvsD[0]*Bohr, EvsD[1], 4)"
   ]
  },
  {
   "cell_type": "code",
   "execution_count": 22,
   "id": "immune-mouth",
   "metadata": {},
   "outputs": [],
   "source": [
    "mpos = [np.real(r) for r in np.roots(fit[:-1] * np.arange(4,0,-1)) if abs(np.imag(r))<1e-3][0]"
   ]
  },
  {
   "cell_type": "code",
   "execution_count": 23,
   "id": "frozen-maldives",
   "metadata": {},
   "outputs": [
    {
     "data": {
      "image/png": "[encoded data removed]",
      "text/plain": [
       "<Figure size 432x288 with 1 Axes>"
      ]
     },
     "metadata": {
      "needs_background": "light"
     },
     "output_type": "display_data"
    }
   ],
   "source": [
    "plt.plot(EvsD[0]*Bohr, EvsD[1], \"o\")\n",
    "d = np.linspace(1*Bohr,2*Bohr,100)\n",
    "plt.plot(d, np.polyval(fit, d), \"-\")\n",
    "plt.axvline(mpos, ls=':', label=f'min={mpos:.3f}A')\n",
    "plt.legend();"
   ]
  },
  {
   "cell_type": "code",
   "execution_count": null,
   "id": "sensitive-crisis",
   "metadata": {},
   "outputs": [],
   "source": []
  }
 ],
 "metadata": {
  "kernelspec": {
   "display_name": "Python 3",
   "language": "python",
   "name": "python3"
  },
  "language_info": {
   "codemirror_mode": {
    "name": "ipython",
    "version": 3
   },
   "file_extension": ".py",
   "mimetype": "text/x-python",
   "name": "python",
   "nbconvert_exporter": "python",
   "pygments_lexer": "ipython3",
   "version": "3.6.12"
  }
 },
 "nbformat": 4,
 "nbformat_minor": 5
}
