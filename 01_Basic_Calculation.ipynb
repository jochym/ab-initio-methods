{
 "cells": [
  {
   "cell_type": "markdown",
   "id": "raised-julian",
   "metadata": {},
   "source": [
    "# JupyterLab environment\n",
    "\n",
    "This is the JupyterLab environment containing materials for the *Ab Initio methods* lecture. The environment contains live examples and lecture materials. The document you are reading right now is a **notebook** containig text (like this one) and code **cells**. Each cell can be edited (double click on it or select it and press `Enter`. After editing the cell can be *rendered* (text cell) or *executed* (code cell) by pressing `Shift Enter`. The code cells contain Python code. Fluent knowledge of the python language is not required for understanding of these examples. `Help` menu on the top bar contains links to manuals for Jupyter environment list of keyboard shortcuts, Python language reference (including beginners guide), and manuals for useful function libraries for plotting (Matplotlib) numerical computation (NumPy) varius scientific algorithms (SciPy). Python and JupyterLab references are already opened on the right portion of the screan. The dynamical help panel in the top right corner shows information about objects under the cursor in the notebook.\n",
    "\n",
    "Explore the environement - **you cannot break anything**. If you mess something up you can just close the browser tab and start over from the beginning. \n",
    "\n",
    "**The files are not persistent!** - if you want ot save your work you need to download it to your own machine (right click on the file in the browser on the left and select \"download\")"
   ]
  },
  {
   "cell_type": "markdown",
   "id": "outer-yellow",
   "metadata": {},
   "source": [
    "# Hydrogen molecule with DFT"
   ]
  },
  {
   "cell_type": "markdown",
   "id": "challenging-sequence",
   "metadata": {},
   "source": [
    "The calculation starts with importing necassary tools for the calculation"
   ]
  },
  {
   "cell_type": "code",
   "execution_count": 2,
   "id": "reflected-simple",
   "metadata": {
    "slideshow": {
     "slide_type": "fragment"
    }
   },
   "outputs": [
    {
     "name": "stdout",
     "output_type": "stream",
     "text": [
      "Populating the interactive namespace from numpy and matplotlib\n"
     ]
    }
   ],
   "source": [
    "# Command importing plotting and numerical functions\n",
    "%pylab inline\n",
    "\n",
    "# Atomic Simulation Environment tools\n",
    "from ase import Atoms                      # Object representing groups of atoms\n",
    "from ase.units import Ry, Bohr             # Unit conversion constants\n",
    "from ase.calculators.abinit import Abinit  # AbInit DFT program interface\n",
    "from ase.visualize.plot import plot_atoms  # Simple plotting function"
   ]
  },
  {
   "cell_type": "markdown",
   "id": "current-photography",
   "metadata": {},
   "source": [
    "### Construction of the molecule\n",
    "\n",
    "Here we build the H$_2$ molecule inside a 10x10x10 Angstrom box. The atoms are separated by 1A distance. We check the result by simple plot."
   ]
  },
  {
   "cell_type": "code",
   "execution_count": 3,
   "id": "ordinary-siemens",
   "metadata": {},
   "outputs": [
    {
     "data": {
      "image/png": "[encoded data removed]",
      "text/plain": [
       "<Figure size 432x288 with 1 Axes>"
      ]
     },
     "metadata": {
      "needs_background": "light"
     },
     "output_type": "display_data"
    }
   ],
   "source": [
    "H2 = Atoms(\"H2\", positions=[(0,0,0),(1,0,0)], cell=[10, 10, 10])\n",
    "plot_atoms(H2, colors=2*['C0'], show_unit_cell=1);"
   ]
  },
  {
   "cell_type": "markdown",
   "id": "lesbian-zoning",
   "metadata": {},
   "source": [
    "### Defining DFT calculator\n",
    "\n",
    "Define the AbInit calculator object with all required parameters:\n",
    "\n",
    "* `label` name\n",
    "* `nbands` number of electronic bands per atom\n",
    "* `ecut` cutoff energy for the plane wave representation of wavefunctions\n",
    "* `kpts` grid of k-points for reciprocal space integrations\n",
    "* `toldfe` convergence cryterion for electronic states iteration\n",
    "\n",
    "The variables marked with double exclamation points (!!) are critical for the accuracy or sometimes even validity of the results. After defining the calculator we assign it to the H2 molecule defined above. The parameters used here are optimized for speed *not* accuracy."
   ]
  },
  {
   "cell_type": "code",
   "execution_count": 14,
   "id": "prompt-width",
   "metadata": {},
   "outputs": [],
   "source": [
    "calc = Abinit(label='h2',\n",
    "              nbands=2,           # !!\n",
    "              ecut= 8 * Ry,       # !! \n",
    "              kpts=[1, 1, 1],     # !!\n",
    "              toldfe=1.0e-3,      # !!\n",
    "              xc='PBE',           # try 'PBE'\n",
    "              pps='hgh',\n",
    "              directory=\"work\",\n",
    "              v8_legacy_format=True\n",
    "              )\n",
    "\n",
    "H2.set_calculator(calc)"
   ]
  },
  {
   "cell_type": "markdown",
   "id": "steady-alpha",
   "metadata": {},
   "source": [
    "Finally, we can run a simple calculation of total energy of the H2 molecule."
   ]
  },
  {
   "cell_type": "code",
   "execution_count": 15,
   "id": "lightweight-advertising",
   "metadata": {},
   "outputs": [
    {
     "data": {
      "text/plain": [
       "-28.648537811351922"
      ]
     },
     "execution_count": 15,
     "metadata": {},
     "output_type": "execute_result"
    }
   ],
   "source": [
    "H2.get_potential_energy()"
   ]
  },
  {
   "cell_type": "markdown",
   "id": "turkish-roads",
   "metadata": {},
   "source": [
    "## Calculation of H2 bond length\n",
    "\n",
    "To calculate the equilibrium bond length of the molecule we need to plot energy (`E`)\n",
    "of the molecule for several H-H distances `d` and find its minimum by fitting the 4$^{th}$ order polynomial to the data points and locating its minimum by findig root of the derivative.\n",
    "\n",
    "First we calculate, for few distances `d` in the range 1-2A, energies `E` and forces `F` and put them in two lists `EvsD` and `FvsD` respectively."
   ]
  },
  {
   "cell_type": "code",
   "execution_count": 16,
   "id": "missing-luxury",
   "metadata": {},
   "outputs": [
    {
     "name": "stdout",
     "output_type": "stream",
     "text": [
      "   d      E      F\n",
      "---------------------\n",
      " 1.00: -26.17 -28.11\n",
      " 1.17: -27.99 -14.30\n",
      " 1.33: -28.86  -6.11\n",
      " 1.50: -29.17  -1.29\n",
      " 1.67: -29.15   1.45\n",
      " 1.83: -28.94   2.91\n",
      " 2.00: -28.65   3.62\n"
     ]
    }
   ],
   "source": [
    "EvsD = []\n",
    "FvsD = []\n",
    "print('   d      E      F\\n---------------------')\n",
    "for d in np.linspace(1, 2, 7):\n",
    "    H2.set_positions([(0,0,0),(0,0,d*Bohr)])\n",
    "    E = H2.get_potential_energy()\n",
    "    F = H2.get_forces()[0,2]\n",
    "    EvsD.append([d, E])\n",
    "    FvsD.append([d, F])\n",
    "    print(f'{d:5.2f}: {E:6.2f} {F:6.2f}')"
   ]
  },
  {
   "cell_type": "markdown",
   "id": "contemporary-string",
   "metadata": {},
   "source": [
    "Reorganize the lists into a matrix (array) for easier manipulation."
   ]
  },
  {
   "cell_type": "code",
   "execution_count": 17,
   "id": "statewide-birth",
   "metadata": {},
   "outputs": [],
   "source": [
    "FvsD = np.array(FvsD).T\n",
    "EvsD = np.array(EvsD).T"
   ]
  },
  {
   "cell_type": "markdown",
   "id": "opened-jerusalem",
   "metadata": {},
   "source": [
    "### Find E(d) minimum"
   ]
  },
  {
   "cell_type": "markdown",
   "id": "cellular-level",
   "metadata": {},
   "source": [
    "Fit the fourth order polynomial to the data and find its minimum by finding root of its derivative. The derivative is calculated by standard formula for polynomials. We select a real root between 0.5 and 1. We use here a compact form of iteration known in python as *list comprehensions*."
   ]
  },
  {
   "cell_type": "code",
   "execution_count": 18,
   "id": "supreme-perfume",
   "metadata": {},
   "outputs": [],
   "source": [
    "fit = polyfit(EvsD[0]*Bohr, EvsD[1], 4)\n",
    "\n",
    "mpos = [real(r) for r in roots(fit[:-1] * np.arange(4,0,-1)) \n",
    "        if abs(imag(r))<1e-3 and real(r) < 1 and real(r) > 0.5][0]"
   ]
  },
  {
   "cell_type": "markdown",
   "id": "broadband-montgomery",
   "metadata": {},
   "source": [
    "Finally we plot everything on the simple graph."
   ]
  },
  {
   "cell_type": "code",
   "execution_count": 19,
   "id": "neural-intent",
   "metadata": {},
   "outputs": [
    {
     "data": {
      "image/png": "[encoded data removed]",
      "text/plain": [
       "<Figure size 432x288 with 1 Axes>"
      ]
     },
     "metadata": {
      "needs_background": "light"
     },
     "output_type": "display_data"
    }
   ],
   "source": [
    "plot(EvsD[0]*Bohr, EvsD[1], \"o\", label='DFT')\n",
    "d = linspace(1*Bohr,2*Bohr,100)\n",
    "plot(d, np.polyval(fit, d), \"-\", label='Fit')\n",
    "axvline(mpos, ls=':', label=f'min={mpos:.3f}A')\n",
    "xlabel('H-H distance (A)')\n",
    "ylabel('Energy (Ry)')\n",
    "legend();"
   ]
  },
  {
   "cell_type": "markdown",
   "id": "authorized-workshop",
   "metadata": {},
   "source": [
    "### Find F(d)=0"
   ]
  },
  {
   "cell_type": "markdown",
   "id": "domestic-brighton",
   "metadata": {},
   "source": [
    "Alternatively, we can find the place where interatomic forces in the molecule cross zero. We have already calculated the forces with energy. We only need to fit another polynomial and find its real root in the (0.5, 1) A range."
   ]
  },
  {
   "cell_type": "code",
   "execution_count": 20,
   "id": "young-repair",
   "metadata": {},
   "outputs": [],
   "source": [
    "fit = np.polyfit(FvsD[0]*Bohr, FvsD[1], 4)\n",
    "\n",
    "mpos = [np.real(r) for r in np.roots(fit) \n",
    "        if abs(np.imag(r))<1e-3 and real(r) < 1 and real(r) > 0.5][0]"
   ]
  },
  {
   "cell_type": "markdown",
   "id": "junior-forty",
   "metadata": {},
   "source": [
    "Plot the results"
   ]
  },
  {
   "cell_type": "code",
   "execution_count": 21,
   "id": "micro-kentucky",
   "metadata": {},
   "outputs": [
    {
     "data": {
      "image/png": "[encoded data removed]",
      "text/plain": [
       "<Figure size 432x288 with 1 Axes>"
      ]
     },
     "metadata": {
      "needs_background": "light"
     },
     "output_type": "display_data"
    }
   ],
   "source": [
    "plot(FvsD[0]*Bohr, FvsD[1], \"o\", label=\"DFT\")\n",
    "d = linspace(1*Bohr,2*Bohr,100)\n",
    "plot(d, np.polyval(fit, d), \"-\", label=\"Fit\")\n",
    "axvline(mpos, ls=':', label=f'min={mpos:.3f}A')\n",
    "xlabel('H-H distance (A)')\n",
    "ylabel('Force (Ry/A)')\n",
    "legend();"
   ]
  },
  {
   "cell_type": "code",
   "execution_count": 23,
   "id": "written-pendant",
   "metadata": {},
   "outputs": [],
   "source": []
  },
  {
   "cell_type": "code",
   "execution_count": null,
   "id": "expressed-exposure",
   "metadata": {},
   "outputs": [],
   "source": []
  }
 ],
 "metadata": {
  "kernelspec": {
   "display_name": "Python 3",
   "language": "python",
   "name": "python3"
  },
  "language_info": {
   "codemirror_mode": {
    "name": "ipython",
    "version": 3
   },
   "file_extension": ".py",
   "mimetype": "text/x-python",
   "name": "python",
   "nbconvert_exporter": "python",
   "pygments_lexer": "ipython3",
   "version": "3.6.12"
  }
 },
 "nbformat": 4,
 "nbformat_minor": 5
}
