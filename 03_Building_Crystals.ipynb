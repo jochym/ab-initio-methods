{
 "cells": [
  {
   "cell_type": "markdown",
   "id": "handy-causing",
   "metadata": {},
   "source": [
    "## Building crystal structures"
   ]
  },
  {
   "cell_type": "markdown",
   "id": "associate-intro",
   "metadata": {},
   "source": [
    "Building larger structures is a necessary first step to any ab initio study. The building part may be quite complicated and/or tedious. Fortunately there is a number of tools provided in the ASE `ase.build` library making this job easier. There is a number of functions dedicated to different structures. In this example we will go over few of them:\n",
    "\n",
    "* simple bulk crystals (`bulk`)\n",
    "* common molecules (`molecule`, `ase.data.pubchem`, other database functions)\n",
    "* surfaces (fcc, bcc, hcp, diamond, `surface`)\n",
    "* 1D structures (`nanotube`, `graphene_nanoribbon`)\n",
    "* clusters and nanoparticles (`ase.clusters`)\n",
    "* general crystal builders (`ase.spacegroup.crystal`)\n",
    "* structural transformation tools (`cut`, `stack`, `rotate`, `make_supercell`, etc.)\n",
    "\n",
    "These are just a sample of basic tools. There are other tools dedicated to  multiple tasks from various fields of computational solid state physics and chemistry Visualization, DFT, Vibration analysis, Phonons, Reaction kinematics, Thermochemistry and many others). The detailed documentation is at [ASE documentation site](https://wiki.fysik.dtu.dk/ase/index.html)."
   ]
  },
  {
   "cell_type": "markdown",
   "id": "joined-permission",
   "metadata": {},
   "source": [
    "### Simple crystal\n",
    "\n",
    "Let us build a simple monoatomic crystal (Diamond) using the pre-cooked structure. We will also make a picture of the structure."
   ]
  },
  {
   "cell_type": "code",
   "execution_count": 1,
   "id": "binary-script",
   "metadata": {},
   "outputs": [],
   "source": [
    "from ase.build import bulk\n",
    "from ase.visualize import view"
   ]
  },
  {
   "cell_type": "code",
   "execution_count": 2,
   "id": "statutory-intersection",
   "metadata": {},
   "outputs": [],
   "source": [
    "diamond = bulk('C', crystalstructure='diamond', a=3.567)"
   ]
  },
  {
   "cell_type": "code",
   "execution_count": 3,
   "id": "global-steel",
   "metadata": {},
   "outputs": [
    {
     "data": {
      "application/vnd.jupyter.widget-view+json": {
       "model_id": "427139eb23da4a9e91fed5f116070a7e",
       "version_major": 2,
       "version_minor": 0
      },
      "text/plain": []
     },
     "metadata": {},
     "output_type": "display_data"
    },
    {
     "data": {
      "application/vnd.jupyter.widget-view+json": {
       "model_id": "747307b3edd64b2a9ef4ada703c67865",
       "version_major": 2,
       "version_minor": 0
      },
      "text/plain": [
       "HBox(children=(NGLWidget(), VBox(children=(Dropdown(description='Show', options=('All', 'C'), value='All'), Dr…"
      ]
     },
     "metadata": {},
     "output_type": "display_data"
    }
   ],
   "source": [
    "v = view(diamond, viewer='ngl')\n",
    "v"
   ]
  },
  {
   "cell_type": "code",
   "execution_count": 4,
   "id": "descending-happening",
   "metadata": {},
   "outputs": [],
   "source": [
    "v.view.remove_spacefill()\n",
    "v.view.add_ball_and_stick()"
   ]
  },
  {
   "cell_type": "code",
   "execution_count": null,
   "id": "still-intake",
   "metadata": {},
   "outputs": [],
   "source": []
  }
 ],
 "metadata": {
  "kernelspec": {
   "display_name": "Python 3",
   "language": "python",
   "name": "python3"
  },
  "language_info": {
   "codemirror_mode": {
    "name": "ipython",
    "version": 3
   },
   "file_extension": ".py",
   "mimetype": "text/x-python",
   "name": "python",
   "nbconvert_exporter": "python",
   "pygments_lexer": "ipython3",
   "version": "3.6.13"
  }
 },
 "nbformat": 4,
 "nbformat_minor": 5
}
