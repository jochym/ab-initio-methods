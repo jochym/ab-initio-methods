{
 "cells": [
  {
   "cell_type": "markdown",
   "id": "5bd44597-d660-405a-a4cf-ebae97b257aa",
   "metadata": {},
   "source": [
    "## Density Functional Perturbation Theory (DFPT)\n",
    "---\n",
    "\n",
    "In this notebook we will move to the perturbation theory calculation of phonon frequencies. This type of calculation is another step up on the scale of computational complexity and demands. Thus, the warnings about *not* following blindly the presented scheme in the real calculations applies here even more. The calculation is modeled after one of the AbInit tutorials.\n",
    "\n",
    "We will calculate for AsAl:\n",
    "- Dynamical matrix at $\\Gamma$ and X\n",
    "- Phonon frequencies at $\\Gamma$ and X\n",
    "- Born effective charges\n",
    "- Dielectric tensor\n",
    "- LO-TO splitting\n"
   ]
  },
  {
   "cell_type": "markdown",
   "id": "68bd7d6d-df37-49a8-b148-2a6df04e3f95",
   "metadata": {},
   "source": [
    "### Calculation setup"
   ]
  },
  {
   "cell_type": "code",
   "execution_count": 2,
   "id": "8a0b04f9",
   "metadata": {},
   "outputs": [
    {
     "name": "stdout",
     "output_type": "stream",
     "text": [
      "Populating the interactive namespace from numpy and matplotlib\n"
     ]
    }
   ],
   "source": [
    "%pylab inline\n",
    "import ase\n",
    "import ase.io\n",
    "from ase.spacegroup import crystal\n",
    "from ase.calculators.abinit import Abinit\n",
    "from ase import units as un\n",
    "from elastic import get_pressure\n",
    "\n",
    "# Utility functions\n",
    "from tqdm.auto import tqdm\n",
    "import spglib"
   ]
  },
  {
   "cell_type": "code",
   "execution_count": 86,
   "id": "814f5d1e-44df-4c70-88c9-0cec68c6f917",
   "metadata": {
    "jupyter": {
     "source_hidden": true
    },
    "tags": []
   },
   "outputs": [],
   "source": [
    "import subprocess\n",
    "from ase.calculators.calculator import CalculationFailed\n",
    "\n",
    "def run_calc(cryst):\n",
    "    '''\n",
    "    Run the calculation without reading back any results into cryst.\n",
    "    '''\n",
    "    cryst.calc.write_input(cryst, ['energy'], ['positions'])\n",
    "    cmd = cryst.calc.command.replace('PREFIX', cryst.calc.prefix)\n",
    "    proc = subprocess.Popen(cmd, shell=True, cwd=cryst.calc.directory)\n",
    "    errorcode = proc.wait()\n",
    "    if errorcode:\n",
    "        path = os.path.abspath(cryst.calc.directory)\n",
    "        msg = ('Calculator \"{}\" failed with command \"{}\" failed in '\n",
    "               '{} with error code {}'.format(cryst.calc.name, cmd,\n",
    "                                              path, errorcode))\n",
    "        raise CalculationFailed(msg)\n",
    "    return True\n",
    "\n",
    "\n",
    "def scan_param(cryst, param, start=0, stop=1, steps=7, \n",
    "               lista=None, log_scale=True, int_par=False):\n",
    "    '''\n",
    "    Scan a range of parameter param and plot \n",
    "    '''\n",
    "    fi = lambda x: x\n",
    "    fo = lambda x: x\n",
    "\n",
    "    if lista is None:\n",
    "        if log_scale :\n",
    "            fi = log\n",
    "            fo = exp\n",
    "        lista = linspace(fi(start), fi(stop), steps)\n",
    "    else :\n",
    "        int_par=False\n",
    "    \n",
    "    dat = []\n",
    "    vs = []\n",
    "        \n",
    "    for v in lista:\n",
    "        print(f'{param}={fo(v)}: ', end='')\n",
    "        if int_par:\n",
    "            cryst.calc.set(**{param: int(fo(v))})\n",
    "        else :\n",
    "            cryst.calc.set(**{param: fo(v)})\n",
    "        vs.append(fo(v))\n",
    "        dat.append([cryst.get_potential_energy(),\n",
    "                    cryst.get_stress()[:3].mean()])\n",
    "        print(f'{dat[-1][0]:.3f} eV ; {dat[-1][1]/un.GPa:6.3f} GPa',)\n",
    "    dat = array(dat).T\n",
    "    return vs, dat"
   ]
  },
  {
   "cell_type": "code",
   "execution_count": 123,
   "id": "4493dee0-5fab-426b-a9ba-e61a244344f0",
   "metadata": {},
   "outputs": [
    {
     "data": {
      "text/plain": [
       "array([ 3.9701,  3.9701,  3.9701, 60.    , 60.    , 60.    ])"
      ]
     },
     "execution_count": 123,
     "metadata": {},
     "output_type": "execute_result"
    }
   ],
   "source": [
    "a = 5.61456927\n",
    "prim = crystal(('As','Al'), basis=((0,0,0), (1/4,1/4,1/4)), \n",
    "        spacegroup=216, cellpar=(a, a, a, 90, 90, 90),\n",
    "        primitive_cell=True)\n",
    "\n",
    "prim.cell.cellpar()"
   ]
  },
  {
   "cell_type": "code",
   "execution_count": 19,
   "id": "f011cfad-83d1-4035-8753-5d45fc78c1d7",
   "metadata": {},
   "outputs": [
    {
     "data": {
      "text/plain": [
       "array([[0.  , 0.  , 0.  ],\n",
       "       [0.25, 0.25, 0.25]])"
      ]
     },
     "execution_count": 19,
     "metadata": {},
     "output_type": "execute_result"
    }
   ],
   "source": [
    "prim.get_scaled_positions()"
   ]
  },
  {
   "cell_type": "code",
   "execution_count": 69,
   "id": "ce34ce99-b7d9-49e8-948f-8cd09bb0aea4",
   "metadata": {},
   "outputs": [
    {
     "data": {
      "text/plain": [
       "'F-43m (216)'"
      ]
     },
     "execution_count": 69,
     "metadata": {},
     "output_type": "execute_result"
    }
   ],
   "source": [
    "spglib.get_spacegroup(prim)"
   ]
  },
  {
   "cell_type": "code",
   "execution_count": 14,
   "id": "92e92ec1-c2e5-4892-97f8-0a0fc303df60",
   "metadata": {},
   "outputs": [],
   "source": [
    "lat = prim.cell.get_bravais_lattice()\n",
    "print(lat.description())"
   ]
  },
  {
   "cell_type": "code",
   "execution_count": 15,
   "id": "79484e15-4c80-40f9-a0b7-a11bd29de8fc",
   "metadata": {},
   "outputs": [],
   "source": [
    "work_dir = 'work_10'"
   ]
  },
  {
   "cell_type": "code",
   "execution_count": 53,
   "id": "0f6020a5",
   "metadata": {},
   "outputs": [],
   "source": [
    "def create_calculator(label, directory=work_dir, ecut=420):\n",
    "    return Abinit(label=label, directory=directory, v8_legacy_format=True,              \n",
    "              ecut= ecut,\n",
    "              pps = 'pspnc',\n",
    "              #pps = 'pawxml', pawecutdg = 750, xc = 'GGA', toldfe = 1.0e-6,\n",
    "              tolvrs=1.0e-18,\n",
    "              nband=4,\n",
    "              diemac=9.0,\n",
    "              nstep=15,\n",
    "              kptrlatt=[[-4,  4,  4],\n",
    "                        [ 4, -4,  4],\n",
    "                        [ 4,  4, -4]]\n",
    "              )"
   ]
  },
  {
   "cell_type": "code",
   "execution_count": 54,
   "id": "ae9d4731",
   "metadata": {},
   "outputs": [],
   "source": [
    "calc = create_calculator(label='AsAl')\n",
    "prim.set_calculator(calc)"
   ]
  },
  {
   "cell_type": "code",
   "execution_count": 55,
   "id": "56ee0fcb",
   "metadata": {},
   "outputs": [
    {
     "name": "stdout",
     "output_type": "stream",
     "text": [
      "  Energy:  -276.122 eV\n",
      "  Stress: [   -0.07  -0.07  -0.07   0.00   0.00   0.00 ] GPa\n",
      "Pressure:     0.068 GPa\n"
     ]
    }
   ],
   "source": [
    "print(f'  Energy:  {prim.get_potential_energy():.3f} eV')\n",
    "print( '  Stress: [', 6*' %6.2f' % tuple(prim.get_stress()/un.GPa), '] GPa')\n",
    "print(f'Pressure:     {get_pressure(prim.get_stress())/un.GPa:.3f} GPa')"
   ]
  },
  {
   "cell_type": "code",
   "execution_count": 58,
   "id": "a6020342",
   "metadata": {},
   "outputs": [
    {
     "data": {
      "text/plain": [
       "array([[-0., -0., -0.],\n",
       "       [-0., -0., -0.]])"
      ]
     },
     "execution_count": 58,
     "metadata": {},
     "output_type": "execute_result"
    }
   ],
   "source": [
    "prim.get_forces()"
   ]
  },
  {
   "cell_type": "markdown",
   "id": "b7f4025d-04a8-4c98-b348-30e38c3abada",
   "metadata": {},
   "source": [
    "### Convergence scan\n",
    "---\n",
    "This is a reminder that you should *always* perform convergence analysis of your calculations. We can skip this step by setting `Scan_Corvengence = False` , since we have already performed this analysis in previous part."
   ]
  },
  {
   "cell_type": "code",
   "execution_count": 56,
   "id": "75bb908b",
   "metadata": {},
   "outputs": [],
   "source": [
    "Scan_Corvengence = False"
   ]
  },
  {
   "cell_type": "code",
   "execution_count": 57,
   "id": "c976ad45",
   "metadata": {},
   "outputs": [],
   "source": [
    "if Scan_Corvengence :\n",
    "    ecut = prim.calc.parameters['ecut']\n",
    "    ecuts, eres = scan_param(prim, 'ecut', 200, 500)\n",
    "\n",
    "    figsize(6,6)\n",
    "    subplot(211)\n",
    "    plot(ecuts, eres[0], 'o')\n",
    "    ylabel('Energy (eV)')\n",
    "    subplot(212)\n",
    "    plot(ecuts, eres[1]/un.GPa, 'o')\n",
    "    ylabel('Pressure (GPa)')\n",
    "    xlabel('ecut (eV)');\n",
    "    prim.calc.set(ecut=ecut)"
   ]
  },
  {
   "cell_type": "markdown",
   "id": "f516d8b7-af7b-4c9e-98d5-b0650e29423c",
   "metadata": {},
   "source": [
    "### DFPT calculations\n",
    "---"
   ]
  },
  {
   "cell_type": "code",
   "execution_count": 124,
   "id": "151b42f9-164b-4f00-852e-10f01eaa1567",
   "metadata": {},
   "outputs": [
    {
     "data": {
      "text/plain": [
       "{'ndtset': 4,\n",
       " 'kptopt1': 1,\n",
       " 'tolvrs1': 1e-18,\n",
       " 'rfelfd2': 2,\n",
       " 'rfdir2': [1, 0, 0],\n",
       " 'nqpt2': 1,\n",
       " 'qpt2': [0.0, 0.0, 0.0],\n",
       " 'getwfk2': -1,\n",
       " 'kptopt2': 2,\n",
       " 'iscf2': -3,\n",
       " 'tolwfr2': 1e-22,\n",
       " 'rfphon3': 1,\n",
       " 'rfatpol3': [1, 2],\n",
       " 'rfelfd3': 3,\n",
       " 'rfdir3': [1, 1, 1],\n",
       " 'nqpt3': 1,\n",
       " 'qpt3': [0.0, 0.0, 0.0],\n",
       " 'getwfk3': -2,\n",
       " 'getddk3': -1,\n",
       " 'kptopt3': 2,\n",
       " 'tolvrs3': 1e-08,\n",
       " 'rfphon4': 1,\n",
       " 'rfatpol4': [1, 2],\n",
       " 'rfdir4': [1, 1, 1],\n",
       " 'nqpt4': 1,\n",
       " 'qpt4': [0.0, 0.5, 0.5],\n",
       " 'getwfk4': 1,\n",
       " 'kptopt4': 3,\n",
       " 'tolvrs4': 1e-08}"
      ]
     },
     "execution_count": 124,
     "metadata": {},
     "output_type": "execute_result"
    }
   ],
   "source": [
    "cr = ase.Atoms(prim)\n",
    "cr.set_calculator(create_calculator('AsAl_3'))\n",
    "cr.calc.set(ndtset=4,\n",
    "            \n",
    "            #Ground state calculation\n",
    "            kptopt1=1,              # Automatic generation of k points, taking\n",
    "                                    # into account the symmetry\n",
    "            tolvrs1=1.0e-18,        # SCF stopping criterion\n",
    "            \n",
    "            #Response Function calculation : d/dk\n",
    "            rfelfd2=2,              # Activate the calculation of the d/dk perturbation\n",
    "            rfdir2=[1, 0, 0],       # Need to consider the perturbation in the x-direction only\n",
    "                                    # This is rather specific, due to the high symmetry of the AlAs crystal\n",
    "                                    # In general, just use rfdir 1 1 1\n",
    "                                    # In the present version of ABINIT (v4.6), symmetry cannot be used\n",
    "                                    # to reduce the number of ddk perturbations\n",
    "            nqpt2=1,\n",
    "            qpt2=[0.0, 0.0, 0.0],   # This is a calculation at the Gamma point\n",
    "\n",
    "            getwfk2=-1,             # Uses as input the output wf of the previous dataset\n",
    "\n",
    "            kptopt2=2,              # Automatic generation of k points,\n",
    "                                    # using only the time-reversal symmetry to decrease\n",
    "                                    # the size of the k point set.\n",
    "\n",
    "            iscf2=-3,               # The d/dk perturbation must be treated \n",
    "                                    # in a non-self-consistent way\n",
    "            tolwfr2=1.0e-22,        # Must use tolwfr for non-self-consistent calculations\n",
    "                                    # Here, the value of tolwfr is very low.          \n",
    "            \n",
    "            #Response Function calculation : electric field perturbation and phonons\n",
    "            rfphon3=1,              # Activate the calculation of the atomic dispacement perturbations\n",
    "            rfatpol3=[1, 2],        # All the atoms will be displaced\n",
    "            rfelfd3=3,              # Activate the calculation of the electric field perturbation\n",
    "            rfdir3=[1, 1, 1],       # All directions are selected. However, symmetries will be used to decrease\n",
    "                                    # the number of perturbations, so only the x electric field is needed\n",
    "                                    # (and this explains why in the second dataset, rfdir was set to 1 0 0).\n",
    "\n",
    "            nqpt3=1,\n",
    "            qpt3=[0.0, 0.0, 0.0],   # This is a calculation at the Gamma point\n",
    "\n",
    "            getwfk3=-2,             # Uses as input wfs the output wfs of the dataset 1\n",
    "            getddk3=-1,             # Uses as input ddk wfs the output of the dataset 2\n",
    "\n",
    "            kptopt3=2,              # Automatic generation of k points,\n",
    "                                    # using only the time-reversal symmetry to decrease\n",
    "                                    # the size of the k point set.\n",
    "            tolvrs3=1.0e-8,\n",
    "            \n",
    "            #Response Function calculation : phonon at X\n",
    "              rfphon4 = 1,            # Activate the calculation of the atomic dispacement perturbations\n",
    "             rfatpol4 = [1,2],           # All the atoms will be displaced\n",
    "               rfdir4 = [1,1,1],         # Need all directions but ABINIT will use symmetries if possible\n",
    "\n",
    "                nqpt4 = 1,\n",
    "                 qpt4 = [0.0,0.5,0.5],   # This is a calculation at the X point\n",
    "\n",
    "              getwfk4 = 1,            # Uses as input wfs the output wfs of the dataset 1\n",
    "\n",
    "              kptopt4 = 3,            # Automatic generation of k points,\n",
    "                                      # no use of symmetries to decrease \n",
    "                                      # the size of the k point set.\n",
    "              tolvrs4 = 1.0e-8,\n",
    "\n",
    "           )\n"
   ]
  },
  {
   "cell_type": "code",
   "execution_count": null,
   "id": "81dca93c-9c45-4f9f-b876-d95cfee9c232",
   "metadata": {},
   "outputs": [],
   "source": [
    "run_calc(cr)"
   ]
  },
  {
   "cell_type": "markdown",
   "id": "dacb6349-e8d6-40fd-89e6-b2033a7b0081",
   "metadata": {},
   "source": [
    "### Extract the results\n",
    "---\n",
    "\n",
    "The following code is a simple state machine extracting data from the output file.\n",
    "The code is an ad-hoc type but can be adapted to extracting other data."
   ]
  },
  {
   "cell_type": "code",
   "execution_count": 127,
   "id": "9f823bf3-b8ac-4594-870c-075a111778ce",
   "metadata": {},
   "outputs": [
    {
     "name": "stdout",
     "output_type": "stream",
     "text": [
      "\n",
      "Dielectric tensor:\n",
      " [[10.49162258  0.          0.        ]\n",
      " [ 0.         10.49162258  0.        ]\n",
      " [ 0.          0.         10.49162258]]\n",
      "\n",
      "Effective charges (from electric field response):\n",
      "[[-2.17820736  0.         -0.        ]\n",
      " [ 2.09060374  0.          0.        ]\n",
      " [ 0.         -2.17820736 -0.        ]\n",
      " [ 0.          2.09060374  0.        ]\n",
      " [ 0.         -0.         -2.17820736]\n",
      " [ 0.          0.          2.09060374]]\n",
      "\n",
      "Effective charges (from phonon response):\n",
      "[[-2.1782074   0.          0.        ]\n",
      " [ 0.         -2.1782074   0.        ]\n",
      " [-0.         -0.         -2.1782074 ]\n",
      " [ 2.09060389  0.          0.        ]\n",
      " [ 0.          2.09060389  0.        ]\n",
      " [ 0.          0.          2.09060389]]\n",
      "\n",
      "k-point: [0.0, 0.0, 0.0]\n",
      "Frequencies (cm^-1):\n",
      " [-0.09953807, -0.09953763, -0.0995363, 365.5292, 365.5292, 365.5292]\n",
      "\n",
      "Direction: [1.0, 0.0, 0.0]\n",
      "Frequencies (cm^-1):\n",
      " [-0.09953807, -0.09953763, 2.600481, 365.5292, 365.5292, 396.8464]\n",
      "\n",
      "Direction: [0.0, 1.0, 0.0]\n",
      "Frequencies (cm^-1):\n",
      " [-0.09953807, -0.0995363, 2.600481, 365.5292, 365.5292, 396.8464]\n",
      "\n",
      "Direction: [0.0, 0.0, 1.0]\n",
      "Frequencies (cm^-1):\n",
      " [-0.09953763, -0.0995363, 2.600481, 365.5292, 365.5292, 396.8464]\n",
      "\n",
      "\n",
      "k-point: [0.0, 0.5, 0.5]\n",
      "Frequencies (cm^-1):\n",
      " [89.55837, 89.55837, 214.4075, 337.1724, 337.1724, 390.8247]\n"
     ]
    }
   ],
   "source": [
    "with open(f'{cr.calc.label}.txt') as of:\n",
    "    st = 0\n",
    "    for l in of:\n",
    "        if st==0 and 'Phonon wavevector' in l :\n",
    "            st=1\n",
    "            print(f'\\nk-point: {[float(v) for v in l.split()[-3:]]}')\n",
    "\n",
    "        if 0<st:\n",
    "            #print('>>>', l.strip())\n",
    "            pass\n",
    "            \n",
    "        tok = [] \n",
    "        if st > 0:\n",
    "            tok = l[1:].split()\n",
    "\n",
    "        if st==2 and len(tok)==6:\n",
    "            dt.append(float(l.split()[4]))\n",
    "            if len(dt)==9:\n",
    "                dt=array(dt).reshape((3,3))\n",
    "                print('\\nDielectric tensor:\\n', dt)\n",
    "                st=0\n",
    "            \n",
    "        if st==0 and 'Dielectric tensor' in l:\n",
    "            dt=[]\n",
    "            st=2\n",
    "            continue\n",
    "\n",
    "            \n",
    "        if st==31 and len(tok)==6:\n",
    "            ec.append(float(l.split()[4]))\n",
    "            if len(ec)==18:\n",
    "                ec=array(ec).reshape((-1,3))\n",
    "                print(ec)\n",
    "                st=0                  \n",
    "\n",
    "        if st==3 and '(from':\n",
    "            print(f'\\nEffective charges {l.strip()}:')\n",
    "            st=31\n",
    "            continue\n",
    "            \n",
    "        if st==0 and 'Effective charges' in l:\n",
    "            st=3\n",
    "            ec=[]\n",
    "            continue\n",
    "            \n",
    "            \n",
    "        if st==11 :\n",
    "            if tok:\n",
    "                frqs += [float(v) for v in tok]\n",
    "            else :\n",
    "                print('Frequencies (cm^-1):\\n', frqs)\n",
    "                st=1\n",
    "            \n",
    "        if st==1 :\n",
    "            if 'cm-1' in l:\n",
    "                st=11\n",
    "                frqs = []\n",
    "            if 'direction' in tok[:1]:\n",
    "                print(f'\\nDirection: {[float(v) for v in l.split()[-3:]]}')\n",
    "        \n",
    "        if st==1 and '== DATASET' in l:\n",
    "            print()\n",
    "            st=0\n",
    "\n"
   ]
  },
  {
   "cell_type": "code",
   "execution_count": null,
   "id": "5ea94c08-6900-482b-898c-ce1027140a31",
   "metadata": {},
   "outputs": [],
   "source": []
  },
  {
   "cell_type": "code",
   "execution_count": null,
   "id": "878303e5-99c3-4e21-b783-35e175a0865b",
   "metadata": {},
   "outputs": [],
   "source": []
  }
 ],
 "metadata": {
  "kernelspec": {
   "display_name": "Python 3",
   "language": "python",
   "name": "python3"
  },
  "language_info": {
   "codemirror_mode": {
    "name": "ipython",
    "version": 3
   },
   "file_extension": ".py",
   "mimetype": "text/x-python",
   "name": "python",
   "nbconvert_exporter": "python",
   "pygments_lexer": "ipython3",
   "version": "3.6.13"
  }
 },
 "nbformat": 4,
 "nbformat_minor": 5
}
