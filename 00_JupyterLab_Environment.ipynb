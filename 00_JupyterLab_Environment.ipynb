{
 "cells": [
  {
   "cell_type": "markdown",
   "id": "broad-medline",
   "metadata": {},
   "source": [
    "# JupyterLab environment\n",
    "\n",
    "This is the JupyterLab environment containing materials for the *Ab Initio methods* lecture. The environment contains live examples and lecture materials. The document you are reading right now is a **notebook** containing text (like this one) and code **cells**. Each cell can be edited (double click on it or select it and press `Enter`. After editing the cell can be *rendered* (text cell) or *executed* (code cell) by pressing `Shift Enter`. The code cells contain Python code. Fluent knowledge of the python language is not required for understanding of these examples. `Help` menu on the top bar contains links to manuals for Jupyter environment list of keyboard shortcuts, Python language reference (including beginners guide), and manuals for useful function libraries for plotting (Matplotlib) numerical computation (NumPy) various scientific algorithms (SciPy). Python and JupyterLab references are already opened on the right portion of the screen. The dynamical help panel in the top right corner shows information about objects under the cursor in the notebook.\n",
    "\n",
    "Explore the environment - **you cannot break anything**. If you mess something up you can just close the browser tab and start over from the beginning. \n",
    "\n",
    "**The files are not persistent!** - if you want ot save your work you need to download it to your own machine (right click on the file in the browser on the left and select \"download\")"
   ]
  }
 ],
 "metadata": {
  "kernelspec": {
   "display_name": "Python 3",
   "language": "python",
   "name": "python3"
  },
  "language_info": {
   "codemirror_mode": {
    "name": "ipython",
    "version": 3
   },
   "file_extension": ".py",
   "mimetype": "text/x-python",
   "name": "python",
   "nbconvert_exporter": "python",
   "pygments_lexer": "ipython3",
   "version": "3.6.13"
  }
 },
 "nbformat": 4,
 "nbformat_minor": 5
}
