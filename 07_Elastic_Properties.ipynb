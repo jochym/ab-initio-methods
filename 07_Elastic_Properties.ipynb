{
 "cells": [
  {
   "cell_type": "code",
   "execution_count": 2,
   "id": "1aa50a72",
   "metadata": {},
   "outputs": [
    {
     "name": "stdout",
     "output_type": "stream",
     "text": [
      "Populating the interactive namespace from numpy and matplotlib\n"
     ]
    },
    {
     "data": {
      "application/vnd.jupyter.widget-view+json": {
       "model_id": "ea1b3937a22547e7b563eecf5eccbe6c",
       "version_major": 2,
       "version_minor": 0
      },
      "text/plain": []
     },
     "metadata": {},
     "output_type": "display_data"
    }
   ],
   "source": [
    "%pylab inline\n",
    "import ase\n",
    "import ase.io\n",
    "from ase.spacegroup import crystal\n",
    "from ase.calculators.abinit import Abinit\n",
    "from ase import units as un\n",
    "\n",
    "# Import functions from elastic library\n",
    "from elastic import get_pressure, BMEOS, get_strain\n",
    "from elastic import get_elementary_deformations, scan_volumes\n",
    "from elastic.elastic import get_cart_deformed_cell\n",
    "from elastic import get_BM_EOS, get_elastic_tensor\n",
    "\n",
    "# Utility functions\n",
    "from tqdm.auto import tqdm\n",
    "from ipywidgets import interact, fixed\n",
    "import nglview as nv"
   ]
  },
  {
   "cell_type": "code",
   "execution_count": 4,
   "id": "ecb4cff5",
   "metadata": {
    "jupyter": {
     "source_hidden": true
    }
   },
   "outputs": [],
   "source": [
    "def show_crystal(cryst):\n",
    "    '''\n",
    "    This function assumes cubic crystal on input. \n",
    "    If you want to use it for other structures you will need to adapt it.\n",
    "    '''\n",
    "    v = nv.NGLWidget()\n",
    "    uc_a=1.5\n",
    "    \n",
    "    #cubic cell\n",
    "    uc = ase.Atoms(\"C8\", scaled_positions=[[0,0,0], \n",
    "                     [1,0,0],\n",
    "                     [0,1,0],\n",
    "                     [0,0,1],\n",
    "                     [0,1,1],\n",
    "                     [1,0,1],\n",
    "                     [1,1,0],\n",
    "                     [1,1,1],\n",
    "                   ], cell=[uc_a,uc_a,uc_a])\n",
    "\n",
    "    #cubic crystal\n",
    "    a = cryst.cell.cellpar()[0]\n",
    "    v.camera = 'orthographic'\n",
    "    v.parameters = { \"clipDist\": 0 }\n",
    "\n",
    "    o = v.add_structure(nv.ASEStructure(cryst))\n",
    "    o.remove_ball_and_stick()\n",
    "    o.add_spacefill(radius_scale=0.5, radiusType='covalent',\n",
    "                            color_scheme='element', color_scale='rainbow')\n",
    "\n",
    "    u = v.add_structure(nv.ASEStructure(uc))\n",
    "    u.remove_spacefill()\n",
    "    u.remove_ball_and_stick()\n",
    "    u.add_line(cross_size=0.1)\n",
    "    u.set_position(tuple((a-uc_a)*ones(3)/2))\n",
    "    u.set_scale(a/uc_a)\n",
    "    v.control.zoom(-1)\n",
    "    v.control.spin([0,0,1], pi/2)\n",
    "    v.control.center([a/2,a/2,a/2])\n",
    "    return v, u, o, uc"
   ]
  },
  {
   "cell_type": "code",
   "execution_count": 5,
   "id": "c4591e2f",
   "metadata": {
    "jupyter": {
     "source_hidden": true
    }
   },
   "outputs": [],
   "source": [
    "def scan_param(cryst, param, start=0, stop=1, steps=7, \n",
    "               lista=None, log_scale=True, int_par=False):\n",
    "    '''\n",
    "    Scan a range of parameter param and plot \n",
    "    '''\n",
    "    fi = lambda x: x\n",
    "    fo = lambda x: x\n",
    "\n",
    "    if lista is None:\n",
    "        if log_scale :\n",
    "            fi = log\n",
    "            fo = exp\n",
    "        lista = linspace(fi(start), fi(stop), steps)\n",
    "    else :\n",
    "        int_par=False\n",
    "    \n",
    "    dat = []\n",
    "    vs = []\n",
    "        \n",
    "    for v in lista:\n",
    "        print(f'{param}={fo(v)}: ', end='')\n",
    "        if int_par:\n",
    "            cryst.calc.set(**{param: int(fo(v))})\n",
    "        else :\n",
    "            cryst.calc.set(**{param: fo(v)})\n",
    "        vs.append(fo(v))\n",
    "        dat.append([cryst.get_potential_energy(),\n",
    "                    cryst.get_stress()[:3].mean()])\n",
    "        print(f'{dat[-1][0]:.3f} eV ; {dat[-1][1]/un.GPa:6.3f} GPa',)\n",
    "    dat = array(dat).T\n",
    "    return vs, dat"
   ]
  },
  {
   "cell_type": "code",
   "execution_count": 6,
   "id": "d3f2241b",
   "metadata": {},
   "outputs": [],
   "source": [
    "a = 4.194\n",
    "cryst = crystal(['Mg', 'O'], \n",
    "                [(0, 0, 0), (0.5, 0.5, 0.5)], \n",
    "                spacegroup=225,\n",
    "                cellpar=[a, a, a, 90, 90, 90])"
   ]
  },
  {
   "cell_type": "code",
   "execution_count": 7,
   "id": "11368bbb",
   "metadata": {},
   "outputs": [
    {
     "data": {
      "application/vnd.jupyter.widget-view+json": {
       "model_id": "bc82d8b567f94f33aa31c415e9554976",
       "version_major": 2,
       "version_minor": 0
      },
      "text/plain": [
       "NGLWidget()"
      ]
     },
     "metadata": {},
     "output_type": "display_data"
    }
   ],
   "source": [
    "v, ucv, crv, uc = show_crystal(cryst)\n",
    "v"
   ]
  },
  {
   "cell_type": "code",
   "execution_count": 8,
   "id": "8a58601f",
   "metadata": {},
   "outputs": [
    {
     "data": {
      "application/vnd.jupyter.widget-view+json": {
       "model_id": "da87813b9d5e40d7aca1f27b41764166",
       "version_major": 2,
       "version_minor": 0
      },
      "text/plain": [
       "interactive(children=(FloatSlider(value=1.0, description='a', max=1.5, min=0.5, step=0.01), FloatSlider(value=…"
      ]
     },
     "metadata": {},
     "output_type": "display_data"
    }
   ],
   "source": [
    "@interact\n",
    "def rot(a=(0.5,1.5,0.01), b=(-1,1,0.01)):\n",
    "    m = array([[a,b,0],\n",
    "               [0,1,0],\n",
    "               [0,0,1]])\n",
    "    cr = ase.Atoms(uc)\n",
    "    cr.set_cell(dot(m, uc.cell.array), scale_atoms=True)\n",
    "    ucv.set_coordinates(cr.get_positions())\n",
    "    cr = ase.Atoms(cryst)\n",
    "    cr.set_cell(dot(m, cryst.cell.array), scale_atoms=True)\n",
    "    crv.set_coordinates(cr.get_positions())"
   ]
  },
  {
   "cell_type": "code",
   "execution_count": 9,
   "id": "567b3e36",
   "metadata": {
    "jupyter": {
     "source_hidden": true
    }
   },
   "outputs": [],
   "source": [
    "def show_deformation(dfrm, cryst=cryst, uc=uc, ucv=ucv, crv=crv, f=200):\n",
    "    def update_view(system, cryst, uc, ucv, crv, factor):\n",
    "        m = dot(system.cell.array, inv(cryst.cell.array))\n",
    "        um = diag(ones(3))\n",
    "        m = factor*(m-um)+um\n",
    "        print(m)\n",
    "        cr = ase.Atoms(uc)\n",
    "        cr.set_cell(dot(m, uc.cell.array), scale_atoms=True)\n",
    "        ucv.set_coordinates(cr.get_positions())\n",
    "        cr = ase.Atoms(cryst)\n",
    "        cr.set_cell(dot(m, cryst.cell.array), scale_atoms=True)\n",
    "        crv.set_coordinates(cr.get_positions())\n",
    "        \n",
    "    interact(update_view, system=dfrm, factor=(1,f+1,1),\n",
    "         cryst=fixed(cryst), uc=fixed(uc), ucv=fixed(ucv), crv=fixed(crv));"
   ]
  },
  {
   "cell_type": "code",
   "execution_count": 10,
   "id": "d9f7f1c9",
   "metadata": {},
   "outputs": [],
   "source": [
    "def create_calculator(label, directory='work_07', ecut=450):\n",
    "    return Abinit(label=label, directory=directory, v8_legacy_format=True,\n",
    "              ecut= ecut,\n",
    "              pps = 'pawxml', pawecutdg = 750, xc = 'GGA',\n",
    "              toldfe=1.0e-6,\n",
    "              diemac=12,\n",
    "              nstep=20,\n",
    "              kptopt=1,\n",
    "              ngkpt=[2,2,2],\n",
    "              nshiftk=1,\n",
    "              shiftk=[[0.5, 0.5, 0.5]],\n",
    "              )"
   ]
  },
  {
   "cell_type": "code",
   "execution_count": 11,
   "id": "2da28822",
   "metadata": {},
   "outputs": [],
   "source": [
    "calc = create_calculator(label='MgO')\n",
    "cryst.set_calculator(calc)"
   ]
  },
  {
   "cell_type": "code",
   "execution_count": 12,
   "id": "7d5b698f",
   "metadata": {},
   "outputs": [
    {
     "name": "stdout",
     "output_type": "stream",
     "text": [
      "  Energy:  -8690.300 eV\n",
      "  Stress: [    2.93   2.93   2.93   0.00   0.00   0.00 ] GPa\n",
      "Pressure:     -2.929 GPa\n"
     ]
    }
   ],
   "source": [
    "print(f'  Energy:  {cryst.get_potential_energy():.3f} eV')\n",
    "print( '  Stress: [', 6*' %6.2f' % tuple(cryst.get_stress()/un.GPa), '] GPa')\n",
    "print(f'Pressure:     {get_pressure(cryst.get_stress())/un.GPa:.3f} GPa')"
   ]
  },
  {
   "cell_type": "code",
   "execution_count": 13,
   "id": "4f30a248",
   "metadata": {},
   "outputs": [],
   "source": [
    "Scan_Corvengence = False"
   ]
  },
  {
   "cell_type": "code",
   "execution_count": 14,
   "id": "845cce38",
   "metadata": {},
   "outputs": [],
   "source": [
    "if Scan_Corvengence :\n",
    "    ecuts, eres = scan_param(cryst, 'ecut', 400, 700, 4)\n",
    "\n",
    "    figsize(6,6)\n",
    "    subplot(211)\n",
    "    plot(ecuts, eres[0], 'o')\n",
    "    ylabel('Energy (eV)')\n",
    "    subplot(212)\n",
    "    plot(ecuts, eres[1]/un.GPa, 'o')\n",
    "    ylabel('Pressure (GPa)')\n",
    "    xlabel('ecut (eV)');\n",
    "    cryst.calc.set(ecut=450)"
   ]
  },
  {
   "cell_type": "markdown",
   "id": "0e15dc12",
   "metadata": {},
   "source": [
    "### Birch-Murnaghan Equation of State\n",
    "\n",
    "---\n",
    "\n",
    "Let us now use the tools provided by the modules to calculate equation\n",
    "of state for the crystal and verify it by plotting the data points\n",
    "against fitted EOS curve. The EOS used by the module is a well\n",
    "established Birch-Murnaghan formula (P - pressure, V - volume, B\n",
    "-parameters):\n",
    "\n",
    "$$P(V)= \\frac{B_0}{B'_0}\\left[\n",
    "\\left({\\frac{V}{V_0}}\\right)^{-B'_0} - 1\n",
    "\\right]$$\n",
    "\n",
    "---"
   ]
  },
  {
   "cell_type": "code",
   "execution_count": 15,
   "id": "d80b7680",
   "metadata": {},
   "outputs": [
    {
     "data": {
      "application/vnd.jupyter.widget-view+json": {
       "model_id": "0cb2c898326c4a27a104db0da2cd8c8e",
       "version_major": 2,
       "version_minor": 0
      },
      "text/plain": [
       "  0%|          | 0/5 [00:00<?, ?it/s]"
      ]
     },
     "metadata": {},
     "output_type": "display_data"
    }
   ],
   "source": [
    "# Calculate few volumes and fit B-M EOS to the result\n",
    "# Use +/-3% volume deformation and 5 data points\n",
    "deform=scan_volumes(cryst, n=5,lo=0.97,hi=1.03)\n",
    "\n",
    "for n, s in enumerate(tqdm(deform)):\n",
    "    s.set_calculator(create_calculator(f'MgO_deform_{n}'))\n",
    "    s.get_stress()"
   ]
  },
  {
   "cell_type": "code",
   "execution_count": 16,
   "id": "0df5543b",
   "metadata": {},
   "outputs": [
    {
     "data": {
      "application/vnd.jupyter.widget-view+json": {
       "model_id": "4874d7cc695e45c6b0f40a844a216b13",
       "version_major": 2,
       "version_minor": 0
      },
      "text/plain": [
       "interactive(children=(Dropdown(description='system', options=(Atoms(symbols='Mg4O4', pbc=True, cell=[4.1516334…"
      ]
     },
     "metadata": {},
     "output_type": "display_data"
    }
   ],
   "source": [
    "show_deformation(deform)"
   ]
  },
  {
   "cell_type": "code",
   "execution_count": 17,
   "id": "e0ed1833",
   "metadata": {},
   "outputs": [
    {
     "name": "stdout",
     "output_type": "stream",
     "text": [
      "V0=72.584 A^3 ; B0=189.99 GPa ; B0'=6.383 ; a0=4.17139 A\n"
     ]
    },
    {
     "data": {
      "image/png": "[encoded data removed]",
      "text/plain": [
       "<Figure size 432x288 with 1 Axes>"
      ]
     },
     "metadata": {
      "needs_background": "light"
     },
     "output_type": "display_data"
    }
   ],
   "source": [
    "# Post-process the results\n",
    "fit=get_BM_EOS(cryst, systems=deform)\n",
    "\n",
    "# Print just fitted parameters\n",
    "print(\"V0=%.3f A^3 ; B0=%.2f GPa ; B0'=%.3f ; a0=%.5f A\" % ( \n",
    "        fit[0], fit[1]/un.GPa, fit[2], pow(fit[0],1./3)))\n",
    "\n",
    "v0=fit[0]\n",
    "\n",
    "# Get the P(V) data points just calculated\n",
    "pv = array([[s.get_volume(), get_pressure(s.get_stress())] for s in deform])\n",
    "\n",
    "# Sort data on the first column (V)\n",
    "pv=pv[pv[:, 0].argsort()]\n",
    "\n",
    "# B-M EOS for plotting\n",
    "fitfunc = lambda p, x: numpy.array([BMEOS(xv,p[0],p[1],p[2]) for xv in x])\n",
    "\n",
    "# Ranges - the ordering in pv is not guarateed at all!\n",
    "# In fact it may be purely random.\n",
    "x=numpy.array([min(pv[:,0]),max(pv[:,0])])\n",
    "y=numpy.array([min(pv[:,1]),max(pv[:,1])])\n",
    "\n",
    "# Plot the P(V) curves and points for the crystal\n",
    "# Plot the points\n",
    "plt.plot(pv[:,0]/v0,pv[:,1]/un.GPa,'o')\n",
    "\n",
    "# Mark the center P=0 V=V0\n",
    "plt.axvline(1,ls='--')\n",
    "plt.axhline(0,ls='--')\n",
    "\n",
    "# Plot the fitted B-M EOS through the points\n",
    "xa=numpy.linspace(x[0],x[-1],20)\n",
    "plt.plot(xa/v0,fitfunc(fit,xa)/un.GPa,'-')\n",
    "plt.title('MgO pressure vs. volume')\n",
    "plt.xlabel('$V/V_0$')\n",
    "plt.ylabel('P (GPa)')\n",
    "plt.show()"
   ]
  },
  {
   "cell_type": "markdown",
   "id": "1d018b52",
   "metadata": {},
   "source": [
    "$$\n",
    "V_0 = 73.75 \\text{ A}^3 \\quad\n",
    "B_0 = 170 \\text{ GPa}  \\quad\n",
    "B'_0 = 4.3  \\quad\n",
    "a_0 = 4.1936 \\text{ A}\n",
    "$$"
   ]
  },
  {
   "cell_type": "markdown",
   "id": "4feccc2e",
   "metadata": {},
   "source": [
    "### Automatic calculation of elastic tensor\n",
    "\n",
    "---\n",
    "\n",
    "First we calculate elastic constants of MgO with internal routine of the Elastic library by generating set of deformed cells and solving the resulting linear equation."
   ]
  },
  {
   "cell_type": "code",
   "execution_count": 18,
   "id": "e093ba30",
   "metadata": {},
   "outputs": [
    {
     "data": {
      "application/vnd.jupyter.widget-view+json": {
       "model_id": "d0d3cc3707844dccaf57a3d06f41f202",
       "version_major": 2,
       "version_minor": 0
      },
      "text/plain": [
       "  0%|          | 0/8 [00:00<?, ?it/s]"
      ]
     },
     "metadata": {},
     "output_type": "display_data"
    }
   ],
   "source": [
    "# Create elementary deformations\n",
    "cij_deform = get_elementary_deformations(cryst, n=4, d=0.33)\n",
    "\n",
    "# Run the stress calculations on deformed cells\n",
    "for n, s in enumerate(tqdm(cij_deform)):\n",
    "    s.set_calculator(create_calculator(f'MgO_cij_{n}'))\n",
    "    s.get_stress()"
   ]
  },
  {
   "cell_type": "code",
   "execution_count": 19,
   "id": "139c033f",
   "metadata": {},
   "outputs": [
    {
     "data": {
      "application/vnd.jupyter.widget-view+json": {
       "model_id": "4090147f33c3461c8bbf396c6316084c",
       "version_major": 2,
       "version_minor": 0
      },
      "text/plain": [
       "interactive(children=(Dropdown(description='system', options=(Atoms(symbols='Mg4O4', pbc=True, cell=[4.1801598…"
      ]
     },
     "metadata": {},
     "output_type": "display_data"
    }
   ],
   "source": [
    "show_deformation(cij_deform)"
   ]
  },
  {
   "cell_type": "code",
   "execution_count": 20,
   "id": "c038a4f2",
   "metadata": {},
   "outputs": [
    {
     "name": "stdout",
     "output_type": "stream",
     "text": [
      "Cij (11, 12, 44): 322.32, 91.01, 32.32 GPa\n"
     ]
    }
   ],
   "source": [
    "# Elastic tensor by internal routine\n",
    "Cij, Bij = get_elastic_tensor(cryst, systems=cij_deform)\n",
    "print(\"Cij (11, 12, 44): %.2f, %.2f, %.2f GPa\" % tuple(Cij/un.GPa))"
   ]
  },
  {
   "cell_type": "markdown",
   "id": "d60d5b38",
   "metadata": {},
   "source": [
    "### Manual calculation of elastic tensor\n",
    "\n",
    "---\n",
    "\n",
    "To make sure we are getting the correct answer let us make the\n",
    "calculation for $C_{11}, C_{12}$ by hand. We will deform the cell along\n",
    "a (x) axis by +/-0.2% and fit the $3^{rd}$ order polynomial to the\n",
    "stress-strain data. The linear component of the fit is the element of\n",
    "the elastic tensor:"
   ]
  },
  {
   "cell_type": "code",
   "execution_count": 21,
   "id": "b58d01ca",
   "metadata": {},
   "outputs": [
    {
     "data": {
      "application/vnd.jupyter.widget-view+json": {
       "model_id": "be579b3845da415eae40ccb6ef9ef0ee",
       "version_major": 2,
       "version_minor": 0
      },
      "text/plain": [
       "  0%|          | 0/6 [00:00<?, ?it/s]"
      ]
     },
     "metadata": {},
     "output_type": "display_data"
    }
   ],
   "source": [
    "# Create deformation points on the a axis\n",
    "cij_sys = [get_cart_deformed_cell(cryst, axis=0, size=d) \n",
    "               for d in numpy.linspace(-0.2,0.2,6)]\n",
    "\n",
    "# Calculate the systems and collect the stress tensor for each system\n",
    "for n, s in enumerate(tqdm(cij_sys)):\n",
    "    s.set_calculator(create_calculator(f'MgO_cij_man_{n}'))\n",
    "    s.get_stress()"
   ]
  },
  {
   "cell_type": "code",
   "execution_count": 22,
   "id": "2f990f86",
   "metadata": {},
   "outputs": [
    {
     "data": {
      "application/vnd.jupyter.widget-view+json": {
       "model_id": "8ea0124d306e4f739cc6e6449247f299",
       "version_major": 2,
       "version_minor": 0
      },
      "text/plain": [
       "interactive(children=(Dropdown(description='system', options=(Atoms(symbols='Mg4O4', pbc=True, cell=[4.185612,…"
      ]
     },
     "metadata": {},
     "output_type": "display_data"
    }
   ],
   "source": [
    "show_deformation(cij_sys)"
   ]
  },
  {
   "cell_type": "code",
   "execution_count": 23,
   "id": "6cb82b88",
   "metadata": {},
   "outputs": [
    {
     "name": "stdout",
     "output_type": "stream",
     "text": [
      "C11 = 297.679 GPa, C12 = 108.684 GPa => K= 171.682 GPa\n"
     ]
    },
    {
     "data": {
      "image/png": "[encoded data removed]",
      "text/plain": [
       "<Figure size 432x288 with 1 Axes>"
      ]
     },
     "metadata": {
      "needs_background": "light"
     },
     "output_type": "display_data"
    }
   ],
   "source": [
    "ss=[[get_strain(s, cryst), s.get_stress()] for s in cij_sys]\n",
    "\n",
    "\n",
    "ss=numpy.array(ss)\n",
    "lo=min(ss[:,0,0])\n",
    "hi=max(ss[:,0,0])\n",
    "mi=(lo+hi)/2\n",
    "wi=(hi-lo)/2\n",
    "xa=numpy.linspace(mi-1.1*wi,mi+1.1*wi, 50)\n",
    "\n",
    "# Make a plot\n",
    "plt.plot(ss[:,0,0],ss[:,1,0]/un.GPa,'.')\n",
    "plt.plot(ss[:,0,0],ss[:,1,1]/un.GPa,'.')\n",
    "\n",
    "plt.axvline(0,ls='--')\n",
    "plt.axhline(0,ls='--')\n",
    "\n",
    "# Now fit the polynomials to the data to get elastic constants\n",
    "# C11 component\n",
    "f=numpy.polyfit(ss[:,0,0],ss[:,1,0],3)\n",
    "c11=f[-2]/un.GPa\n",
    "\n",
    "# Plot the fitted function\n",
    "plt.plot(xa,numpy.polyval(f,xa)/un.GPa,'-', label='$C_{11}$')\n",
    "\n",
    "# C12 component\n",
    "f=numpy.polyfit(ss[:,0,0],ss[:,1,1],3)\n",
    "c12=f[-2]/un.GPa\n",
    "\n",
    "# Plot the fitted function\n",
    "plt.plot(xa,numpy.polyval(f,xa)/un.GPa,'-', label='$C_{12}$')\n",
    "plt.xlabel('Relative strain')\n",
    "plt.ylabel('Stress componnent (GPa)')\n",
    "plt.title('MgO, strain-stress relation ($C_{11}, C_{12}$)')\n",
    "plt.legend(loc='best')\n",
    "\n",
    "# Here are the results. They should agree with the results\n",
    "# of the internal routine.\n",
    "print('C11 = %.3f GPa, C12 = %.3f GPa => K= %.3f GPa' % (\n",
    "        c11, c12, (c11+2*c12)/3))\n",
    "\n",
    "plt.show()"
   ]
  },
  {
   "cell_type": "markdown",
   "id": "9fac5595",
   "metadata": {},
   "source": [
    "If you set up everything correctly you should obtain fitted parameters\n",
    "printed out in the output close to:\n",
    "\n",
    "    C11 = 325 GPa, C12 = 100 GPa => K= 180 GPa\n",
    "\n",
    "The actual numbers depend on the details of the calculations setup but\n",
    "should be fairly close to the above results."
   ]
  }
 ],
 "metadata": {
  "kernelspec": {
   "display_name": "Python 3",
   "language": "python",
   "name": "python3"
  },
  "language_info": {
   "codemirror_mode": {
    "name": "ipython",
    "version": 3
   },
   "file_extension": ".py",
   "mimetype": "text/x-python",
   "name": "python",
   "nbconvert_exporter": "python",
   "pygments_lexer": "ipython3",
   "version": "3.6.13"
  }
 },
 "nbformat": 4,
 "nbformat_minor": 5
}
