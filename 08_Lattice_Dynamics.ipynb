{
 "cells": [
  {
   "cell_type": "code",
   "execution_count": 1,
   "id": "9e1ba21e",
   "metadata": {},
   "outputs": [],
   "source": [
    "import os\n",
    "#os.environ[\"ASE_ABINIT_COMMAND\"]=\"mpirun -np 8 abinit  < PREFIX.files > PREFIX.log\"\n",
    "os.environ[\"ABINIT_PP_PATH\"]=\"/usr/share/abinit/psp:/usr/share/abinit/psp/HGH:/home/jochym/Projects/abinitio-methods/psp\""
   ]
  },
  {
   "cell_type": "code",
   "execution_count": 2,
   "id": "a8eb35e6",
   "metadata": {},
   "outputs": [
    {
     "name": "stdout",
     "output_type": "stream",
     "text": [
      "Populating the interactive namespace from numpy and matplotlib\n"
     ]
    }
   ],
   "source": [
    "%pylab inline\n",
    "import ase\n",
    "import ase.io\n",
    "from ase.build import bulk\n",
    "from ase.calculators.abinit import Abinit\n",
    "from ase import units as un\n",
    "from elastic import get_pressure\n",
    "\n",
    "# Utility functions\n",
    "from tqdm.auto import tqdm"
   ]
  },
  {
   "cell_type": "code",
   "execution_count": 3,
   "id": "8af5c04d",
   "metadata": {},
   "outputs": [],
   "source": [
    "def scan_param(cryst, param, start=0, stop=1, steps=7, \n",
    "               lista=None, log_scale=True, int_par=False):\n",
    "    '''\n",
    "    Scan a range of parameter param and plot \n",
    "    '''\n",
    "    fi = lambda x: x\n",
    "    fo = lambda x: x\n",
    "\n",
    "    if lista is None:\n",
    "        if log_scale :\n",
    "            fi = log\n",
    "            fo = exp\n",
    "        lista = linspace(fi(start), fi(stop), steps)\n",
    "    else :\n",
    "        int_par=False\n",
    "    \n",
    "    dat = []\n",
    "    vs = []\n",
    "        \n",
    "    for v in lista:\n",
    "        print(f'{param}={fo(v)}: ', end='')\n",
    "        if int_par:\n",
    "            cryst.calc.set(**{param: int(fo(v))})\n",
    "        else :\n",
    "            cryst.calc.set(**{param: fo(v)})\n",
    "        vs.append(fo(v))\n",
    "        dat.append([cryst.get_potential_energy(),\n",
    "                    cryst.get_stress()[:3].mean()])\n",
    "        print(f'{dat[-1][0]:.3f} eV ; {dat[-1][1]/un.GPa:6.3f} GPa',)\n",
    "    dat = array(dat).T\n",
    "    return vs, dat"
   ]
  },
  {
   "cell_type": "code",
   "execution_count": 4,
   "id": "04f76ecc",
   "metadata": {},
   "outputs": [],
   "source": [
    "a = 4.38120844\n",
    "\n",
    "prim = bulk('SiC', crystalstructure='zincblende', a=a, cubic=False)"
   ]
  },
  {
   "cell_type": "code",
   "execution_count": 17,
   "id": "43ccc938",
   "metadata": {},
   "outputs": [],
   "source": [
    "def create_calculator(label, directory='work_08', ecut=350):\n",
    "    return Abinit(label=label, directory=directory, v8_legacy_format=True,\n",
    "              ecut= ecut,\n",
    "              pps = 'pawxml', pawecutdg = 750, xc = 'GGA',\n",
    "              toldfe=1.0e-6,\n",
    "              diemac=12,\n",
    "              nstep=20,\n",
    "              kptopt=1,\n",
    "              ngkpt=[2,2,2],\n",
    "              nshiftk=1,\n",
    "              shiftk=[[0.5, 0.5, 0.5]],\n",
    "              chksymbreak=0,\n",
    "              )"
   ]
  },
  {
   "cell_type": "code",
   "execution_count": 18,
   "id": "2c3c7609",
   "metadata": {},
   "outputs": [],
   "source": [
    "calc = create_calculator(label='SiC')\n",
    "prim.set_calculator(calc)"
   ]
  },
  {
   "cell_type": "code",
   "execution_count": 19,
   "id": "88174252",
   "metadata": {},
   "outputs": [
    {
     "name": "stdout",
     "output_type": "stream",
     "text": [
      "  Energy:  -265.151 eV\n",
      "  Stress: [   -0.26  -0.26  -0.26   0.00   0.00   0.00 ] GPa\n",
      "Pressure:     0.260 GPa\n"
     ]
    }
   ],
   "source": [
    "print(f'  Energy:  {prim.get_potential_energy():.3f} eV')\n",
    "print( '  Stress: [', 6*' %6.2f' % tuple(prim.get_stress()/un.GPa), '] GPa')\n",
    "print(f'Pressure:     {get_pressure(prim.get_stress())/un.GPa:.3f} GPa')"
   ]
  },
  {
   "cell_type": "code",
   "execution_count": 20,
   "id": "8cc43bd9",
   "metadata": {},
   "outputs": [],
   "source": [
    "Scan_Corvengence = True"
   ]
  },
  {
   "cell_type": "code",
   "execution_count": 21,
   "id": "8583bba1",
   "metadata": {},
   "outputs": [
    {
     "name": "stdout",
     "output_type": "stream",
     "text": [
      "ecut=299.99999999999994: -265.131 eV ;  0.770 GPa\n",
      "ecut=326.66006663610074: -265.147 eV ;  0.057 GPa\n",
      "ecut=355.6893304490063: -265.153 eV ; -0.303 GPa\n",
      "ecut=387.29833462074157: -265.155 eV ; -0.453 GPa\n",
      "ecut=421.7163326508744: -265.155 eV ; -0.457 GPa\n",
      "ecut=459.19295108422267: -265.156 eV ; -0.434 GPa\n",
      "ecut=499.99999999999983: -265.157 eV ; -0.424 GPa\n"
     ]
    },
    {
     "data": {
      "image/png": "[encoded data removed]",
      "text/plain": [
       "<Figure size 432x432 with 2 Axes>"
      ]
     },
     "metadata": {
      "needs_background": "light"
     },
     "output_type": "display_data"
    }
   ],
   "source": [
    "if Scan_Corvengence :\n",
    "    ecut = prim.calc.parameters['ecut']\n",
    "    ecuts, eres = scan_param(prim, 'ecut', 300, 500)\n",
    "\n",
    "    figsize(6,6)\n",
    "    subplot(211)\n",
    "    plot(ecuts, eres[0], 'o')\n",
    "    ylabel('Energy (eV)')\n",
    "    subplot(212)\n",
    "    plot(ecuts, eres[1]/un.GPa, 'o')\n",
    "    ylabel('Pressure (GPa)')\n",
    "    xlabel('ecut (eV)');\n",
    "    prim.calc.set(ecut=ecut)"
   ]
  },
  {
   "cell_type": "markdown",
   "id": "ca462752",
   "metadata": {},
   "source": [
    "### Basic structure calculation\n",
    "\n",
    "---\n"
   ]
  },
  {
   "cell_type": "code",
   "execution_count": 32,
   "id": "185521cd",
   "metadata": {},
   "outputs": [],
   "source": [
    "cryst = bulk('SiC', crystalstructure='zincblende', a=a, cubic=True)\n",
    "cryst = ase.build.sort(cryst, tags=cryst.get_atomic_numbers())\n",
    "cryst.set_calculator(create_calculator('SiC_UC'))"
   ]
  },
  {
   "cell_type": "code",
   "execution_count": 37,
   "id": "8f9c4894",
   "metadata": {},
   "outputs": [],
   "source": [
    "ase.io.write('work_08/POSCAR', cryst, vasp5=True, direct=True)"
   ]
  },
  {
   "cell_type": "code",
   "execution_count": 33,
   "id": "7bb56391",
   "metadata": {},
   "outputs": [
    {
     "data": {
      "text/plain": [
       "array([[ 0., -0., -0.],\n",
       "       [ 0.,  0.,  0.],\n",
       "       [-0.,  0.,  0.],\n",
       "       [ 0.,  0.,  0.],\n",
       "       [-0.,  0.,  0.],\n",
       "       [-0.,  0., -0.],\n",
       "       [ 0., -0., -0.],\n",
       "       [ 0., -0., -0.]])"
      ]
     },
     "execution_count": 33,
     "metadata": {},
     "output_type": "execute_result"
    }
   ],
   "source": [
    "cryst.get_forces()"
   ]
  },
  {
   "cell_type": "code",
   "execution_count": 34,
   "id": "f4857bc4",
   "metadata": {},
   "outputs": [],
   "source": [
    "dsp_1 = ase.Atoms(cryst)"
   ]
  },
  {
   "cell_type": "code",
   "execution_count": 35,
   "id": "e63a5094",
   "metadata": {},
   "outputs": [],
   "source": [
    "dsp_1.set_calculator(create_calculator('SiC_dsp_1'))\n",
    "dsp_1.rattle(stdev=0.01)"
   ]
  },
  {
   "cell_type": "code",
   "execution_count": 36,
   "id": "c005e976",
   "metadata": {},
   "outputs": [
    {
     "data": {
      "text/plain": [
       "array([[-0.10081391, -0.18537259, -0.23804944],\n",
       "       [-0.40718552, -0.20415123, -0.02715134],\n",
       "       [-0.37362143, -0.39140337,  0.10919579],\n",
       "       [-0.16085008, -0.01143672,  0.04607917],\n",
       "       [ 0.07484855,  0.45844167,  0.53729556],\n",
       "       [ 0.27230501,  0.15480652, -0.37598063],\n",
       "       [ 0.46584102,  0.41905453, -0.57496501],\n",
       "       [ 0.22947637, -0.23993882,  0.52357589]])"
      ]
     },
     "execution_count": 36,
     "metadata": {},
     "output_type": "execute_result"
    }
   ],
   "source": [
    "dsp_1.get_forces()"
   ]
  },
  {
   "cell_type": "code",
   "execution_count": 38,
   "id": "2b0721c7",
   "metadata": {},
   "outputs": [
    {
     "name": "stdout",
     "output_type": "stream",
     "text": [
      "Usage: ammake-gen [OPTIONS] [ACTION]\n",
      "\n",
      "  Generates input files for alm\n",
      "\n",
      "Options:\n",
      "  -o, --order INTEGER  Approximation order (1)\n",
      "  -p, --prefix TEXT    Prefix used in calculations (CRYST)\n",
      "  -n, --name PATH      Supercell POSCAR file (SPOSCAR)\n",
      "  -s, --scale FLOAT    Scale of the unit cell (1.0)\n",
      "  -e, --evec INTEGER   Print eigenvectors (1)\n",
      "  -m, --msd INTEGER    Print mean squere displacement (1)\n",
      "  -t, --tmax INTEGER   Max temperature (1000)\n",
      "  -b, --born TEXT      Use info from <prefix>.born as Born effective charges\n",
      "  --help               Show this message and exit.\n"
     ]
    }
   ],
   "source": [
    "!ammake-gen --help"
   ]
  },
  {
   "cell_type": "code",
   "execution_count": 22,
   "id": "2b95a170",
   "metadata": {},
   "outputs": [
    {
     "ename": "CalculationFailed",
     "evalue": "Calculator \"abinit\" failed with command \"abinit < SiC_SC.files > SiC_SC.log\" failed in /home/jochym/Projects/abinitio-methods/work_08 with error code 1",
     "output_type": "error",
     "traceback": [
      "\u001b[0;31m---------------------------------------------------------------------------\u001b[0m",
      "\u001b[0;31mCalculationFailed\u001b[0m                         Traceback (most recent call last)",
      "\u001b[0;32m<ipython-input-22-e08708c7d79d>\u001b[0m in \u001b[0;36m<module>\u001b[0;34m\u001b[0m\n\u001b[1;32m      1\u001b[0m \u001b[0msc\u001b[0m \u001b[0;34m=\u001b[0m \u001b[0mcryst\u001b[0m\u001b[0;34m.\u001b[0m\u001b[0mrepeat\u001b[0m\u001b[0;34m(\u001b[0m\u001b[0;36m2\u001b[0m\u001b[0;34m)\u001b[0m\u001b[0;34m\u001b[0m\u001b[0;34m\u001b[0m\u001b[0m\n\u001b[1;32m      2\u001b[0m \u001b[0msc\u001b[0m\u001b[0;34m.\u001b[0m\u001b[0mset_calculator\u001b[0m\u001b[0;34m(\u001b[0m\u001b[0mcreate_calculator\u001b[0m\u001b[0;34m(\u001b[0m\u001b[0;34m'SiC_SC'\u001b[0m\u001b[0;34m)\u001b[0m\u001b[0;34m)\u001b[0m\u001b[0;34m\u001b[0m\u001b[0;34m\u001b[0m\u001b[0m\n\u001b[0;32m----> 3\u001b[0;31m \u001b[0msc\u001b[0m\u001b[0;34m.\u001b[0m\u001b[0mget_stress\u001b[0m\u001b[0;34m(\u001b[0m\u001b[0;34m)\u001b[0m\u001b[0;34m\u001b[0m\u001b[0;34m\u001b[0m\u001b[0m\n\u001b[0m",
      "\u001b[0;32m/opt/miniconda/envs/jh/lib/python3.6/site-packages/ase/atoms.py\u001b[0m in \u001b[0;36mget_stress\u001b[0;34m(self, voigt, apply_constraint, include_ideal_gas)\u001b[0m\n\u001b[1;32m    820\u001b[0m             \u001b[0;32mraise\u001b[0m \u001b[0mRuntimeError\u001b[0m\u001b[0;34m(\u001b[0m\u001b[0;34m'Atoms object has no calculator.'\u001b[0m\u001b[0;34m)\u001b[0m\u001b[0;34m\u001b[0m\u001b[0;34m\u001b[0m\u001b[0m\n\u001b[1;32m    821\u001b[0m \u001b[0;34m\u001b[0m\u001b[0m\n\u001b[0;32m--> 822\u001b[0;31m         \u001b[0mstress\u001b[0m \u001b[0;34m=\u001b[0m \u001b[0mself\u001b[0m\u001b[0;34m.\u001b[0m\u001b[0m_calc\u001b[0m\u001b[0;34m.\u001b[0m\u001b[0mget_stress\u001b[0m\u001b[0;34m(\u001b[0m\u001b[0mself\u001b[0m\u001b[0;34m)\u001b[0m\u001b[0;34m\u001b[0m\u001b[0;34m\u001b[0m\u001b[0m\n\u001b[0m\u001b[1;32m    823\u001b[0m         \u001b[0mshape\u001b[0m \u001b[0;34m=\u001b[0m \u001b[0mstress\u001b[0m\u001b[0;34m.\u001b[0m\u001b[0mshape\u001b[0m\u001b[0;34m\u001b[0m\u001b[0;34m\u001b[0m\u001b[0m\n\u001b[1;32m    824\u001b[0m \u001b[0;34m\u001b[0m\u001b[0m\n",
      "\u001b[0;32m/opt/miniconda/envs/jh/lib/python3.6/site-packages/ase/calculators/abc.py\u001b[0m in \u001b[0;36mget_stress\u001b[0;34m(self, atoms)\u001b[0m\n\u001b[1;32m     24\u001b[0m \u001b[0;34m\u001b[0m\u001b[0m\n\u001b[1;32m     25\u001b[0m     \u001b[0;32mdef\u001b[0m \u001b[0mget_stress\u001b[0m\u001b[0;34m(\u001b[0m\u001b[0mself\u001b[0m\u001b[0;34m,\u001b[0m \u001b[0matoms\u001b[0m\u001b[0;34m=\u001b[0m\u001b[0;32mNone\u001b[0m\u001b[0;34m)\u001b[0m\u001b[0;34m:\u001b[0m\u001b[0;34m\u001b[0m\u001b[0;34m\u001b[0m\u001b[0m\n\u001b[0;32m---> 26\u001b[0;31m         \u001b[0;32mreturn\u001b[0m \u001b[0mself\u001b[0m\u001b[0;34m.\u001b[0m\u001b[0mget_property\u001b[0m\u001b[0;34m(\u001b[0m\u001b[0;34m'stress'\u001b[0m\u001b[0;34m,\u001b[0m \u001b[0matoms\u001b[0m\u001b[0;34m)\u001b[0m\u001b[0;34m\u001b[0m\u001b[0;34m\u001b[0m\u001b[0m\n\u001b[0m\u001b[1;32m     27\u001b[0m \u001b[0;34m\u001b[0m\u001b[0m\n\u001b[1;32m     28\u001b[0m     \u001b[0;32mdef\u001b[0m \u001b[0mget_stresses\u001b[0m\u001b[0;34m(\u001b[0m\u001b[0mself\u001b[0m\u001b[0;34m,\u001b[0m \u001b[0matoms\u001b[0m\u001b[0;34m=\u001b[0m\u001b[0;32mNone\u001b[0m\u001b[0;34m)\u001b[0m\u001b[0;34m:\u001b[0m\u001b[0;34m\u001b[0m\u001b[0;34m\u001b[0m\u001b[0m\n",
      "\u001b[0;32m/opt/miniconda/envs/jh/lib/python3.6/site-packages/ase/calculators/calculator.py\u001b[0m in \u001b[0;36mget_property\u001b[0;34m(self, name, atoms, allow_calculation)\u001b[0m\n\u001b[1;32m    734\u001b[0m             \u001b[0;32mif\u001b[0m \u001b[0;32mnot\u001b[0m \u001b[0mallow_calculation\u001b[0m\u001b[0;34m:\u001b[0m\u001b[0;34m\u001b[0m\u001b[0;34m\u001b[0m\u001b[0m\n\u001b[1;32m    735\u001b[0m                 \u001b[0;32mreturn\u001b[0m \u001b[0;32mNone\u001b[0m\u001b[0;34m\u001b[0m\u001b[0;34m\u001b[0m\u001b[0m\n\u001b[0;32m--> 736\u001b[0;31m             \u001b[0mself\u001b[0m\u001b[0;34m.\u001b[0m\u001b[0mcalculate\u001b[0m\u001b[0;34m(\u001b[0m\u001b[0matoms\u001b[0m\u001b[0;34m,\u001b[0m \u001b[0;34m[\u001b[0m\u001b[0mname\u001b[0m\u001b[0;34m]\u001b[0m\u001b[0;34m,\u001b[0m \u001b[0msystem_changes\u001b[0m\u001b[0;34m)\u001b[0m\u001b[0;34m\u001b[0m\u001b[0;34m\u001b[0m\u001b[0m\n\u001b[0m\u001b[1;32m    737\u001b[0m \u001b[0;34m\u001b[0m\u001b[0m\n\u001b[1;32m    738\u001b[0m         \u001b[0;32mif\u001b[0m \u001b[0mname\u001b[0m \u001b[0;32mnot\u001b[0m \u001b[0;32min\u001b[0m \u001b[0mself\u001b[0m\u001b[0;34m.\u001b[0m\u001b[0mresults\u001b[0m\u001b[0;34m:\u001b[0m\u001b[0;34m\u001b[0m\u001b[0;34m\u001b[0m\u001b[0m\n",
      "\u001b[0;32m/opt/miniconda/envs/jh/lib/python3.6/site-packages/ase/calculators/calculator.py\u001b[0m in \u001b[0;36mcalculate\u001b[0;34m(self, atoms, properties, system_changes)\u001b[0m\n\u001b[1;32m    935\u001b[0m                    '{} with error code {}'.format(self.name, command,\n\u001b[1;32m    936\u001b[0m                                                   path, errorcode))\n\u001b[0;32m--> 937\u001b[0;31m             \u001b[0;32mraise\u001b[0m \u001b[0mCalculationFailed\u001b[0m\u001b[0;34m(\u001b[0m\u001b[0mmsg\u001b[0m\u001b[0;34m)\u001b[0m\u001b[0;34m\u001b[0m\u001b[0;34m\u001b[0m\u001b[0m\n\u001b[0m\u001b[1;32m    938\u001b[0m \u001b[0;34m\u001b[0m\u001b[0m\n\u001b[1;32m    939\u001b[0m         \u001b[0mself\u001b[0m\u001b[0;34m.\u001b[0m\u001b[0mread_results\u001b[0m\u001b[0;34m(\u001b[0m\u001b[0;34m)\u001b[0m\u001b[0;34m\u001b[0m\u001b[0;34m\u001b[0m\u001b[0m\n",
      "\u001b[0;31mCalculationFailed\u001b[0m: Calculator \"abinit\" failed with command \"abinit < SiC_SC.files > SiC_SC.log\" failed in /home/jochym/Projects/abinitio-methods/work_08 with error code 1"
     ]
    }
   ],
   "source": []
  }
 ],
 "metadata": {
  "kernelspec": {
   "display_name": "Python 3",
   "language": "python",
   "name": "python3"
  },
  "language_info": {
   "codemirror_mode": {
    "name": "ipython",
    "version": 3
   },
   "file_extension": ".py",
   "mimetype": "text/x-python",
   "name": "python",
   "nbconvert_exporter": "python",
   "pygments_lexer": "ipython3",
   "version": "3.6.13"
  }
 },
 "nbformat": 4,
 "nbformat_minor": 5
}
