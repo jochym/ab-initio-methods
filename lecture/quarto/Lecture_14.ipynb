{
 "cells": [
  {
   "cell_type": "markdown",
   "metadata": {},
   "source": [
    "---\n",
    "title: Ab initio methods in solid state physics\n",
    "subtitle: \"XIV. Toolbox\"\n",
    "author: \n",
    "  - Przemysław Piekarz\n",
    "  - Paweł T. Jochym\n",
    "\n",
    "institute:   \n",
    "  - \"*Department of Computational Material Science*\"\n",
    "  - \"*Institute of Nuclear Physics, Polish Academy of Sciences*\"\n",
    "\n",
    "institute-short: NZ33, INP PAS\n",
    "output-file: \"Ab_initio_lecture_14\"\n",
    "format:\n",
    "  beamer:\n",
    "    fontsize: 12pt\n",
    "    fontfamily: libertine\n",
    "    template-partials:\n",
    "      - aux/title.tex\n",
    "    aspectratio: 1610\n",
    "    theme: Madrid\n",
    "    date: last-modified\n",
    "    date-format: long\n",
    "  revealjs:\n",
    "    theme: \n",
    "      - default\n",
    "      - aux/reveal_theme.scss\n",
    "    center: false\n",
    "    smaller: false\n",
    "    slide-number: true\n",
    "    footer: \"Ab initio methods in solid state physics, XIV\"\n",
    "    template-partials:\n",
    "      - aux/title-slide.html\n",
    "      \n",
    "---"
   ]
  },
  {
   "cell_type": "markdown",
   "metadata": {},
   "source": [
    "## Computational Solid State Toolbox\n",
    "\n",
    "* Low level\n",
    "    - Kinds of ab-initio codes\n",
    "    - You get what you pay for?\n",
    "* High level\n",
    "    - Individual interfaces\n",
    "    - Umbrella codes\n",
    "    - Post processing tools\n",
    "    - Computing environments\n",
    "    - Visualisation"
   ]
  },
  {
   "cell_type": "markdown",
   "metadata": {},
   "source": [
    "## *Ab Initio* programs (by method)\n",
    "\n",
    " \n",
    "- plane wave (VASP, AbInit, QE, ...)\n",
    "    * Long range interactions, expensive vacum, high accuracy, bed scaling\n",
    "- localized orbitals (Siesta, OpenMX, ...)\n",
    "    * linear scaling, low acuracy, free vacum\n",
    "- LAPW (GPAW, Elk, Fleur, ...)\n",
    "    * Expensive, good for electronic structure\n",
    "- Gaussian (gaussian, nwchem, ...)\n",
    "    * chamistry\n",
    "- Mixed (GM/MM, Wien2K, ...)\n",
    "    * often specialized codes\n",
    "- Many more:\n",
    "    * Wikipedia: List_of_quantum_chemistry_and_solid-state_physics_software\n",
    "    * ASE: https://wiki.fysik.dtu.dk/ase/ase/calculators/calculators.html"
   ]
  },
  {
   "cell_type": "markdown",
   "metadata": {},
   "source": [
    "## *Ab initio* programs - other classifications\n",
    "\n",
    "- Non-free\n",
    "    * CASTEP, Gaussian, Mopac, ...\n",
    "    * VASP, Wien2k, ONETEP, ...\n",
    "- Gratis\n",
    "    * AbInit, QE, Siesta, GPAW, ...\n",
    "\n",
    "\\pause\n",
    "\n",
    "- Closed source\n",
    "    * CASTEP, Mopac, ...\n",
    "- Open source\n",
    "    * VASP, Wien2k, ONETEP, ...\n",
    "- Free software\n",
    "    * AbInit, QE, Siesta, GPAW, ..."
   ]
  },
  {
   "cell_type": "markdown",
   "metadata": {},
   "source": [
    "## Free/Gratis/Open/Close ???\n",
    "\n",
    "### Why is source important?\n",
    "\n",
    "* You need to know what you are doing!\n",
    "* Do you want to tell the referee: *I do not know. I just push this button.* ?\n",
    "* **REPRODUCIBILITY**\n",
    "* Eventually, you will need to change or inspect the code to get your idea working.\n",
    "* Sharing your results\n",
    "\n",
    "\\pause\n",
    "\n",
    "### Why price is *less* important\n",
    "\n",
    "* Your equipment is usually more expensive (Wien2k is 400EUR, VASP 5000EUR)\n",
    "* Sometimes even your one conference trip\n",
    "* You can use your grant money for this\n",
    "* Sometimes *it is worth it* - not always"
   ]
  },
  {
   "cell_type": "markdown",
   "metadata": {},
   "source": [
    "## Higher levels\n",
    "\n",
    "- Interfacing\n",
    "    * individual (p4vasp, vaspview, abipy, PWgui, ...)\n",
    "    * umbrella (ASE, XCrysDen, VESTA, ...)\n",
    "\\pause\n",
    "- Post-processing\n",
    "    * lattice dynamics (ALAMODE, TDEP, HECSS, ...)\n",
    "    * Electronic structure (WANNIER90, BandUP, ...)\n",
    "    * Other (XtalOpt, BoltzTraP, Elastic, ...)\n",
    "    * Good scripting language (Python, Rust, Julia, Go, ...)\n",
    "    * Good science library (ASE, numpy, scipy, sympy, ...)\n",
    "    * Good visualisation library (matplotlib, NGL, bokeh, plotly, GadFly, ...)\n",
    "\\pause\n",
    "- Computing environment\n",
    "    * JupyterLab\n",
    "    * CoCalc/SAGE\n",
    "\\pause\n",
    "- Writing\n",
    "    * Plain text is **The King**\n",
    "    * Give Markdown a try, if you need formating (these slides are MD+Quarto)!"
   ]
  },
  {
   "cell_type": "code",
   "execution_count": null,
   "metadata": {},
   "outputs": [],
   "source": []
  }
 ],
 "metadata": {
  "kernelspec": {
   "display_name": "Python 3 (ipykernel)",
   "language": "python",
   "name": "python3"
  }
 },
 "nbformat": 4,
 "nbformat_minor": 4
}
