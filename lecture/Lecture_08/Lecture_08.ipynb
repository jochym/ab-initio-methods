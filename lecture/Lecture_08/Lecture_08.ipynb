{
 "cells": [
  {
   "cell_type": "markdown",
   "id": "a45a181d",
   "metadata": {
    "slideshow": {
     "slide_type": "slide"
    }
   },
   "source": [
    "# *Ab initio* methods in solid state physics"
   ]
  },
  {
   "cell_type": "markdown",
   "id": "848230be",
   "metadata": {},
   "source": [
    "## VIII. Mechanical properties: elasticity of crystals\n",
    "\n",
    "----\n",
    "\n",
    "### *Przemysław Piekarz and Paweł T. Jochym*\n",
    "### Institute of Nuclear Physics, Polish Academy of Sciences"
   ]
  },
  {
   "cell_type": "markdown",
   "id": "77f9d975",
   "metadata": {
    "slideshow": {
     "slide_type": "slide"
    }
   },
   "source": [
    "### Elastic constants\n",
    "\n",
    "---\n",
    "\n",
    "* Response to external forces\n",
    "* Sound velocity\n",
    "* Anisotropy\n",
    "* Mechanical stability\n",
    "* Mechanical properties \n",
    "* Some phase transitions\n",
    "* Some thermodynamical properties"
   ]
  },
  {
   "cell_type": "markdown",
   "id": "98e06cdb",
   "metadata": {
    "slideshow": {
     "slide_type": "slide"
    }
   },
   "source": [
    "### Linear theory of elasticity \n",
    "\n",
    "---\n",
    "\n",
    "Formulated in the 18th and 19th century by Cauchy, Euler,\n",
    "Poisson, Young and many other great mathematicians and physicists of that time.\n",
    "\n",
    "* Deformation vector: $ u_i = x'_i - x_i $\n",
    "* Deformation (strain) tensor: \n",
    "$$\n",
    "u_{ik} = \\frac{1}{2}\\left(\\frac{\\partial u_i}{\\partial x_k} + \\frac{\\partial u_k}{\\partial x_i} + \n",
    "\\sum_l \\frac{\\partial u_l}{\\partial x_i} \\frac{\\partial u_l}{\\partial x_k}\n",
    "\\right)\n",
    "$$\n",
    "\n",
    "* For small deformations:\n",
    "$$\n",
    "u_{ik} = \\frac{1}{2}\\left(\n",
    "\\frac{\\partial u_i}{\\partial x_k} + \\frac{\\partial u_k}{\\partial x_i}\n",
    "\\right)\n",
    "$$\n",
    "\n",
    "---\n",
    "L.D. Landau, E.M. Lifszyc, *Theory of elasticity*, Elsevier (1986)\n"
   ]
  },
  {
   "cell_type": "markdown",
   "id": "2148bada",
   "metadata": {
    "slideshow": {
     "slide_type": "slide"
    }
   },
   "source": [
    "### Stress tensor for crystals\n",
    "\n",
    "---\n",
    "<div class=\"right\">\n",
    "<img src=\"Components_stress_tensor_cartesian.svg\" style=\"float:right; width:400px;\"/>\n",
    "</div>\n",
    "\n",
    "<div class=\"left\" style=\"clear:left\">\n",
    "\n",
    "* Stress tensor $\\sigma_{ik}$\n",
    "$$\n",
    "\\int F_i dV = \\int \\frac{\\partial \\sigma_{ik}}{\\partial x_k} = \\oint \\sigma_{ik} ds_k\n",
    "$$\n",
    "\n",
    "* Free energy of deformed crystal:\n",
    "$$\n",
    "F = \\frac{1}{2}\\lambda_{ijkl} u_{ij} u_{kl}\n",
    "$$\n",
    "\n",
    "* Basic symmetry of the *tensor of elasticity moduli* $\\lambda$ (i.e. 21 independent components):\n",
    "$$\n",
    "    \\lambda_{ijkl} = \\lambda_{jikl} = \\lambda_{ijlk} = \\lambda_{klij}\n",
    "$$\n",
    "\n",
    "* Crystal symmetries reduce the independent components further (e.g. from cubic:3, to  trigonal:18).\n",
    "\n",
    "---\n",
    "\n",
    "<a href=\"https://creativecommons.org/licenses/by-sa/3.0\" title=\"Creative Commons Attribution-Share Alike 3.0\">Wikmedia Commons,auth: Sanpaz,CC BY-SA 3.0</a>\n",
    "\n",
    "</div>"
   ]
  },
  {
   "cell_type": "markdown",
   "id": "e7e85be8",
   "metadata": {
    "slideshow": {
     "slide_type": "slide"
    }
   },
   "source": [
    "### Stress - strain relation\n",
    "\n",
    "---\n",
    "\n",
    "* The elasticity tensor inherits symmetries of the crystal and has some intrinsic symmetries of its own. Therefore, only a small number of its components are\n",
    "independent. This fact leads to customary representation of this entity\n",
    "in the form of the matrix with components assigned according to Voight's notation: \n",
    "\n",
    "$$\n",
    "\\lambda_{ijkl} \\rightarrow C_{\\alpha\\beta}: \n",
    "(\\alpha,\\beta\\in\\{xx,yy,zz,yz,zx,xy\\}=\\{1,2,3,4,5,6\\})\n",
    "$$\n",
    "\n",
    "\n",
    "**Warning**: $\\lambda_{ijkl}$ is a three-dimensional tensor of rank 4; $C_{\\alpha\\beta}$ is **not** a sixth-dimensional tensor! \n",
    "\n",
    "\n",
    "* Genaralized Hook's law:\n",
    "\n",
    "$$\n",
    "\\sigma_{ij} = \\lambda_{ijkl} u_{kl} \\rightarrow \n",
    "\\sigma_\\alpha = C_{\\alpha\\beta} u_{\\beta}\n",
    "$$\n",
    "\n",
    "This formula simply states that the stress in the crystal\n",
    "$\\sigma_{ij}$ is a linear function of the strain $u_{kl}$\n",
    "incurred by its deformation, and the elasticity tensor\n",
    "$\\lambda_{ijkl}$ is just a tensor proportionality coefficient. "
   ]
  },
  {
   "cell_type": "markdown",
   "id": "815fd1e1",
   "metadata": {
    "slideshow": {
     "slide_type": "slide"
    }
   },
   "source": [
    "### Effect of crystal symmetries (I)\n",
    "\n",
    "---\n",
    "\n",
    "The Voight's convention makes presentation of elastic constants much\n",
    "easier -since it is just a square table of numbers - it slightly\n",
    "complicates algebraic procedures as we lose the simplicity of the tensor\n",
    "formalism. Every class of crystal implies, through its symmetry, a\n",
    "different number of independent elements in the $C_{ij}$ matrix.\n",
    "\n",
    "For example, the cubic lattice has just three independent elements in\n",
    "the elastic matrix: $C_{11}, C_{12}, C_{44}$, and the matrix itself has\n",
    "the following shape:\n",
    "\n",
    "$$\\begin{aligned}\n",
    "\\left[\\begin{array}{cccccc}\n",
    "C_{11} & C_{12} & C_{12} & 0 & 0 & 0\\\\\n",
    "C_{12} & C_{11} & C_{12} & 0 & 0 & 0\\\\\n",
    "C_{12} & C_{12} & C_{11} & 0 & 0 & 0\\\\\n",
    "0 & 0 & 0 & C_{44} & 0 & 0\\\\\n",
    "0 & 0 & 0 & 0 & C_{44} & 0\\\\\n",
    "0 & 0 & 0 & 0 & 0 & C_{44}\\end{array}\\right]\n",
    "\\end{aligned}$$"
   ]
  },
  {
   "cell_type": "markdown",
   "id": "c219cd21",
   "metadata": {
    "slideshow": {
     "slide_type": "slide"
    }
   },
   "source": [
    "### Effect of crystal symmetries (II)\n",
    "\n",
    "---\n",
    "\n",
    "\n",
    "Less symmetric crystals have, naturally, a higher number of independent\n",
    "elastic constants and lower symmetry of the $C_{ij}$ matrix:\n",
    "\n",
    "* cubic - 3\n",
    "* hexagonal - 5\n",
    "* rombohedral - 6\n",
    "* tetragonal - 6\n",
    "* rombic - 9\n",
    "* monoclinic - 12\n",
    "* triclinic - 18"
   ]
  },
  {
   "cell_type": "markdown",
   "id": "198d9c23",
   "metadata": {
    "slideshow": {
     "slide_type": "slide"
    }
   },
   "source": [
    "### Numerical derivation of elastic matrix\n",
    "\n",
    "---\n",
    "\n",
    "Numerical derivation of the $C_{ij}$ matrix may be approached in many\n",
    "different ways. Basically, we can employ the same methods as used\n",
    "effectively in experimental work. From all experimental procedures we\n",
    "can select three classes which are relevant to our discussion:\n",
    "\n",
    "1.  Based on the measured sound velocity:\n",
    "$$\n",
    "\\varrho v_{k}^{2}=L(C_{ij})\n",
    "$$\n",
    "where $L(C_{ij})$ is a linear combination of independent components of elastic tensor, $v_{k}$ is a long-wave sound velocity in particular direction, and $\\varrho$ is crystal density. \n",
    "    \n",
    "2.  Based on the strain-energy relation: non-linear, impractical or impossible in experiment.\n",
    "\n",
    "3.  Based on the measured stress-strain relations for simple strains: linear relation, possible in the laboratory, well-conditioned numerically."
   ]
  },
  {
   "cell_type": "markdown",
   "id": "d53e2184",
   "metadata": {
    "slideshow": {
     "slide_type": "slide"
    }
   },
   "source": [
    "### Small displacement method (I)\n",
    "\n",
    "---\n",
    "\n",
    "<center>\n",
    "<img src=\"deform_black.png\" width=\"66%\" />\n",
    "</center>\n",
    "\n",
    "Starting from set of calculated stresses and strains$\\{u^{a}, \\sigma^{a}\\}$:\n",
    "\n",
    "$$\n",
    "\\{u^{a}, \\sigma^{a}\\} \\rightarrow C_{ij}u_{j}^{a}=\\sigma_{i}^{a} \\rightarrow \n",
    "S_{j\\mu}(u^{a})C_{\\mu}=\\sigma_{j}^{a}\n",
    "$$\n",
    "\n",
    "$\\mu$ - numbers independent components of $C_{ij}$\n",
    "\n",
    "$S(u)$ linear function of the strain vector $u$ with all symmetry\n",
    "relations taken into account. \n",
    "\n",
    "The set of necessary deformations can be determined by the\n",
    "symmetry of the crystal and contains tetragonal and sheer deformations\n",
    "along selected or all axis - as the symmetry of the case dictates. To\n",
    "improve the accuracy of the results the deformations may be of different\n",
    "sizes (typically 0.1-1% in length or 0.1-1 degree in angle)."
   ]
  },
  {
   "cell_type": "markdown",
   "id": "2c782f9b",
   "metadata": {
    "slideshow": {
     "slide_type": "slide"
    }
   },
   "source": [
    "### Small displacement method (II)\n",
    "\n",
    "---\n",
    "\n",
    "For cubic lattice:\n",
    "\n",
    "$$\\begin{aligned}\n",
    "\\left[\\begin{array}{ccc}\n",
    "u_{1} & u_{2}+u_{3} & 0\\\\\n",
    "u_{2} & u_{1}+u_{3} & 0\\\\\n",
    "u_{3} & u_{1}+u_{2} & 0\\\\\n",
    "0 & 0 & 2u_{4}\\\\\n",
    "0 & 0 & 2u_{5}\\\\\n",
    "0 & 0 & 2u_{6}\\end{array}\\right]^{a}\\left[\\begin{array}{c}\n",
    "C_{11}\\\\\n",
    "C_{12}\\\\\n",
    "C_{44}\\end{array}\\right]=\\left[\\begin{array}{c}\n",
    "\\sigma_{1}\\\\\n",
    "\\sigma_{2}\\\\\n",
    "\\sigma_{3}\\\\\n",
    "\\sigma_{4}\\\\\n",
    "\\sigma_{5}\\\\\n",
    "\\sigma_{6}\\end{array}\\right]^{a}.\n",
    "\\end{aligned}$$\n",
    "\n",
    "The elements of the S matrix are simply coefficients of first\n",
    "derivatives of the F(u) over respective strain components.\n",
    "Alternatively, we can rewrite the S(u) matrix in the compact form as a\n",
    "mixed derivative:\n",
    "\n",
    "$$S_{i\\mu}=A\\frac{\\partial^{2}F}{\\partial u_{i}\\partial C_{\\mu}},$$\n",
    "\n",
    "where A is a multiplier taking into account the double counting of the\n",
    "off-diagonal components in the free energy formula. The multiplier $A=1$ for $i \\leq 4$,\n",
    "and $1/2$ otherwise."
   ]
  },
  {
   "cell_type": "markdown",
   "id": "37d90d29",
   "metadata": {
    "slideshow": {
     "slide_type": "slide"
    }
   },
   "source": [
    "### Small displacement method (III)\n",
    "\n",
    "---\n",
    "\n",
    "For example, in the orthorhombic crystal the vector of independent\n",
    "$C_{ij}$ components has nine elements and the S matrix is a $9\\times6$\n",
    "one:\n",
    "$$\\begin{aligned}\n",
    "\\left[\\begin{array}{ccccccccc}\n",
    "u_{1} & 0 & 0 & u_{2} & u_{3} & 0 & 0 & 0 & 0\\\\\n",
    "0 & u_{2} & 0 & u_{1} & 0 & u_{3} & 0 & 0 & 0\\\\\n",
    "0 & 0 & u_{3} & 0 & u_{1} & u_{2} & 0 & 0 & 0\\\\\n",
    "0 & 0 & 0 & 0 & 0 & 0 & 2u_{4} & 0 & 0\\\\\n",
    "0 & 0 & 0 & 0 & 0 & 0 & 0 & 2u_{5} & 0\\\\\n",
    "0 & 0 & 0 & 0 & 0 & 0 & 0 & 0 & 2u_{6}\\end{array}\\right]^{a}\\left[\\begin{array}{c}\n",
    "C_{11}\\\\\n",
    "C_{22}\\\\\n",
    "C_{33}\\\\\n",
    "C_{12}\\\\\n",
    "C_{13}\\\\\n",
    "C_{23}\\\\\n",
    "C_{44}\\\\\n",
    "C_{55}\\\\\n",
    "C_{66}\\end{array}\\right]=\\left[\\begin{array}{c}\n",
    "\\sigma_{1}\\\\\n",
    "\\sigma_{2}\\\\\n",
    "\\sigma_{3}\\\\\n",
    "\\sigma_{4}\\\\\n",
    "\\sigma_{5}\\\\\n",
    "\\sigma_{6}\\end{array}\\right]^{a}.\n",
    "\\end{aligned}$$\n",
    "\n",
    "comes from the free energy formula:\n",
    "\n",
    "$$\\begin{aligned}\n",
    "F(u)   =  \\frac{1}{2}C_{11}u_{1}^{2}+\n",
    "\\frac{1}{2}C_{22}u_{2}^{2}+\n",
    "\\frac{1}{2}C_{33}u_{3}^{2}+ \n",
    "C_{12}u_{1}u_{2}+C_{13}u_{1}u_{3}+C_{23}u_{2}u_{3}+ \n",
    "2C_{44}u_{4}^{2}+2C_{55}u_{5}^{2}+2C_{66}u_{6}^{2}\n",
    "\\end{aligned}$$"
   ]
  },
  {
   "cell_type": "markdown",
   "id": "45459a6d",
   "metadata": {
    "slideshow": {
     "slide_type": "slide"
    }
   },
   "source": [
    "### Small displacement method (IV)\n",
    "\n",
    "---\n",
    "\n",
    "The above general formula turns out to be quite helpful in less trivial cases of trigonal or hexagonal classes. For instance, rather long hexagonal elastic free energy (see L&L) leads to the following set of equations:\n",
    "\n",
    "$$\\begin{aligned}\n",
    "\\left[\\begin{array}{ccccc}\n",
    "u_{1} & 0 & u_{2} & u_{3} & 0\\\\\n",
    "u_{2} & 0 & u_{1} & u_{3} & 0\\\\\n",
    "0 & u_{3} & 0 & u_{1}+u_{2} & 0\\\\\n",
    "0 & 0 & 0 & 0 & 2u_{4}\\\\\n",
    "0 & 0 & 0 & 0 & 2u_{5}\\\\\n",
    "u_{6} & 0 & -u_{6} & 0 & 0\\end{array}\\right]^{a}\\left[\\begin{array}{c}\n",
    "C_{11}\\\\\n",
    "C_{33}\\\\\n",
    "C_{12}\\\\\n",
    "C_{13}\\\\\n",
    "C_{44}\\end{array}\\right]=\\left[\\begin{array}{c}\n",
    "\\sigma_{1}\\\\\n",
    "\\sigma_{2}\\\\\n",
    "\\sigma_{3}\\\\\n",
    "\\sigma_{4}\\\\\n",
    "\\sigma_{5}\\\\\n",
    "\\sigma_{6}\\end{array}\\right]^{a}.\n",
    "\\end{aligned}$$\n",
    "\n",
    "The set of equations is usually over-determined. Therefore, it cannot be\n",
    "solved in the strict linear-algebra sense since no exact solution could\n",
    "exist. The approximate solution may be fitted to the equation using Singular Value Decomposition (SVD). This method provides the approximate solution minimising the residual vector of the equation but also is stable against numerically ill-conditioned\n",
    "equations or equations which provide too little data to determine all\n",
    "components of the solution."
   ]
  },
  {
   "cell_type": "code",
   "execution_count": null,
   "id": "4f2d21ea",
   "metadata": {},
   "outputs": [],
   "source": []
  }
 ],
 "metadata": {
  "kernelspec": {
   "display_name": "Python 3",
   "language": "python",
   "name": "python3"
  },
  "language_info": {
   "codemirror_mode": {
    "name": "ipython",
    "version": 3
   },
   "file_extension": ".py",
   "mimetype": "text/x-python",
   "name": "python",
   "nbconvert_exporter": "python",
   "pygments_lexer": "ipython3",
   "version": "3.6.13"
  }
 },
 "nbformat": 4,
 "nbformat_minor": 5
}
