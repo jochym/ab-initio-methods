{
 "cells": [
  {
   "cell_type": "markdown",
   "metadata": {},
   "source": [
    "# *Ab initio* methods<br/> in solid state physics\n",
    "\n",
    "## XII. Molecular Dynamics\n",
    "---\n",
    "<video style=\"margin:10px; float:right;\" height=250 preload=\"metadata\" type=\"video/webm\"  autoplay loop src=\"http://wolf.ifj.edu.pl/~jochym/p/notebooks/anim_T2000.webm\" >\n",
    "</video>\n",
    "\n",
    "*Przemysław Piekarz*<br/>\n",
    "*Paweł T. Jochym*\n",
    "\n",
    "*Institute of Nuclear Physics,*<br/> \n",
    "*Polish Academy of Sciences*"
   ]
  },
  {
   "cell_type": "markdown",
   "metadata": {},
   "source": [
    "### Molecular dynamics\n",
    "---"
   ]
  },
  {
   "cell_type": "markdown",
   "metadata": {},
   "source": [
    "Basic idea\n",
    "\n",
    "Why?\n",
    "\n",
    "The devil in the details\n",
    "\n",
    "Approximations\n",
    "\n",
    "NVE, NVT, NPT, ...\n",
    "\n",
    "Goals"
   ]
  },
  {
   "cell_type": "markdown",
   "metadata": {},
   "source": [
    "<center>\n",
    "<img src=\"md_57.png\"/>\n",
    "<img src=\"md_60.png\"/>\n",
    "</center>"
   ]
  },
  {
   "cell_type": "markdown",
   "metadata": {},
   "source": [
    "### Why?\n",
    "---"
   ]
  },
  {
   "cell_type": "markdown",
   "metadata": {},
   "source": [
    "* MC is faster\n",
    "* MC needs $p(x)$\n",
    "* Temperature?\n",
    "---\n",
    "* MD has $T=\\langle E_k \\rangle$\n",
    "* No need for $p(x)$\n",
    "* Dynamical effects"
   ]
  },
  {
   "cell_type": "markdown",
   "metadata": {},
   "source": [
    "![Sampling](Sampling_in_MC_and_MD.png)"
   ]
  },
  {
   "cell_type": "markdown",
   "metadata": {},
   "source": [
    "### Basic idea\n",
    "---\n",
    "The basic idea behind molecular dynamics is simple: solve the numerically solve equation of motion (EOM) for the system and derive its properties from analysis of the calculated trajectory. "
   ]
  },
  {
   "cell_type": "markdown",
   "metadata": {},
   "source": [
    "The equation of motion for the $i$-th atom reads:\n",
    "\n",
    "$$\n",
    "\\frac{d^2{\\mathbf x}_i}{{dt}^2}=\\frac{{\\mathbf F}_i}{m_i}\n",
    "$$"
   ]
  },
  {
   "cell_type": "markdown",
   "metadata": {},
   "source": [
    "![MD algorithm](md_algo.jpg)"
   ]
  },
  {
   "cell_type": "markdown",
   "metadata": {},
   "source": [
    "### Velocity Verlet I\n",
    "---\n",
    "Calculate positions to higer order and velocities at half step.\n",
    "\n",
    "$$\n",
    "\\vec{x}(t + \\Delta t) = \\vec{x}(t) + \\vec{v}(t)\\, \\Delta t + \\frac{1}{2} \\,\\vec{a}(t) \\Delta t^2,\n",
    "$$\n",
    "\n",
    "$$\n",
    "\\vec{v}(t + \\Delta t) = \\vec{v}(t) + \\frac{\\vec{a}(t) + \\vec{a}(t + \\Delta t)}{2} \\Delta t\n",
    "$$\n",
    "\n",
    "This algorithm assumes that acceleration $\\vec{a}(t + \\Delta t)$ only depends on position $\\vec{x}(t + \\Delta t)$ and does not depend on velocity $\\vec{v}(t + \\Delta t)$."
   ]
  },
  {
   "cell_type": "markdown",
   "metadata": {},
   "source": [
    "### Velocity Verlet II\n",
    "---\n",
    "1. $\\vec{v}\\left(t + \\tfrac12\\,\\Delta t\\right) = \\vec{v}(t) + \\tfrac12\\,\\vec{a}(t)\\,\\Delta t$.\n",
    "\n",
    "2. $\\vec{x}(t + \\Delta t) = \\vec{x}(t) + \\vec{v}\\left(t + \\tfrac12\\,\\Delta t\\right)\\, \\Delta t$.\n",
    "\n",
    "3. $\\vec{a}(t + \\Delta t)$ at $\\vec{x}(t + \\Delta t)$.\n",
    "\n",
    "4. $\\vec{v}(t + \\Delta t) = \\vec{v}\\left(t + \\tfrac12\\,\\Delta t\\right) + \\tfrac12\\,\\vec{a}(t + \\Delta t)\\Delta t$."
   ]
  },
  {
   "cell_type": "markdown",
   "metadata": {},
   "source": [
    "### Velocity Verlet III\n",
    "---\n",
    "Eliminating the half-step velocity, this algorithm may be shortened to:\n",
    "\n",
    "1. $\\vec{x}(t + \\Delta t) = \\vec{x}(t) + \\vec{v}(t)\\,\\Delta t + \\tfrac12 \\,\\vec{a}(t)\\,\\Delta t^2$.\n",
    "\n",
    "2. $\\vec{a}(t + \\Delta t)$ at $\\vec{x}(t + \\Delta t)$.\n",
    "\n",
    "3. $\\vec{v}(t + \\Delta t) = \\vec{v}(t) + \\tfrac12\\,\\big(\\vec{a}(t) + \\vec{a}(t + \\Delta t)\\big)\\Delta t$."
   ]
  },
  {
   "cell_type": "markdown",
   "metadata": {},
   "source": [
    "### The devil in the details\n",
    "---\n",
    "* What about electrons?\n",
    "* Time step selection.\n",
    "* PBC/box/vacuum.\n",
    "* $N(N-1)/2$ scaling.\n",
    "* Error propagation and growth.\n",
    "* Pressure, Temperature, Energy.\n",
    "* Time scale, thermalisation."
   ]
  },
  {
   "cell_type": "markdown",
   "metadata": {},
   "source": [
    "### Approximations I\n",
    "---\n",
    "1. Born-Oppenheimer approximation\n",
    "    - electrons are light, \n",
    "    - nuclei are classical\n",
    "2. Timestep\n",
    "    - $\\approx 1/40$ of periods\n",
    "    - $\\Delta x < 1/20 (x_i - x_j)$\n",
    "3. Scaling\n",
    "    - No penalty in DFT\n",
    "    - Interaction range limit"
   ]
  },
  {
   "cell_type": "markdown",
   "metadata": {},
   "source": [
    "### Approximations II\n",
    "---\n",
    "4. Error propagation\n",
    "    - small $\\Delta t$\n",
    "    - Thermal bath\n",
    "5. N, V, P, T, E\n",
    "    - Energy rescaling\n",
    "    - Nosé–Hoover thermostat\n",
    "    - Parrinello-Rahman barostat\n",
    "    - Langevin dynamics\n",
    "6. Thermalisation\n",
    "    - Relaxation time, energy distribution"
   ]
  },
  {
   "cell_type": "markdown",
   "metadata": {},
   "source": [
    "### Goals\n",
    "---\n",
    "* Dynamical processes\n",
    "* Phase transitions\n",
    "* Vibrational spectra\n",
    "* Phase space sampling\n",
    "* Reaction kinetics\n",
    "* Parameter extraction\n",
    "* Model validation"
   ]
  }
 ],
 "metadata": {
  "kernelspec": {
   "display_name": "Python 3",
   "language": "python",
   "name": "python3"
  }
 },
 "nbformat": 4,
 "nbformat_minor": 4
}
