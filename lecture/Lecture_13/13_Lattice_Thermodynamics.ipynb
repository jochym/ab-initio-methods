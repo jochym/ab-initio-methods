{
 "cells": [
  {
   "cell_type": "markdown",
   "metadata": {
    "extensions": {
     "jupyter_dashboards": {
      "version": 1,
      "views": {
       "grid_default": {},
       "report_default": {}
      }
     }
    },
    "slideshow": {
     "slide_type": "slide"
    }
   },
   "source": [
    "# *Ab initio* methods<br/> in solid state physics\n",
    "\n",
    "## XIII. Lattice thermodynamics\n",
    "---\n",
    "\n",
    "*Przemysław Piekarz*<br/>\n",
    "*Paweł T. Jochym*\n",
    "\n",
    "*Institute of Nuclear Physics,*<br/> \n",
    "*Polish Academy of Sciences*"
   ]
  },
  {
   "cell_type": "markdown",
   "metadata": {
    "cell_style": "center",
    "extensions": {
     "jupyter_dashboards": {
      "version": 1,
      "views": {
       "grid_default": {},
       "report_default": {}
      }
     }
    },
    "slideshow": {
     "slide_type": "slide"
    }
   },
   "source": [
    "### Thermodynamics of lattices\n",
    "---\n",
    "\n",
    "* This is *not* a thermodynamics lecture\n",
    "* Basic thermodynamics of crystals\n",
    "    - Harmonic phonons\n",
    "    - Anharmonic perturbation\n",
    "* Thermodynamic properties\n",
    "    - Thermodynamic functions\n",
    "    - Thermal displacements\n",
    "    - Heat capacity\n",
    "    - Thermal expansion\n",
    "    - Heat conductance\n",
    "    - Phase transitions"
   ]
  },
  {
   "cell_type": "markdown",
   "metadata": {
    "cell_style": "center",
    "slideshow": {
     "slide_type": "slide"
    },
    "tags": []
   },
   "source": [
    "### Thermodynamics of crystals\n",
    "---\n",
    "The thermodynamics in the statistical mechanics formulation is founded on probability distribution and partition function $Z$:\n",
    "\n",
    "$$\n",
    "Z = \\sum e^{-E/k_B T}.\n",
    "$$\n",
    "\n",
    "The remining thermodynamic functions are defined in relation to $Z$. For example Helmholtz free energy $F$:\n",
    "\n",
    "$$\n",
    "F= - k_B T \\ln Z,\n",
    "$$\n",
    "\n",
    "also entropy, pressure, stresses, heat capacity are defined in terms of various functions of $Z$. \n",
    "Calculation of $Z$ requires knowledge of the energy levels of the system $E$. The energy can be expanded in the small parameter $\\epsilon = \\sqrt{\\langle u^2 \\rangle}/\\langle R \\rangle $ where $u$ is a displacement and $R$ is an interatomic distance. Thus, terms in Hamiltonian $H$ can be ordered in the powers of $\\epsilon$:\n",
    "\n",
    "$$\n",
    "H = H_0 + H_2 + H_3 + H_4 + \\ldots\n",
    "$$"
   ]
  },
  {
   "cell_type": "markdown",
   "metadata": {
    "cell_style": "center",
    "slideshow": {
     "slide_type": "slide"
    }
   },
   "source": [
    "#### Harmonic phonons\n",
    "\n",
    "If we keep just two first terms in the Hamiltonian, the energy levels written in the *occupation number* formulation will take the form:\n",
    "\n",
    "$$\n",
    "E_2(\\ldots,n_k,\\ldots)=\\sum_k \\hbar\\omega_k\\left(n_k + \\frac{1}{2}\\right)\n",
    "$$\n",
    "\n",
    "which leads to the harmonic partition function $Z_H$:\n",
    "\n",
    "$$\n",
    "Z_H=\\sum_{(\\ldots,n_k,\\ldots)}e^{\n",
    "    -\\sum_k \\hbar\\omega_k\\left(n_k + \\frac{1}{2}\\right)/k_B T} = \n",
    "    \\prod_k \\frac{e^{-\\hbar\\omega_k/2k_B T}}{1-e^{-\\hbar\\omega_k/k_B T}}\n",
    "$$\n",
    "\n",
    "giving harmonic free energy $F_H$:\n",
    "\n",
    "$$\n",
    "F_H = \\sum_k \\left[ \\frac{1}{2}\\hbar\\omega_k + k_BT \\ln \\left( 1-e^{-\\hbar\\omega_k/k_B T} \\right) \\right]\n",
    "$$"
   ]
  },
  {
   "cell_type": "markdown",
   "metadata": {
    "cell_style": "center",
    "slideshow": {
     "slide_type": "slide"
    }
   },
   "source": [
    "#### Anharmonic perturbation\n",
    "\n",
    "Sustaining fourth order term in the Hamiltonian ($H = H_0 + H_2 + H_4$)\n",
    "leads to the anharmonic partition function $Z$:\n",
    "\n",
    "$$\n",
    "Z=e^{-E_0/k_B T}\\sum e^{-(E_2+E_4)/k_B T}=\n",
    "  e^{-E_0/k_B T}Z_H\\left[ 1- Z_H^{-1}\\sum\\frac{E_4}{k_B T}e^{-E_2/k_B T}\\right] \n",
    "$$  \n",
    "$$\n",
    "  Z = e^{-E_0/k_B T}Z_H\\left[ 1- \\frac{\\langle E_4 \\rangle_H}{k_B T}\\right]\n",
    "$$\n",
    "\n",
    "giving free energy $F$:\n",
    "\n",
    "$$\n",
    "F = E_0 - k_B T \\ln Z_H + \\langle E_4 \\rangle_H = E_0 + F_H + F_A\n",
    "$$"
   ]
  },
  {
   "cell_type": "markdown",
   "metadata": {
    "slideshow": {
     "slide_type": "slide"
    }
   },
   "source": [
    "#### Anharmonic free energy\n",
    "\n",
    "After rather lenghty calculations the anharmonic free energy term becomes:\n",
    "\n",
    "$$\n",
    "\\begin{align}\n",
    "F_A = & 12\\sum_{k, k'}\\Phi_{k,-k,k',-k'} (n_k+1/2)(n_{k'}+1/2) \\\\\n",
    "      & -\\frac{18}{\\hbar} \\sum_{k, k', k''}\\left\\{|\\Phi_{kk'k''}|^2  \n",
    "        \\left[\n",
    "           \\frac{n_k n_{k'}+ n_k + 1/3}\n",
    "                {(\\omega_k + \\omega_{k'} +\\omega_{k''})_p} + \n",
    "           \\frac{2n_k n_{k''} - n_k n_{k'} + n_{k''}}\n",
    "                {(\\omega_k + \\omega_{k'}-\\omega_{k''})_p}\n",
    "        \\right] \\right. \\\\\n",
    "     & \\left. +2\\Phi_{k,-k,k''}\\Phi_{k',-k',k''}\n",
    "             \\frac{n_k n_{k'}+ n_k + 1/4}\n",
    "                  {(\\omega_{k''})_p} \n",
    "        \\right\\} \\\\\n",
    "\\end{align}\n",
    "$$\n",
    "\n",
    "which can be used to calculate further termodynamic functions (entropy, heat capacity, forces, stresses, etc.). The formulas for harmonic parts are reasonably compact, e.g. $C_V$:\n",
    "\n",
    "$$\n",
    "C_V =  \\left(\\frac{\\partial U}{\\partial T} \\right)_V = -T \\frac{\\partial^2 F }{\\partial T^2}\n",
    "     =  \\sum_{\\mathbf{q}\\nu} k_\\mathrm{B}\n",
    "    \\left(\\frac{\\hbar\\omega(\\mathbf{q}\\nu)}{k_\\mathrm{B} T} \\right)^2\n",
    "    \\frac{\\exp(\\hbar\\omega(\\mathbf{q}\\nu)/k_\\mathrm{B}\n",
    "    T)}{[\\exp(\\hbar\\omega(\\mathbf{q}\\nu)/k_\\mathrm{B} T)-1]^2}\n",
    "$$\n",
    "\n",
    "Expectation value of the squared atomic  displacement:\n",
    "\n",
    "$$\n",
    "\\left\\langle |u^\\alpha(jl, t)|^2 \\right\\rangle = \\frac{\\hbar}{2Nm_j}\n",
    "   \\sum_{\\mathbf{q},\\nu}\\omega_\\nu(\\mathbf{q})^{-1}\n",
    "   (1+2n_\\nu(\\mathbf{q},T))|e^\\alpha_\\nu(j,\\mathbf{q})|^2,\n",
    "$$"
   ]
  },
  {
   "cell_type": "markdown",
   "metadata": {
    "slideshow": {
     "slide_type": "slide"
    }
   },
   "source": [
    "#### Thermal expansion\n",
    "\n",
    "$$\n",
    "F_H = \\sum_k \\left[ \\frac{1}{2}\\hbar\\omega_k + k_BT \\ln \\left( 1-e^{-\\hbar\\omega_k/k_B T} \\right) \\right]\n",
    "$$\n",
    "\n",
    "![QHA_Cu](Cu-QHA.png)\n",
    "\n",
    "---\n",
    "<span style=\"font-size:80%;\">*Figure from documentation of Phonopy package*</span>"
   ]
  },
  {
   "cell_type": "markdown",
   "metadata": {
    "slideshow": {
     "slide_type": "slide"
    }
   },
   "source": [
    "#### Phase transitions\n",
    "\n",
    "<center>\n",
    "<div style=\"width:90%;\">\n",
    "<img src=CaCl2_a.png style=\"width:45%; display: inline-block; padding:2%;\"/>\n",
    "<img src=CaCl2_b.png style=\"width:45%; display: inline-block; padding:2%;\"/>\n",
    "</div>\n",
    "</center>\n",
    "\n",
    "\n",
    "---\n",
    "<span style=\"font-size:80%;\">J. Łażewski, P. T. Jochym, P. Piekarz, and K. Parlinski; Phys. Rev. B **70** (2004) 104109 </span>"
   ]
  },
  {
   "cell_type": "markdown",
   "metadata": {
    "slideshow": {
     "slide_type": "skip"
    }
   },
   "source": []
  }
 ],
 "metadata": {
  "anaconda-cloud": {},
  "celltoolbar": "Slideshow",
  "hide_input": false,
  "kernelspec": {
   "display_name": "Python 3",
   "language": "python",
   "name": "python3"
  },
  "language_info": {
   "codemirror_mode": {
    "name": "ipython",
    "version": 3
   },
   "file_extension": ".py",
   "mimetype": "text/x-python",
   "name": "python",
   "nbconvert_exporter": "python",
   "pygments_lexer": "ipython3",
   "version": "3.6.13"
  },
  "livereveal": {
   "height": 768,
   "minScale": 0.85,
   "width": 1024
  },
  "toc": {
   "toc_cell": false,
   "toc_number_sections": false,
   "toc_section_display": "block",
   "toc_threshold": 6,
   "toc_window_display": true
  },
  "toc_position": {
   "height": "372px",
   "left": "1533px",
   "right": "20px",
   "top": "121px",
   "width": "366px"
  },
  "varInspector": {
   "cols": {
    "lenName": 16,
    "lenType": 16,
    "lenVar": 40
   },
   "kernels_config": {
    "python": {
     "delete_cmd_postfix": "",
     "delete_cmd_prefix": "del ",
     "library": "var_list.py",
     "varRefreshCmd": "print(var_dic_list())"
    },
    "r": {
     "delete_cmd_postfix": ") ",
     "delete_cmd_prefix": "rm(",
     "library": "var_list.r",
     "varRefreshCmd": "cat(var_dic_list()) "
    }
   },
   "types_to_exclude": [
    "module",
    "function",
    "builtin_function_or_method",
    "instance",
    "_Feature"
   ],
   "window_display": false
  },
  "widgets": {
   "state": {},
   "version": "1.1.1"
  }
 },
 "nbformat": 4,
 "nbformat_minor": 4
}
