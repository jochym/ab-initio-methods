{
 "cells": [
  {
   "cell_type": "markdown",
   "id": "b42d4230-0643-40f6-a364-1609fef38fce",
   "metadata": {},
   "source": [
    "# *Ab initio* methods in solid state physics\n",
    "\n",
    "## IX. Lattice dynamics - harmonic approximation\n",
    "\n",
    "----\n",
    "\n",
    "*Przemysław Piekarz and Paweł T. Jochym*\n",
    "\n",
    "*Institute of Nuclear Physics, Polish Academy of Sciences*"
   ]
  },
  {
   "cell_type": "markdown",
   "id": "87699db5",
   "metadata": {
    "slideshow": {
     "slide_type": "slide"
    }
   },
   "source": [
    "### Lattice dynamics\n",
    "---\n",
    "* Atoms vibrate $\\rightarrow$ lattice vibrations $\\rightarrow$ thermodynamics \n",
    "* Lattice dynamics:\n",
    "    - heat conductance\n",
    "    - heat capacity\n",
    "    - thermodynamic stability\n",
    "    - mechanical stability\n",
    "    - phase transitions\n",
    "    - thermoelectricity    \n",
    "---\n",
    "1. A. A. Maradudin, *Theory of Lattice Dynamics in the Harmonic Approximation* / (New York :, 1963.).\n",
    "2. M. Born and K. Huang, *Dynamical Theory of Crystal Lattices* (Oxford University Press, 1988)."
   ]
  },
  {
   "cell_type": "markdown",
   "id": "732391a0-d9dd-4e21-a345-4ca9bb7f2c9f",
   "metadata": {
    "slideshow": {
     "slide_type": "slide"
    }
   },
   "source": [
    "### Energy of the crystal\n",
    "\n",
    "---\n",
    "\n",
    "Atomic positions in crystal lattice are described by the position vector $\\mathbf{R}(\\mathbf{n}, i)$: \n",
    "$$\n",
    "    \\mathbf{R}(\\mathbf{n}, i) = n_a \\mathbf{a} + n_b \\mathbf{b} + n_c \\mathbf{c} + \\mathbf{r}_i\n",
    "$$\n",
    "where $i$ numbers atoms in the primitive unit cell and vector of integers $\\mathbf{n}=[n_a, n_b, n_c]$ numbers unit cells in the lattice while $\\mathbf{r}_i$ is a position of the $i$-th atom relative to the origin of the unit cell with cell vectors $\\mathbf{a}, \\mathbf{b}, \\mathbf{c}$.\n",
    "Symmetry operations of the lattice act only on indexes $i, j, k, \\ldots$, while the periodicity is encapsulated in the integer vector $\\mathbf{n}$ and lattice vectors  $\\mathbf{a}, \\mathbf{b}, \\mathbf{c}$.\n",
    "\n",
    "Potential energy of the lattice can be expanded as a function of the atomic displacements $s_{n i\\alpha}$, where $\\alpha=x,y,z$, (assuming small vibrations and negligible in quantum effects): \n",
    "$$\n",
    "      V(s) = V_0 + \\sum_{n i \\alpha}\n",
    "      \\left. \\frac{\\partial V}{\\partial s_{n i\\alpha}}\\right|_{s=0} \n",
    "      s_{n i\\alpha} + \n",
    "    \\frac{1}{2}\\sum_{n i\\alpha}\\sum_{n' i'\\alpha'}\n",
    "        \\left. \\frac{\\partial^2 V}{\\partial s_{n i\\alpha}\\partial s_{n' i'\\alpha'}}\\right|_{s=0} s_{n i\\alpha} s_{n' i'\\alpha'} + O(s^3)\n",
    "$$\n",
    "\n",
    "The linear term vanishes due to the equilibrium point assumption and we neglect higher order terms assuming they are small."
   ]
  },
  {
   "cell_type": "markdown",
   "id": "c3514394-b482-400d-b485-1d45ab9e0630",
   "metadata": {
    "slideshow": {
     "slide_type": "slide"
    },
    "tags": []
   },
   "source": [
    "### Equation of motion\n",
    "\n",
    "---\n",
    "\n",
    "We can now write the Lagrangean $L=T-V$ and the Euler-Lagrange equation:\n",
    "$$\n",
    "\\frac{d}{dt}\\frac{\\partial L}{\\partial\\dot{s}_{n i\\alpha} }=\n",
    "\\frac{\\partial L}{\\partial s_{n i\\alpha} }\n",
    "$$\n",
    "\n",
    "resulting in the equation of motion:\n",
    "$$\n",
    "m_i \\ddot{s}_{n i\\alpha} = - \\sum_{n' i'\\alpha'} \n",
    "    \\Phi_{n i\\alpha}^{n' i'\\alpha'} s_{n' i'\\alpha'} \n",
    "$$\n",
    "\n",
    "where we have introduced force constants matrix $\\Phi$ denoting the second derivative term:\n",
    "$$\n",
    "\\Phi_{n i\\alpha}^{n' i'\\alpha'}=\\left.\\frac{\\partial^2 V(s)}{\\partial s_{n i\\alpha}\\partial s_{n' i'\\alpha'}}\\right|_{s_{n i\\alpha}=0}\n",
    "$$\n",
    "Obviously, $\\Phi_{n i\\alpha}^{n' i'\\alpha'}=\\Phi_{n' i'\\alpha'}^{n i\\alpha}$ is symmetric. "
   ]
  },
  {
   "cell_type": "markdown",
   "id": "694d3abf-4df4-4d16-b713-81e957fa6456",
   "metadata": {
    "slideshow": {
     "slide_type": "slide"
    },
    "tags": []
   },
   "source": [
    "### Solution of EOM\n",
    "\n",
    "---\n",
    "\n",
    "We can search for the solution of EOM with the standard oscillating ansatz:\n",
    "$$\n",
    "s_{n i\\alpha}(t)=\\frac{1}{\\sqrt{m_i}}u_{n i\\alpha} e^{-i\\omega t}\n",
    "$$\n",
    "The equation of motion now takes form of eigen-equation:\n",
    "$$\n",
    "\\omega^2 u_{n i\\alpha} = \\sum_{n' i'\\alpha'} \n",
    "    \\Phi_{n i\\alpha}^{n' i'\\alpha'} u_{n' i'\\alpha'} \n",
    "$$\n",
    "\n",
    "Note that the interaction between atoms ${n i\\alpha}$ and ${n' i'\\alpha'}$ depend only on relative positions of unit cells $n$ and $n'$.\n",
    "Thus, we can select arbitrary unit cell for the origin and consider one of the indexes constant $n'=0$ and replace $\\Phi_{n i\\alpha}^{n' i'\\alpha'}$ with $\\Phi_{i\\alpha}^{i'\\alpha'}(n)$ taking care of the translational symmetry of the crystal."
   ]
  },
  {
   "cell_type": "markdown",
   "id": "84d01e9a-6f0f-4786-ae8a-76d9ec3ec6fd",
   "metadata": {
    "slideshow": {
     "slide_type": "slide"
    },
    "tags": []
   },
   "source": [
    "### Dynamical matrix\n",
    "\n",
    "---\n",
    "\n",
    "We can further simplify the solution by taking into account the periodicity of the crystal lattice and taking another ansatz for a solution -- this time oscillating in spatial coordinates with wave vector $\\mathbf{q}$:\n",
    "$$\n",
    "u_{n i\\alpha}=\\varepsilon_{i\\alpha}e^{i\\mathbf{q}\\cdot\\mathbf{R}_n}\n",
    "$$\n",
    "where $\\mathbf{R}_n$ denotes relative positional vector of the $n^\\mathrm{th}$ unit cell and $\\mathbf{q}$ is the point in the first Brillouin zone.\n",
    "\n",
    "Finally, the equation of motion takes form of eigenequation:\n",
    "$$\n",
    "\\omega^2(\\mathbf{q}) \\varepsilon_{i\\alpha} = \n",
    "    \\sum_{i'\\alpha'} D_{i\\alpha}^{i'\\alpha'}(\\mathbf{q}) \\varepsilon_{i'\\alpha'}\n",
    "$$\n",
    "where dynamical matrix $D$ is defined by the equation:\n",
    "$$\n",
    "D_{i\\alpha}^{i'\\alpha'}(\\mathbf{q}) = \n",
    "    \\sum_{n} \\frac{\\Phi_{i\\alpha}^{i'\\alpha'}(n)}\n",
    "                    {\\sqrt{m_i m_{i'}}}\n",
    "    e^{i\\mathbf{q}\\cdot\\mathbf{R}_n}\n",
    "$$\n",
    "above and $\\varepsilon_{i\\alpha}$ present themselves as eigenvectors of the dynamical matrix -- i.e. polarisation vectors or normal base vectors."
   ]
  },
  {
   "cell_type": "markdown",
   "id": "2f5f45db-ecd2-4bd6-9cb1-d93bd0a264e2",
   "metadata": {
    "slideshow": {
     "slide_type": "slide"
    },
    "tags": []
   },
   "source": [
    "### Force constants\n",
    "\n",
    "---\n",
    "\n",
    "Atomic displacements $s_{n i\\alpha}$ are connected with forces acting on atoms $F_{n i \\alpha}$ with linear relation:\n",
    "\n",
    "$$\n",
    "F_{n i \\alpha} = - \\frac{\\partial V}{\\partial s_{n i\\alpha}} =\n",
    "      - \\sum_{m j\\beta} \n",
    "    \\Phi_{n i\\alpha}^{m j\\beta} s_{m j\\beta}\n",
    "$$\n",
    "\n",
    "This is again a linear force-displacement relation similar to the one we encountered while calculating elastic tensor in Lecture 8. And we can use similar trick to derive matrix $\\Phi$ from sets of forces and displacements\n",
    "\n",
    "Similar to the elastic tensor case the $\\Phi$ matrix is subject to symmetries of a particular crystal. Unfortunately, here it is much more complicated. But still we can symbolically rewrite above relation as following large set $N$ of linear equations ($a=1 \\ldots N$):\n",
    "$$\n",
    "F^a = S(s^a) I_\\Phi \n",
    "$$\n",
    "Where $a$ numbers set of displacements, $S(s^a)$ is a symmetry-encoding matrix which is a function of displacements and $I_\\Phi$ is a set of independent parameters of $\\Phi$. "
   ]
  },
  {
   "cell_type": "markdown",
   "id": "1c2c6c36-104e-40d8-82aa-9d13ae21e167",
   "metadata": {
    "slideshow": {
     "slide_type": "slide"
    },
    "tags": []
   },
   "source": [
    "### Direct (Finite Displacements) method\n",
    "---\n",
    "The force-displacement relation can be approximately solved by fitting the $I_\\Phi$ parameters to make the sides of the equation as close as possible in the least-squares sense. Again, we often use SVD for this, but this is by far not the only method of solving this problem (e.g. Elastic-net regression, Adaptive LASSO).\n",
    "\n",
    "The remaining problems are:\n",
    "* Construction of the matrix $S(s^a)$ and vector $I_\\Phi$\n",
    "* Selection of displacement sets $s^a$\n",
    "* Multiple subtle issues (supercell selection, exact points, etc.)\n",
    "\n",
    "---\n",
    "1. K. Parlinski, Z. Q. Li, and Y. Kawazoe, Phys. Rev. Lett. 78, 4063 (1997)\n",
    "2. T. Tadano, Y. Gohda, and S. Tsuneyuki, J. Phys.: Condens. Matter 26, 225402 (2014)\n",
    "3. ALAMODE manual: https://alamode.readthedocs.io/en/latest/almdir/formalism_alm.html"
   ]
  },
  {
   "cell_type": "markdown",
   "id": "48505ee5-ddd0-49a9-bc4a-4d8de6e9349b",
   "metadata": {
    "slideshow": {
     "slide_type": "slide"
    },
    "tags": []
   },
   "source": [
    "### Direct method in practice\n",
    "\n",
    "---\n",
    "\n",
    "* Construction of $S(s)$ is coded in multiple phonon-calculation programs (ALAMODE, PhonoPy, Phonon, Phon, GULP, ...)\n",
    "* Selection of $I_\\Phi$ follows directly from the $S$ matrix\n",
    "* The same goes for the rest of computational details\n",
    "* Selection of displacements:\n",
    "    - Elementary displacements (minimal set: PhonoPy, Phonon, ...)\n",
    "    - Random or thermodynamic displacements (ALAMODE, HECSS)\n",
    "* Selection of the supercell:\n",
    "    - Smallest cell containing interaction range\n",
    "    - Preferably commensurate with important points in reciprocal space\n",
    "    - Preferably not braking symmetry of the crystal\n"
   ]
  },
  {
   "cell_type": "markdown",
   "id": "d35d90d1-50b1-4acf-a4f8-b922236876d6",
   "metadata": {
    "slideshow": {
     "slide_type": "slide"
    },
    "tags": []
   },
   "source": [
    "### Goals\n",
    "---\n",
    "* Frequencies $\\omega(\\mathbf{q})$\n",
    "* Polarization vectors $\\varepsilon$\n",
    "* Density of states $p(\\omega)$\n",
    "* Structure stability\n",
    "* Phase transitions\n",
    "* Phonon heat capacity"
   ]
  }
 ],
 "metadata": {
  "hide_input": false,
  "kernelspec": {
   "display_name": "Python 3",
   "language": "python",
   "name": "python3"
  },
  "language_info": {
   "codemirror_mode": {
    "name": "ipython",
    "version": 3
   },
   "file_extension": ".py",
   "mimetype": "text/x-python",
   "name": "python",
   "nbconvert_exporter": "python",
   "pygments_lexer": "ipython3",
   "version": "3.6.13"
  },
  "varInspector": {
   "cols": {
    "lenName": 16,
    "lenType": 16,
    "lenVar": 40
   },
   "kernels_config": {
    "python": {
     "delete_cmd_postfix": "",
     "delete_cmd_prefix": "del ",
     "library": "var_list.py",
     "varRefreshCmd": "print(var_dic_list())"
    },
    "r": {
     "delete_cmd_postfix": ") ",
     "delete_cmd_prefix": "rm(",
     "library": "var_list.r",
     "varRefreshCmd": "cat(var_dic_list()) "
    }
   },
   "types_to_exclude": [
    "module",
    "function",
    "builtin_function_or_method",
    "instance",
    "_Feature"
   ],
   "window_display": false
  }
 },
 "nbformat": 4,
 "nbformat_minor": 5
}
