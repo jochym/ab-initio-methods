{
 "cells": [
  {
   "cell_type": "markdown",
   "metadata": {},
   "source": [
    "# *Ab initio* methods<br/> in solid state physics\n",
    "\n",
    "## XIV. Toolbox\n",
    "---\n",
    "\n",
    "*Przemysław Piekarz*<br/>\n",
    "*Paweł T. Jochym*\n",
    "\n",
    "*Institute of Nuclear Physics,*<br/> \n",
    "*Polish Academy of Sciences*"
   ]
  },
  {
   "cell_type": "markdown",
   "metadata": {},
   "source": [
    "### Computational Solid State Toolbox\n",
    "---\n",
    "\n",
    "* Low level\n",
    "    - Kinds of ab-initio codes\n",
    "    - You get what you pay for?\n",
    "* High level\n",
    "    - Individual interfaces\n",
    "    - Umbrella codes\n",
    "    - Post processing tools\n",
    "    - Computing environments\n",
    "    - Visualisation"
   ]
  },
  {
   "cell_type": "markdown",
   "metadata": {},
   "source": [
    "### *Ab Initio* programs (by method)\n",
    "---\n",
    " \n",
    "- plane wave (VASP, AbInit, QE, ...)\n",
    "    * Long range interactions, expensive vacum, high accuracy, bed scaling\n",
    "- localized orbitals (Siesta, OpenMX, ...)\n",
    "    * linear scaling, low acuracy, free vacum\n",
    "- LAPW (GPAW, Elk, Fleur, ...)\n",
    "    * Expensive, good for electronic structure\n",
    "- Gaussian (gaussian, nwchem, ...)\n",
    "    * chamistry\n",
    "- Mixed (GM/MM, Wien2K, ...)\n",
    "    * often specialized codes\n",
    "- Many more (start here: [Wikipedia list](https://en.wikipedia.org/wiki/List_of_quantum_chemistry_and_solid-state_physics_software) or here: [ASE Calculators](https://wiki.fysik.dtu.dk/ase/ase/calculators/calculators.html) )\n",
    " "
   ]
  },
  {
   "cell_type": "markdown",
   "metadata": {},
   "source": [
    "### *Ab initio* programs - other classifications\n",
    "---\n",
    "\n",
    "- Non-free\n",
    "    * CASTEP, Gaussian, Mopac, ...\n",
    "    * VASP, Wien2k, ONETEP, ...\n",
    "- Gratis\n",
    "    * AbInit, QE, Siesta, GPAW, ..."
   ]
  },
  {
   "cell_type": "markdown",
   "metadata": {},
   "source": [
    "---\n",
    "- Closed source\n",
    "    * CASTEP, Mopac, ...\n",
    "- Open source\n",
    "    * VASP, Wien2k, ONETEP, ...\n",
    "- Free software\n",
    "    * AbInit, QE, Siesta, GPAW, ..."
   ]
  },
  {
   "cell_type": "markdown",
   "metadata": {},
   "source": [
    "### Why is source important?\n",
    "---\n",
    "\n",
    "* You need to know what you are doing!\n",
    "* Do you want to tell the referee: *I do not know. I just push this button.* ?\n",
    "* **REPRODUCIBILITY**\n",
    "* Eventually, you will need to change or inspect the code to get your idea working.\n",
    "* Sharing your results"
   ]
  },
  {
   "cell_type": "markdown",
   "metadata": {},
   "source": [
    "---\n",
    "### Why price is *less* important\n",
    "\n",
    "* Your equipment is usually more expensive (Wien2k is 400EUR, VASP 5000EUR)\n",
    "* Sometimes even your one conference trip\n",
    "* You can use your grant money for this\n",
    "* Sometimes *it is worth it* - not always"
   ]
  },
  {
   "cell_type": "markdown",
   "metadata": {},
   "source": [
    "### Higher levels\n",
    "---\n",
    "- Interfacing\n",
    "    * individual (p4vasp, vaspview, abipy, PWgui, ...)\n",
    "    * umbrella (ASE, XCrysDen, VESTA, ...)\n",
    "- Post-processing\n",
    "    * lattice dynamics (ALAMODE, TDEP, ...)\n",
    "    * Electronic structure (WANNIER90, BandUP, ...)\n",
    "    * Other (XtalOpt, BoltzTraP, Elastic, ...)\n",
    "    * Good scripting language (Python, Rust, Julia, Go, ...)\n",
    "    * Good science library (ASE, numpy, scipy, sympy, ...)\n",
    "    * Good visualisation library (matplotlib, NGL, bokeh, plotly, GadFly, ...)\n",
    "- Computing environment\n",
    "    * JupyterLab\n",
    "    * CoCalc/SAGE\n",
    "    * ..."
   ]
  },
  {
   "cell_type": "code",
   "execution_count": null,
   "metadata": {},
   "outputs": [],
   "source": []
  }
 ],
 "metadata": {
  "kernelspec": {
   "display_name": "Python 3",
   "language": "python",
   "name": "python3"
  }
 },
 "nbformat": 4,
 "nbformat_minor": 4
}
