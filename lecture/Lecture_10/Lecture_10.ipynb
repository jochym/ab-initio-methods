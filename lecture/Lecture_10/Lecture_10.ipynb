{
 "cells": [
  {
   "cell_type": "code",
   "execution_count": 1,
   "id": "43a2ef92",
   "metadata": {
    "extensions": {
     "jupyter_dashboards": {
      "version": 1,
      "views": {
       "grid_default": {},
       "report_default": {}
      }
     }
    },
    "init_cell": true,
    "jupyter": {
     "source_hidden": true
    },
    "slideshow": {
     "slide_type": "skip"
    },
    "tags": []
   },
   "outputs": [],
   "source": [
    "from scipy.special import ellipj\n",
    "from numpy import linspace, exp, cos\n",
    "from matplotlib.pylab import plot, legend, figure\n",
    "from ipywidgets import interact, fixed "
   ]
  },
  {
   "cell_type": "markdown",
   "id": "b42d4230-0643-40f6-a364-1609fef38fce",
   "metadata": {
    "extensions": {
     "jupyter_dashboards": {
      "version": 1,
      "views": {
       "grid_default": {},
       "report_default": {}
      }
     }
    },
    "slideshow": {
     "slide_type": "slide"
    }
   },
   "source": [
    "# *Ab initio* methods in solid state physics\n",
    "\n",
    "## X. Lattice dynamics - anharmonicity\n",
    "\n",
    "----\n",
    "\n",
    "*Przemysław Piekarz and Paweł T. Jochym*\n",
    "\n",
    "*Institute of Nuclear Physics, Polish Academy of Sciences*"
   ]
  },
  {
   "cell_type": "markdown",
   "id": "87699db5",
   "metadata": {
    "extensions": {
     "jupyter_dashboards": {
      "version": 1,
      "views": {
       "grid_default": {},
       "report_default": {}
      }
     }
    },
    "slideshow": {
     "slide_type": "slide"
    }
   },
   "source": [
    "### Anharmonic lattice dynamics\n",
    "---\n",
    "* Harmonic oscillator\n",
    "* Why anhamonicity?\n",
    "* Quartic oscillator\n",
    "* Anharmonic perturbation theory\n",
    "* Phonon life times\n",
    "* Lattice thermal conductivity\n",
    "---\n",
    "1. A. A. Maradudin, *Theory of Lattice Dynamics in the Harmonic Approximation* / (New York :, 1963.).\n",
    "2. M. Born and K. Huang, *Dynamical Theory of Crystal Lattices* (Oxford University Press, 1988)."
   ]
  },
  {
   "cell_type": "markdown",
   "id": "6d133357-39ee-4efb-bb45-3d56b3dc0731",
   "metadata": {
    "extensions": {
     "jupyter_dashboards": {
      "version": 1,
      "views": {
       "grid_default": {},
       "report_default": {}
      }
     }
    },
    "slideshow": {
     "slide_type": "slide"
    },
    "tags": []
   },
   "source": [
    "### Harmonic oscillator\n",
    "---\n",
    "Classic harmonic oscillator with mass $m$ and frequency $\\omega$ is governed by the quadratic potential:\n",
    "\n",
    "$$\n",
    "V(u)=\\frac{m\\omega^2}{2}u^2 \n",
    "$$\n",
    "\n",
    "where $u$ is the displacement from the equilibrium position. The solution of the equation of motion for this potential is an oscillating motion $u(t) = A \\sin(\\omega t + \\phi)$, where frequency and phase ($\\phi$) are *constant* and are independent from amplitude ($A$). This solution is just a single, constant Fourier component (delta) when transformed to frequency domain. This reminds us of the solution of the harmonic approximation for the crystal from the previous lecture:\n",
    "\n",
    "$$\n",
    "\\omega^2(\\mathbf{q}) \\varepsilon_{i\\alpha} = \n",
    "    \\sum_{i'\\alpha'} D_{i\\alpha}^{i'\\alpha'}(\\mathbf{q}) \\varepsilon_{i'\\alpha'}\n",
    "$$\n",
    "\n",
    "where the dynamical matrix $D_{i\\alpha}^{i'\\alpha'}(\\mathbf{q})$ is a function of wave vector $\\mathbf{q}$."
   ]
  },
  {
   "cell_type": "markdown",
   "id": "dc5570ad-4717-492d-8785-775b30e8d994",
   "metadata": {
    "extensions": {
     "jupyter_dashboards": {
      "version": 1,
      "views": {
       "grid_default": {},
       "report_default": {}
      }
     }
    },
    "slideshow": {
     "slide_type": "slide"
    },
    "tags": []
   },
   "source": [
    "### Why we need anharmonicity?\n",
    "---\n",
    "$$\n",
    "\\omega^2(\\mathbf{q}) \\varepsilon_{i\\alpha} = \n",
    "    \\sum_{i'\\alpha'} D_{i\\alpha}^{i'\\alpha'}(\\mathbf{q}) \\varepsilon_{i'\\alpha'}\n",
    "$$"
   ]
  },
  {
   "cell_type": "markdown",
   "id": "19810eab-750d-4c13-8b38-7607be002ee0",
   "metadata": {
    "extensions": {
     "jupyter_dashboards": {
      "version": 1,
      "views": {
       "grid_default": {},
       "report_default": {}
      }
     }
    },
    "slideshow": {
     "slide_type": "fragment"
    },
    "tags": []
   },
   "source": [
    "Consequences:\n",
    "- phonon modes are *independent*,\n",
    "- frequencies are constant with temperature,\n",
    "- no interaction between modes $\\Rightarrow$ **no thermal equilibrium (!!)**,\n",
    "- \"ballistic\" thermal transport without resistance,\n",
    "- no phase transitions."
   ]
  },
  {
   "cell_type": "markdown",
   "id": "7a3b3065-f6f5-4a52-9c7d-f6a60b704e4e",
   "metadata": {
    "extensions": {
     "jupyter_dashboards": {
      "version": 1,
      "views": {
       "grid_default": {},
       "report_default": {}
      }
     }
    },
    "slideshow": {
     "slide_type": "fragment"
    },
    "tags": []
   },
   "source": [
    "---\n",
    "<center><b>There are no harmonic crystals in nature!</b></center>"
   ]
  },
  {
   "cell_type": "markdown",
   "id": "42ecae50",
   "metadata": {
    "cell_style": "center",
    "extensions": {
     "jupyter_dashboards": {
      "version": 1,
      "views": {
       "grid_default": {},
       "report_default": {}
      }
     }
    },
    "slideshow": {
     "slide_type": "slide"
    },
    "tags": []
   },
   "source": [
    "### Quartic oscillator\n",
    "---"
   ]
  },
  {
   "cell_type": "markdown",
   "id": "40d12a5e",
   "metadata": {
    "cell_style": "split",
    "extensions": {
     "jupyter_dashboards": {
      "version": 1,
      "views": {
       "grid_default": {},
       "report_default": {}
      }
     }
    },
    "slideshow": {
     "slide_type": "-"
    },
    "tags": []
   },
   "source": [
    "$$\n",
    "V(u)=\\frac{m\\omega^2}{2}u^2 + \\frac{\\lambda}{4}u^4,\n",
    "$$\n",
    "\n",
    "which leads to the equation of motion:\n",
    "\n",
    "$$\n",
    "m \\ddot{u} + m \\omega^2 u + \\lambda u^3 = 0.\n",
    "$$\n",
    "\n",
    "which has a solution: $\n",
    "u(t)=A \\text{cn}(t \\Omega, \\mu),\n",
    "$ where $\\text{cn}$ is an elliptic Jacobi function and \n",
    "\n",
    "$$\n",
    "\\Omega=\\sqrt{\\omega^2 +\\frac{\\lambda}{m}A^2}\n",
    "\\;\\; ; \\;\\;\n",
    "\\mu=\\sqrt{\\frac{\\lambda}{2 m}\\left(\\frac{A}{\\Omega}\\right)^2}\n",
    "$$"
   ]
  },
  {
   "cell_type": "code",
   "execution_count": 2,
   "id": "b34c1696",
   "metadata": {
    "cell_style": "split",
    "extensions": {
     "jupyter_dashboards": {
      "version": 1,
      "views": {
       "grid_default": {},
       "report_default": {}
      }
     }
    },
    "jupyter": {
     "source_hidden": true
    },
    "slideshow": {
     "slide_type": "fragment"
    },
    "tags": []
   },
   "outputs": [
    {
     "data": {
      "application/vnd.jupyter.widget-view+json": {
       "model_id": "691fcd75bb574e87a712f78e091c0a1e",
       "version_major": 2,
       "version_minor": 0
      },
      "text/plain": [
       "interactive(children=(FloatSlider(value=0.0, description='m', max=1.0, step=0.01), Output()), _dom_classes=('w…"
      ]
     },
     "metadata": {},
     "output_type": "display_data"
    }
   ],
   "source": [
    "x = linspace(0,20,100)\n",
    "@interact(u=fixed(x), m=(0,1,0.01))\n",
    "def ejf(u,m):\n",
    "    figure(figsize=(10,7))\n",
    "    plot(u, cos(u), ':', label='cos(t)')\n",
    "    l = 1-exp(1-1/(1-m))\n",
    "    plot(u, ellipj(u,l)[1], label=f'cn(t,{l:5.3f})')\n",
    "    legend(loc='lower left');"
   ]
  },
  {
   "cell_type": "markdown",
   "id": "7d3f0497-a72e-4fff-82a4-0d091a360920",
   "metadata": {
    "extensions": {
     "jupyter_dashboards": {
      "version": 1,
      "views": {
       "grid_default": {},
       "report_default": {}
      }
     }
    },
    "slideshow": {
     "slide_type": "-"
    },
    "tags": []
   },
   "source": [
    "---\n",
    "P.T. Jochym, J. Łażewski, W. Szuszkiewicz; [Scientific Reports 10, 19783 (2020)](https://doi.org/10.1038/s41598-020-76454-y)"
   ]
  },
  {
   "cell_type": "markdown",
   "id": "732391a0-d9dd-4e21-a345-4ca9bb7f2c9f",
   "metadata": {
    "extensions": {
     "jupyter_dashboards": {
      "version": 1,
      "views": {
       "grid_default": {},
       "report_default": {}
      }
     }
    },
    "slideshow": {
     "slide_type": "slide"
    }
   },
   "source": [
    "### Energy of the crystal\n",
    "\n",
    "---\n",
    "\n",
    "Potential energy of the lattice can be expanded as a function of the atomic displacements $s_{n i\\alpha}$, where $\\alpha=x,y,z$, (assuming small vibrations and negligible in quantum effects): \n",
    "\n",
    "$$\n",
    "      V(s) = V_0 + \\sum_{n i \\alpha}\n",
    "       + \n",
    "    \\frac{1}{2}\\sum_{n i\\alpha}\\sum_{n' i'\\alpha'}\n",
    "        \\left. \\frac{\\partial^2 V}{\\partial s_{n i\\alpha}\\partial s_{n' i'\\alpha'}}\\right|_{s=0} s_{n i\\alpha} s_{n' i'\\alpha'} + O(s^3)\n",
    "$$\n",
    "\n",
    "The linear term vanishes due to the equilibrium point assumption. The quadratic term determines the behavior of the crystal in the small-vibrations regime investigated previously. The $O(s^3)$ is the subject of our following considerations. If $U(s)=V(s)-V_0$:\n",
    "\n",
    "$$\n",
    "U(s) = \\sum\\limits_{p=2}^{\\infty} U_p \n",
    " = \\sum\\limits_{p=2}^{\\infty}\\frac{1}{p!}\\sum\\limits_{[n,i,\\alpha]}\\Phi(n_1 i_1\\alpha_1;\\ldots;n_p i_p\\alpha_p) s_{n_1 i_1\\alpha_1}\\cdots s_{n_p i_p\\alpha_p}\n",
    "$$"
   ]
  },
  {
   "cell_type": "markdown",
   "id": "c8fa1008-cb29-43dd-b5a7-d4476c6e07fa",
   "metadata": {
    "extensions": {
     "jupyter_dashboards": {
      "version": 1,
      "views": {
       "grid_default": {},
       "report_default": {}
      }
     }
    },
    "slideshow": {
     "slide_type": "slide"
    }
   },
   "source": [
    "### Anharmonic perturbation theory\n",
    "---\n",
    "If $U_3, U_4$ are small compared to $U_2$ complete Hamiltonian $H=H_0+H'$ may be treated as perturbation of the non-interacting Hamiltonian $H_0$:\n",
    "\n",
    "$$\n",
    "H\\approx H_0+U_2+U_3\n",
    "$$\n",
    "\n",
    "If $\\mathbf{G}_q(\\omega)$ is a one-phonon Green's function for the full Hamiltonian and $\\mathbf{G}^0_q(\\omega)$ is a Green's function for the non-interacting Hamiltonian $H_0$, then we can write following Dyson equation:\n",
    "\n",
    "$$\n",
    "[\\mathbf{G}_q(\\omega)]^{-1} = [\\mathbf{G}^0_q(\\omega)]^{-1} - \\mathbf{\\Sigma}_q(\\omega)\n",
    "$$\n",
    "\n",
    "where $\\mathbf{\\Sigma}_q(\\omega_q)$ is an anharmonic self-energy. If this correction is sufficiently small and $\\hbar\\omega_q \\gg |{\\Sigma}_q(\\omega_q)|$ the changes in phonon spectrum may be described by frequency shift $\\Delta_q$ and linewidth $\\Gamma_q$:\n",
    "\n",
    "$$\n",
    "\\Delta_q = -\\frac{1}{\\hbar}\\mathrm{Re}\\, {\\Sigma}_q(\\omega_q) \\;  ; \\; \\; \\;\n",
    "\\Gamma_q = \\frac{1}{\\hbar}\\mathrm{Im}\\, {\\Sigma}_q(\\omega_q) \n",
    "$$"
   ]
  },
  {
   "cell_type": "markdown",
   "id": "f5727e17",
   "metadata": {
    "extensions": {
     "jupyter_dashboards": {
      "version": 1,
      "views": {
       "grid_default": {},
       "report_default": {}
      }
     }
    },
    "slideshow": {
     "slide_type": "slide"
    }
   },
   "source": [
    "### Third order anharmonic self-energy\n",
    "---\n",
    "<center><img src=\"diag_phi3.svg\"/></center>\n",
    "$$\n",
    "\\Sigma^{TP}_q=-\\frac{1}{\\hbar}\\sum\\limits_{q',j}\n",
    "V(-q;q;\\mathbf{0}j)\n",
    "V(\\mathbf{0}j;q';q') \\frac{2n+1}{\\omega_{\\mathbf{0}j}} \\; ; \\;\\;\\;\n",
    "V(q_1;\\ldots;q_n) = \\left(\\frac{\\hbar}{2}\\right)^{n/2}\n",
    "\\frac{\\Phi(q_1;\\ldots;q_n)}{\\sqrt{\\omega_{q_1}\\cdots\\omega_{q_n}}}\n",
    "$$"
   ]
  },
  {
   "cell_type": "markdown",
   "id": "c9602060",
   "metadata": {
    "slideshow": {
     "slide_type": "fragment"
    }
   },
   "source": [
    "Phonon linewidth:\n",
    "\n",
    "$$\n",
    "\\Gamma^{\\mathrm{anh}}_{\\boldsymbol{q}j}(\\omega) = \\frac{\\pi}{2\\hbar^{2}}\\sum_{\\boldsymbol{q}_{1},\\boldsymbol{q}_{2}}\\sum_{j_{1},j_{2}}\n",
    "     |V^{(3)}_{-\\boldsymbol{q}j,\\boldsymbol{q}_{1}j_{1},\\boldsymbol{q}_{2}j_{2}}|^{2} \n",
    "      \\times \\left[ (n_{1}+n_{2} + 1)( \\delta{(\\omega - \\omega_{1} - \\omega_{2})-\\delta{(\\omega + \\omega_{1} + \\omega_{2})}}) \\right. \n",
    "$$\n",
    "$$\n",
    "      \\left. \\hspace{14em} (n_{1}-n_{2})(\\delta{(\\omega + \\omega_{1} - \\omega_{2})}-\\delta{(\\omega - \\omega_{1} + \\omega_{2})})\\right]\n",
    "$$"
   ]
  },
  {
   "cell_type": "markdown",
   "id": "75d813bc-4609-483d-8535-4cf21dab6bb1",
   "metadata": {
    "extensions": {
     "jupyter_dashboards": {
      "version": 1,
      "views": {
       "grid_default": {},
       "report_default": {}
      }
     }
    },
    "slideshow": {
     "slide_type": "slide"
    }
   },
   "source": [
    "### Fourth order anharmonic self-energy\n",
    "---\n",
    "<center><img src=\"diag_phi4.svg\"/></center>\n",
    "\n",
    "$$\n",
    "\\Sigma^\\mathrm{loop}_q=-\\sum\\limits_{q'}\n",
    "V(q;-q;q';-q')\n",
    "\\frac{2n+1}{2}\n",
    "$$"
   ]
  },
  {
   "cell_type": "markdown",
   "id": "84800e95",
   "metadata": {
    "slideshow": {
     "slide_type": "slide"
    }
   },
   "source": [
    "### Lattice thermal conductivity\n",
    "---\n",
    "The lattice thermal conductivity tensor $\\kappa_{\\mathrm{ph}}^{\\mu\\nu}(T)$\n",
    "\n",
    "$$\n",
    "\\kappa_{\\mathrm{ph}}^{\\mu\\nu}(T) = \\frac{1}{V N_{q}} \\sum_{\\boldsymbol{q},j}c_{\\boldsymbol{q}j}(T)v_{\\boldsymbol{q}j}^{\\mu}v_{\\boldsymbol{q}j}^{\\nu}\\tau_{\\boldsymbol{q}j}(T),\n",
    "$$\n",
    "\n",
    "where $V$ is the unit cell volume, $c_{\\boldsymbol{q}j} = \\hbar\\omega_{\\boldsymbol{q}j}\\partial n_{\\boldsymbol{q}j}/\\partial T$, and $\\tau_{\\boldsymbol{q}j}(T)$ is the phonon lifetime. The phonon lifetime is estimated using the Matthiessen's rule as:\n",
    "\n",
    "$$\n",
    "\\tau_{\\boldsymbol{q}j}^{-1}(T) = 2 (\\Gamma_{\\boldsymbol{q}j}^{\\mathrm{anh}}(T) + \\Gamma_{\\boldsymbol{q}j}^{\\mathrm{iso}}).\n",
    "$$\n",
    "\n",
    "Bulk thermal conductivity:\n",
    "\n",
    "$$\n",
    "\\kappa_{\\mathrm{ph}}^{\\mu\\mu} = \\frac{1}{V N_{q}}\n",
    "\\int\\limits_0^\\infty\\sum_{\\boldsymbol{q},j}c_{\\boldsymbol{q}j}v_{\\boldsymbol{q}j}^{\\mu}v_{\\boldsymbol{q}j}^{\\mu}\\tau_{\\boldsymbol{q}j} \\delta(\\omega-\\omega_{\\boldsymbol{q}j}) d\\omega.\n",
    "$$"
   ]
  },
  {
   "cell_type": "markdown",
   "id": "41f72669",
   "metadata": {
    "slideshow": {
     "slide_type": "slide"
    }
   },
   "source": [
    "### Anharmonic force constants\n",
    "---\n",
    "- non-linear force-displacement relationship\n",
    "- large number of independent parameters\n",
    "- non-linear fitting required (LASSO, NL-LS, genetic algorithms)\n",
    "- effective implementations exist (ALAMODE, TDEP)\n",
    "---\n",
    "- Expensive post-processing\n",
    "- Access to multiple experimental parameters:\n",
    "    - Frequency shifts\n",
    "    - Phonon lifetimes\n",
    "    - Line profiles\n",
    "    - Spectral function\n",
    "    - Lattice thermal conductivity\n",
    "    "
   ]
  }
 ],
 "metadata": {
  "celltoolbar": "Slideshow",
  "extensions": {
   "jupyter_dashboards": {
    "activeView": "grid_default",
    "version": 1,
    "views": {
     "grid_default": {
      "cellMargin": 10,
      "defaultCellHeight": 20,
      "maxColumns": 12,
      "name": "grid",
      "type": "grid"
     },
     "report_default": {
      "name": "report",
      "type": "report"
     }
    }
   }
  },
  "hide_input": true,
  "kernelspec": {
   "display_name": "Python 3",
   "language": "python",
   "name": "python3"
  },
  "language_info": {
   "codemirror_mode": {
    "name": "ipython",
    "version": 3
   },
   "file_extension": ".py",
   "mimetype": "text/x-python",
   "name": "python",
   "nbconvert_exporter": "python",
   "pygments_lexer": "ipython3",
   "version": "3.6.13"
  },
  "varInspector": {
   "cols": {
    "lenName": 16,
    "lenType": 16,
    "lenVar": 40
   },
   "kernels_config": {
    "python": {
     "delete_cmd_postfix": "",
     "delete_cmd_prefix": "del ",
     "library": "var_list.py",
     "varRefreshCmd": "print(var_dic_list())"
    },
    "r": {
     "delete_cmd_postfix": ") ",
     "delete_cmd_prefix": "rm(",
     "library": "var_list.r",
     "varRefreshCmd": "cat(var_dic_list()) "
    }
   },
   "types_to_exclude": [
    "module",
    "function",
    "builtin_function_or_method",
    "instance",
    "_Feature"
   ],
   "window_display": false
  }
 },
 "nbformat": 4,
 "nbformat_minor": 5
}
