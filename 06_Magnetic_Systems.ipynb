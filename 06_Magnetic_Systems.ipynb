{
 "cells": [
  {
   "cell_type": "markdown",
   "id": "221d6a6c",
   "metadata": {},
   "source": [
    "## Magnetic systems\n",
    "---"
   ]
  },
  {
   "cell_type": "code",
   "execution_count": 5,
   "id": "e665373a",
   "metadata": {},
   "outputs": [],
   "source": [
    "import os\n",
    "#os.environ[\"ASE_ABINIT_COMMAND\"]=\"mpirun -np 8 abinit  < PREFIX.files > PREFIX.log\"\n",
    "os.environ[\"ABINIT_PP_PATH\"]=\"/home/jochym/Projects/abinitio-methods/psp:/usr/share/abinit/psp:/usr/share/abinit/psp/HGH\""
   ]
  },
  {
   "cell_type": "markdown",
   "id": "9f1e1c34",
   "metadata": {},
   "source": [
    "The following exercise is modeled after one of the AbInit tutorials cocerning spin-polarized calculations.\n",
    "\n",
    "In the following exercise we will:\n",
    "* build a crystal of bcc-Iron,\n",
    "* calculate magnetic moment on Iron atom,\n",
    "* derive the spin-polarized electronic band structure.\n",
    "\n",
    "As usual the detailed technical documentation regarding ASE toolbox can be found [ASE documentation site](https://wiki.fysik.dtu.dk/ase/index.html). The documentation concerning the DFT tool used in the exercise is located at [AbInit documentation site](https://docs.abinit.org/)."
   ]
  },
  {
   "cell_type": "code",
   "execution_count": 6,
   "id": "c67fffd1",
   "metadata": {},
   "outputs": [
    {
     "name": "stdout",
     "output_type": "stream",
     "text": [
      "Populating the interactive namespace from numpy and matplotlib\n"
     ]
    }
   ],
   "source": [
    "%pylab inline\n",
    "from ase.build import bulk\n",
    "from ase.visualize import view\n",
    "from ase.visualize.plot import plot_atoms\n",
    "from ase.calculators.abinit import Abinit\n",
    "import ase.io\n",
    "from ase import units as un\n",
    "import os"
   ]
  },
  {
   "cell_type": "markdown",
   "id": "8a580ad2",
   "metadata": {},
   "source": [
    "### Building the BCC Iron crystal\n",
    "\n"
   ]
  },
  {
   "cell_type": "code",
   "execution_count": 90,
   "id": "ce659234",
   "metadata": {},
   "outputs": [],
   "source": [
    "Fe_FM = bulk('Fe', crystalstructure='bcc', a=5.74, cubic=False)\n",
    "Fe_NM = bulk('Fe', crystalstructure='bcc', a=5.74, cubic=False)\n",
    "\n",
    "# Set initial magnetic moments for ferromagnetic BCC iron\n",
    "Fe_FM.set_initial_magnetic_moments([4])"
   ]
  },
  {
   "cell_type": "markdown",
   "id": "fdc6da86",
   "metadata": {},
   "source": [
    "### Running Self-Consistent DFT with spin polarization"
   ]
  },
  {
   "cell_type": "code",
   "execution_count": 91,
   "id": "7c89cc87",
   "metadata": {},
   "outputs": [
    {
     "name": "stdout",
     "output_type": "stream",
     "text": [
      "Energy: -3356.9717 eV\n",
      "Pressure: 206.397 GPa\n"
     ]
    }
   ],
   "source": [
    "calc = Abinit(label='Fe_NM', directory=\"work_06\", v8_legacy_format=True,\n",
    "              # Pseudopotential parameters\n",
    "              ecut = 500,              \n",
    "              nband = 10,              \n",
    "              pps = 'psp8', xc = 'PBE',\n",
    "              ### For PAW potential comment out above line \n",
    "              ### and  uncomment the following line\n",
    "              #pps = 'pawxml', pawecutdg = 750, xc = 'GGA',\n",
    "              # SCF parameters\n",
    "              tolvrs=1.0e-10,\n",
    "              nstep=50,\n",
    "              # Reciprocal space sampling\n",
    "              ngkpt=[4,4,4],\n",
    "              nshiftk=1,\n",
    "              shiftk=[[0.5, 0.5, 0.5]],\n",
    "              # Spin-polarized calculation setup\n",
    "              occopt = 3,         # Fermi-Dirac smearing\n",
    "              tsmear = 0.25,      # Fermi level smearing (eV)\n",
    "              prtdos=1, prtden=1  # Output DOS and charge density\n",
    "              )\n",
    "\n",
    "Fe_NM.set_calculator(calc)\n",
    "\n",
    "print(f'Energy: {Fe_NM.get_potential_energy():.4f} eV')\n",
    "print(f'Pressure: {Fe_NM.get_stress()[:3].mean()/un.GPa:.3f} GPa')"
   ]
  },
  {
   "cell_type": "code",
   "execution_count": 92,
   "id": "74e7c7c8",
   "metadata": {},
   "outputs": [
    {
     "name": "stdout",
     "output_type": "stream",
     "text": [
      "Energy: -3359.1729 eV\n",
      "Pressure: 204.749 GPa\n"
     ]
    }
   ],
   "source": [
    "calc_FM = Abinit(label='Fe_FM', directory=\"work_06\", v8_legacy_format=True,\n",
    "              # Pseudopotential parameters\n",
    "              ecut = 500,              \n",
    "              nband = 10,              \n",
    "              pps = 'psp8', xc = 'PBE',\n",
    "              ### For PAW potential comment out above line \n",
    "              ### and  uncomment the following line\n",
    "              #pps = 'pawxml', pawecutdg = 750, xc = 'GGA',\n",
    "              # SCF parameters\n",
    "              tolvrs=1.0e-10,\n",
    "              nstep=50,\n",
    "              # Reciprocal space sampling\n",
    "              ngkpt=[4,4,4],\n",
    "              nshiftk=1,\n",
    "              shiftk=[[0.5, 0.5, 0.5]],\n",
    "              # Spin-polarized calculation setup\n",
    "              occopt = 3,         # Fermi-Dirac smearing\n",
    "              tsmear = 0.25,      # Fermi level smearing (eV)\n",
    "              prtdos=1, prtden=1  # Output DOS and charge density\n",
    "              )\n",
    "\n",
    "Fe_FM.set_calculator(calc_FM)\n",
    "\n",
    "print(f'Energy: {Fe_FM.get_potential_energy():.4f} eV')\n",
    "print(f'Pressure: {Fe_FM.get_stress()[:3].mean()/un.GPa:.3f} GPa')"
   ]
  },
  {
   "cell_type": "markdown",
   "id": "bfbd55db",
   "metadata": {},
   "source": [
    "### Plotting the band structure"
   ]
  },
  {
   "cell_type": "markdown",
   "id": "2b28ea35",
   "metadata": {},
   "source": [
    "#### Non-magnetic case"
   ]
  },
  {
   "cell_type": "code",
   "execution_count": 93,
   "id": "af4c2f30",
   "metadata": {},
   "outputs": [],
   "source": [
    "dos_NM = loadtxt('work_06/Fe_NMo_DOS')\n",
    "# Convert from Ha to eV\n",
    "dos_NM[:,0] *= un.Ha\n",
    "Efermi_NM = Fe_NM.calc.get_fermi_level()"
   ]
  },
  {
   "cell_type": "code",
   "execution_count": 94,
   "id": "6cead501",
   "metadata": {},
   "outputs": [
    {
     "data": {
      "image/png": "[encoded data removed]",
      "text/plain": [
       "<Figure size 432x288 with 1 Axes>"
      ]
     },
     "metadata": {
      "needs_background": "light"
     },
     "output_type": "display_data"
    }
   ],
   "source": [
    "plot(dos_NM[:,0], dos_NM[:,1], label='DOS')\n",
    "plot(dos_NM[:,0], 10*dos_NM[:,2], label='Integrated')\n",
    "xlim(Efermi_NM-5, Efermi_NM+3)\n",
    "axvline(Efermi_NM, ls=':', lw=1)\n",
    "xlabel('Energy (eV)')\n",
    "ylabel('Number of states')\n",
    "legend();"
   ]
  },
  {
   "cell_type": "markdown",
   "id": "513cb134",
   "metadata": {},
   "source": [
    "#### Ferromagnetic case"
   ]
  },
  {
   "cell_type": "code",
   "execution_count": 95,
   "id": "bc54f288",
   "metadata": {},
   "outputs": [],
   "source": [
    "dos = loadtxt('work_06/Fe_FMo_DOS').reshape(2,-1,5)\n",
    "# Convert from Ha to eV\n",
    "dos[:,:,0] *= un.Ha\n",
    "Efermi = Fe.calc.get_fermi_level()"
   ]
  },
  {
   "cell_type": "code",
   "execution_count": 96,
   "id": "4b9d9d3e",
   "metadata": {},
   "outputs": [
    {
     "data": {
      "image/png": "[encoded data removed]",
      "text/plain": [
       "<Figure size 432x288 with 1 Axes>"
      ]
     },
     "metadata": {
      "needs_background": "light"
     },
     "output_type": "display_data"
    }
   ],
   "source": [
    "plot(dos[0,:,0], dos[0,:,1], label='DOS up')\n",
    "plot(dos[1,:,0], -dos[1,:,1], label='DOS dn')\n",
    "plot(dos[0,:,0], 10*dos[0,:,2], label='Integrated up')\n",
    "plot(dos[1,:,0], -10*dos[1,:,2], label='Integrated dn')\n",
    "xlim(Efermi-5, Efermi+3)\n",
    "axvline(Efermi, ls=':', lw=1)\n",
    "xlabel('Energy (eV)')\n",
    "ylabel('Number of states')\n",
    "legend();"
   ]
  },
  {
   "cell_type": "code",
   "execution_count": null,
   "id": "f0864ef5",
   "metadata": {},
   "outputs": [],
   "source": []
  }
 ],
 "metadata": {
  "kernelspec": {
   "display_name": "Python 3",
   "language": "python",
   "name": "python3"
  },
  "language_info": {
   "codemirror_mode": {
    "name": "ipython",
    "version": 3
   },
   "file_extension": ".py",
   "mimetype": "text/x-python",
   "name": "python",
   "nbconvert_exporter": "python",
   "pygments_lexer": "ipython3",
   "version": "3.6.13"
  }
 },
 "nbformat": 4,
 "nbformat_minor": 5
}
