{
 "cells": [
  {
   "cell_type": "markdown",
   "id": "experimental-usage",
   "metadata": {},
   "source": [
    "## Electronic Band Structure\n",
    "---"
   ]
  },
  {
   "cell_type": "markdown",
   "id": "moved-illinois",
   "metadata": {},
   "source": [
    "Crystalline solids have multiple peculiarities connected with their fundamental property: discrete translational symmetry. Additionally, they exhibit additional symmetries which influence their properties (e.g. electronic band structure) as well as procedures used in the calculation. Dealing with crystals require use of Periodic Boundary Conditions and, often, reciprocal space, Brillouin Zone etc. ASE provides multiple tools for working with crystals. We will use some of them in the following examples - which is modeled after one of the AbInit tutorials.\n",
    "\n",
    "In the following exercise we will:\n",
    "* build a crystal of Silicon,\n",
    "* calculate its lattice parameters,\n",
    "* derive its electronic band structure.\n",
    "\n",
    "As usual the detailed technical documentation regarding ASE toolbox can be found [ASE documentation site](https://wiki.fysik.dtu.dk/ase/index.html). The documentation concerning the DFT tool used in the exercise is located at [AbInit documentation site](https://docs.abinit.org/)."
   ]
  },
  {
   "cell_type": "code",
   "execution_count": null,
   "id": "swedish-writer",
   "metadata": {},
   "outputs": [],
   "source": [
    "%pylab inline\n",
    "from ase.build import bulk\n",
    "from ase.visualize import view\n",
    "from ase.visualize.plot import plot_atoms\n",
    "from ase.calculators.abinit import Abinit\n",
    "import ase.io\n",
    "from ase import units as un\n",
    "import os"
   ]
  },
  {
   "cell_type": "markdown",
   "id": "authorized-acting",
   "metadata": {},
   "source": [
    "### Building the Silicon crystal\n",
    "\n",
    "The silicon has a simple crystal structure with two atoms per primitive unit cell - in fact it is the same structure as diamond. Thus, building the structure is almost trivial - the only free parameter is the length of the lattice vector $a$."
   ]
  },
  {
   "cell_type": "code",
   "execution_count": null,
   "id": "inner-westminster",
   "metadata": {},
   "outputs": [],
   "source": [
    "Si = bulk('Si', crystalstructure='diamond', a=5.446 )#a=5.46931040)\n",
    "print(Si.cell.cellpar())"
   ]
  },
  {
   "cell_type": "markdown",
   "id": "crude-lender",
   "metadata": {},
   "source": [
    "### Checking the structure"
   ]
  },
  {
   "cell_type": "code",
   "execution_count": null,
   "id": "governing-missile",
   "metadata": {},
   "outputs": [],
   "source": [
    "calc = Abinit(label='Si', directory=\"work_05\", v8_legacy_format=True,\n",
    "              ecut= 350,\n",
    "              pps='psp8',\n",
    "              toldfe=1.0e-6,\n",
    "              diemac=12,\n",
    "              nstep=20,\n",
    "              kptopt=1,\n",
    "              ngkpt=[4,4,4],\n",
    "              nshiftk=4,\n",
    "              shiftk=[[0.5, 0.5, 0.5],\n",
    "                      [0.5, 0.0, 0.0],\n",
    "                      [0.0, 0.5, 0.0],\n",
    "                      [0.0, 0.0, 0.5]]\n",
    "              )\n",
    "\n",
    "Si.set_calculator(calc)\n",
    "print(Si.get_potential_energy(), Si.get_stress()/un.GPa)"
   ]
  },
  {
   "cell_type": "markdown",
   "id": "useful-status",
   "metadata": {},
   "source": [
    "### Running Self-Consistent DFT"
   ]
  },
  {
   "cell_type": "code",
   "execution_count": null,
   "id": "expanded-breast",
   "metadata": {},
   "outputs": [],
   "source": [
    "Si.calc.set(prtden=1)\n",
    "Si.get_potential_energy()"
   ]
  },
  {
   "cell_type": "markdown",
   "id": "lonely-blogger",
   "metadata": {},
   "source": [
    "### Calculating band structure from SCF electronic density"
   ]
  },
  {
   "cell_type": "code",
   "execution_count": null,
   "id": "united-aircraft",
   "metadata": {},
   "outputs": [],
   "source": [
    "# Remove SCF parameter from the calculator\n",
    "try:\n",
    "    del Si.calc.parameters['toldfe']\n",
    "except KeyError:\n",
    "    pass"
   ]
  },
  {
   "cell_type": "code",
   "execution_count": null,
   "id": "electronic-porcelain",
   "metadata": {},
   "outputs": [],
   "source": [
    "# Define reciprocal space path\n",
    "kpnts = [[1/2,0,0],[0,0,0],[0,1/2,1/2],[1,1,1]]\n",
    "kplbl = ['L', '$\\Gamma$', 'X', '$\\Gamma$']"
   ]
  },
  {
   "cell_type": "code",
   "execution_count": null,
   "id": "julian-ecology",
   "metadata": {},
   "outputs": [],
   "source": [
    "# Modify the calculator\n",
    "Si.calc.set(iscf=-2, getden=-1, nband=8, kptopt=-3, tolwfr=1e-10,\n",
    "            ndivsm=20, nstep=20, kptbounds=kpnts)\n",
    "Si.calc.atoms=Si"
   ]
  },
  {
   "cell_type": "code",
   "execution_count": null,
   "id": "radio-history",
   "metadata": {},
   "outputs": [],
   "source": [
    "# Copy SCF output charge density to input file\n",
    "!cp work_05/Sio_DEN work_05/Sii_DEN"
   ]
  },
  {
   "cell_type": "code",
   "execution_count": null,
   "id": "dimensional-allowance",
   "metadata": {},
   "outputs": [],
   "source": [
    "# Run non-SCF calculation\n",
    "Si.calc.calculate()"
   ]
  },
  {
   "cell_type": "markdown",
   "id": "loose-emergency",
   "metadata": {},
   "source": [
    "### Plotting the band structure"
   ]
  },
  {
   "cell_type": "code",
   "execution_count": null,
   "id": "lasting-sessions",
   "metadata": {},
   "outputs": [],
   "source": [
    "# Extract the reciprocal space path\n",
    "pth = Si.calc.results['ibz_kpoints']\n",
    "pth = array([0]+list(norm(pth[1:]-pth[:-1], axis=1))).cumsum()\n",
    "\n",
    "# Define valence and conduction band indexes\n",
    "val = 3\n",
    "cond = 4\n",
    "\n",
    "# Extract bands and find Fermi level\n",
    "ev = Si.calc.results['eigenvalues'][0].T\n",
    "Efermi = ev[val].max()"
   ]
  },
  {
   "cell_type": "code",
   "execution_count": null,
   "id": "martial-provincial",
   "metadata": {},
   "outputs": [],
   "source": [
    "# Plot bands\n",
    "figsize(10,6)\n",
    "for bnd in ev:\n",
    "    plot(pth, bnd-Efermi)\n",
    "\n",
    "# Mark fermi energy    \n",
    "axhline(ls=\":\", lw=1)\n",
    "\n",
    "# Mark high symmetry points\n",
    "hsp = array(kpnts)\n",
    "hsp = cumsum([0]+[norm(v) for v in hsp[1:]-hsp[:-1]])\n",
    "for d in hsp[1:-1]:\n",
    "    axvline(d, ls=\":\")  \n",
    "    \n",
    "# Decorate the plot\n",
    "xticks(hsp, kplbl);\n",
    "title(f'Si: Indirect band gap: {ev[cond].min()-ev[val].max():.2f} eV')\n",
    "xlim(pth[0], pth[-1])\n",
    "\n",
    "# Find and mark the gap transition\n",
    "frm = ev[val].argmax()\n",
    "to = ev[cond].argmin()\n",
    "annotate(\"\", xy=(pth[to], ev[4][to]-Efermi), \n",
    "         xytext=(pth[frm], ev[3][frm]-Efermi), \n",
    "         arrowprops=dict(arrowstyle=\"->\"))\n",
    "ylabel('Energy (eV)')\n",
    "xlabel('Wave vector')\n",
    "savefig('Si_bs_abinit.pdf')"
   ]
  },
  {
   "cell_type": "code",
   "execution_count": null,
   "id": "coordinated-satellite",
   "metadata": {},
   "outputs": [],
   "source": []
  }
 ],
 "metadata": {
  "kernelspec": {
   "display_name": "Python 3",
   "language": "python",
   "name": "python3"
  },
  "language_info": {
   "codemirror_mode": {
    "name": "ipython",
    "version": 3
   },
   "file_extension": ".py",
   "mimetype": "text/x-python",
   "name": "python",
   "nbconvert_exporter": "python",
   "pygments_lexer": "ipython3",
   "version": "3.6.13"
  }
 },
 "nbformat": 4,
 "nbformat_minor": 5
}
