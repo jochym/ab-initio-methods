{
 "cells": [
  {
   "cell_type": "markdown",
   "id": "posted-partnership",
   "metadata": {},
   "source": [
    "## Electronic Band Structure\n",
    "---"
   ]
  },
  {
   "cell_type": "code",
   "execution_count": 1,
   "id": "automotive-window",
   "metadata": {},
   "outputs": [],
   "source": [
    "import os\n",
    "#os.environ[\"ASE_ABINIT_COMMAND\"]=\"mpirun -np 8 abinit  < PREFIX.files > PREFIX.log\"\n",
    "os.environ[\"ABINIT_PP_PATH\"]=\"/home/jochym/Projects/abinitio-methods/psp:/usr/share/abinit/psp:/usr/share/abinit/psp/HGH\""
   ]
  },
  {
   "cell_type": "markdown",
   "id": "suitable-victor",
   "metadata": {},
   "source": [
    "Crystalline solids have multiple peculiarities connected with their fundamental property: discrete translational symmetry. Additionally, they exhibit additional symmetries which influence their properties (e.g. electronic band structure) as well as procedures used in the calculation. Dealing with crystals require use of Periodic Boundary Conditions and, often, reciprocal space, Brillouin Zone etc. ASE provides multiple tools for working with crystals. We will use some of them in the following examples - which is modeled after one of the AbInit tutorials.\n",
    "\n",
    "In the following exercise we will:\n",
    "* build a crystal of Silicon,\n",
    "* calculate its lattice parameters,\n",
    "* derive its electronic band structure.\n",
    "\n",
    "As usual the detailed technical documentation regarding ASE toolbox can be found [ASE documentation site](https://wiki.fysik.dtu.dk/ase/index.html). The documentation concerning the DFT tool used in the exercise is located at [AbInit documentation site](https://docs.abinit.org/)."
   ]
  },
  {
   "cell_type": "code",
   "execution_count": 2,
   "id": "grand-article",
   "metadata": {},
   "outputs": [
    {
     "name": "stdout",
     "output_type": "stream",
     "text": [
      "Populating the interactive namespace from numpy and matplotlib\n"
     ]
    }
   ],
   "source": [
    "%pylab inline\n",
    "from ase.build import bulk\n",
    "from ase.visualize import view\n",
    "from ase.visualize.plot import plot_atoms\n",
    "from ase.calculators.abinit import Abinit\n",
    "import ase.io\n",
    "from ase import units as un\n",
    "import os"
   ]
  },
  {
   "cell_type": "markdown",
   "id": "considered-impression",
   "metadata": {},
   "source": [
    "### Building the Silicon crystal\n",
    "\n",
    "The silicon has a simple crystal structure with two atoms per primitive unit cell - in fact it is the same structure as diamond. Thus, building the structure is almost trivial - the only free parameter is the length of the lattice vector $a$."
   ]
  },
  {
   "cell_type": "code",
   "execution_count": 3,
   "id": "higher-roulette",
   "metadata": {},
   "outputs": [
    {
     "name": "stdout",
     "output_type": "stream",
     "text": [
      "[ 3.85090353  3.85090353  3.85090353 60.         60.         60.        ]\n"
     ]
    }
   ],
   "source": [
    "Si = bulk('Si', crystalstructure='diamond', a=5.446 )#a=5.46931040)\n",
    "print(Si.cell.cellpar())"
   ]
  },
  {
   "cell_type": "markdown",
   "id": "polar-carbon",
   "metadata": {},
   "source": [
    "### Checking the structure"
   ]
  },
  {
   "cell_type": "code",
   "execution_count": 4,
   "id": "gross-bibliography",
   "metadata": {},
   "outputs": [
    {
     "name": "stdout",
     "output_type": "stream",
     "text": [
      "-229.96114264601286 [0.03669724 0.03669724 0.03669724 0.         0.         0.        ]\n"
     ]
    }
   ],
   "source": [
    "calc = Abinit(label='Si', directory=\"work_05\", v8_legacy_format=True,\n",
    "              ecut= 350,\n",
    "              pps='psp8',\n",
    "              toldfe=1.0e-6,\n",
    "              diemac=12,\n",
    "              nstep=20,\n",
    "              kptopt=1,\n",
    "              ngkpt=[4,4,4],\n",
    "              nshiftk=4,\n",
    "              shiftk=[[0.5, 0.5, 0.5],\n",
    "                      [0.5, 0.0, 0.0],\n",
    "                      [0.0, 0.5, 0.0],\n",
    "                      [0.0, 0.0, 0.5]]\n",
    "              )\n",
    "\n",
    "Si.set_calculator(calc)\n",
    "print(Si.get_potential_energy(), Si.get_stress()/un.GPa)"
   ]
  },
  {
   "cell_type": "markdown",
   "id": "heavy-devon",
   "metadata": {},
   "source": [
    "### Running Self-Consistent DFT"
   ]
  },
  {
   "cell_type": "code",
   "execution_count": 5,
   "id": "ordinary-inclusion",
   "metadata": {},
   "outputs": [
    {
     "data": {
      "text/plain": [
       "-229.96114264601286"
      ]
     },
     "execution_count": 5,
     "metadata": {},
     "output_type": "execute_result"
    }
   ],
   "source": [
    "Si.calc.set(prtden=1)\n",
    "Si.get_potential_energy()"
   ]
  },
  {
   "cell_type": "markdown",
   "id": "textile-macintosh",
   "metadata": {},
   "source": [
    "### Calculating band structure from SCF electronic density"
   ]
  },
  {
   "cell_type": "code",
   "execution_count": 6,
   "id": "spare-twist",
   "metadata": {},
   "outputs": [],
   "source": [
    "scf_res = Si.calc.results"
   ]
  },
  {
   "cell_type": "code",
   "execution_count": 7,
   "id": "obvious-cowboy",
   "metadata": {},
   "outputs": [],
   "source": [
    "del Si.calc.parameters['toldfe']"
   ]
  },
  {
   "cell_type": "code",
   "execution_count": 8,
   "id": "violent-location",
   "metadata": {},
   "outputs": [],
   "source": [
    "Si.calc.set(iscf=-2, getden=-1, nband=8, kptopt=-3, ndivsm=20, nstep=20, tolwfr=1e-10,\n",
    "            kptbounds=[[1/2,0,0],[0,0,0],[0,1/2,1/2],[1,1,1]])\n",
    "Si.calc.atoms=Si"
   ]
  },
  {
   "cell_type": "code",
   "execution_count": 9,
   "id": "sixth-joshua",
   "metadata": {},
   "outputs": [],
   "source": [
    "!cp work_05/Sio_DEN work_05/Sii_DEN"
   ]
  },
  {
   "cell_type": "code",
   "execution_count": 10,
   "id": "driven-daniel",
   "metadata": {},
   "outputs": [],
   "source": [
    "Si.calc.calculate()"
   ]
  },
  {
   "cell_type": "markdown",
   "id": "rolled-venue",
   "metadata": {},
   "source": [
    "### Plotting the band structure"
   ]
  },
  {
   "cell_type": "code",
   "execution_count": 11,
   "id": "knowing-andrew",
   "metadata": {},
   "outputs": [],
   "source": [
    "pth = Si.calc.results['ibz_kpoints']\n",
    "pth = array([0]+list(norm(pth[1:]-pth[:-1], axis=1))).cumsum()\n",
    "ev = Si.calc.results['eigenvalues'][0].T\n",
    "Efermi = ev[3].max()"
   ]
  },
  {
   "cell_type": "code",
   "execution_count": 12,
   "id": "typical-harvard",
   "metadata": {},
   "outputs": [
    {
     "data": {
      "image/png": "[encoded data removed]",
      "text/plain": [
       "<Figure size 432x288 with 1 Axes>"
      ]
     },
     "metadata": {
      "needs_background": "light"
     },
     "output_type": "display_data"
    }
   ],
   "source": [
    "kpnts = [0,20,43,76]\n",
    "for bnd in ev:\n",
    "    plot(pth, bnd-Efermi)\n",
    "axhline(ls=\":\", lw=1)\n",
    "for k in pth[array(kpnts)]:\n",
    "    axvline(k, lw=1)\n",
    "xticks(pth[array(kpnts)], ['L', '$\\Gamma$', 'X', '$\\Gamma$']);\n",
    "title(f'Si: Indirect band gap: {ev[4].min()-ev[2].max():.2f} eV')\n",
    "xlim(pth[0], pth[-1])\n",
    "frm = ev[3].argmax()\n",
    "to = ev[4].argmin()\n",
    "annotate(\"\", xy=(pth[to], ev[4][to]-Efermi), \n",
    "         xytext=(pth[frm], ev[3][frm]-Efermi), \n",
    "         arrowprops=dict(arrowstyle=\"->\"))\n",
    "ylabel('Energy (eV)')\n",
    "savefig('Si_bs_abinit.pdf')"
   ]
  },
  {
   "cell_type": "code",
   "execution_count": null,
   "id": "victorian-session",
   "metadata": {},
   "outputs": [],
   "source": []
  }
 ],
 "metadata": {
  "kernelspec": {
   "display_name": "Python 3",
   "language": "python",
   "name": "python3"
  },
  "language_info": {
   "codemirror_mode": {
    "name": "ipython",
    "version": 3
   },
   "file_extension": ".py",
   "mimetype": "text/x-python",
   "name": "python",
   "nbconvert_exporter": "python",
   "pygments_lexer": "ipython3",
   "version": "3.6.13"
  }
 },
 "nbformat": 4,
 "nbformat_minor": 5
}
