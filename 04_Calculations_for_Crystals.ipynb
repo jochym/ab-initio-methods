{
 "cells": [
  {
   "cell_type": "markdown",
   "id": "05aafea4",
   "metadata": {},
   "source": [
    "# Crystals\n",
    "\n",
    "---"
   ]
  },
  {
   "cell_type": "markdown",
   "id": "01b04a84",
   "metadata": {},
   "source": [
    "Crystalline solids have multiple peculiarities connected with their fundamental property: discrete translational symmetry. Additionally, they exhibit additional symmetries which influence their properties (e.g. electronic band structure) as well as procedures used in the calculation. Dealing with crystals require use of Periodic Boundary Conditions and, often, reciprocal space, Brillouin Zone etc. ASE provides multiple tools for working with crystals. We will use some of them in the following examples - which is modeled after one of the AbInit tutorials.\n",
    "\n",
    "In the following exercise we will:\n",
    "* build a crystal of Silicon,\n",
    "* calculate its lattice parameters,\n",
    "* derive its electronic band structure.\n",
    "\n",
    "As usual the detailed technical documentation regarding ASE toolbox can be found [ASE documentation site](https://wiki.fysik.dtu.dk/ase/index.html). The documentation concerning the DFT tool used in the exercise is located at [AbInit documentation site](https://docs.abinit.org/)."
   ]
  },
  {
   "cell_type": "code",
   "execution_count": 1,
   "id": "13859ea9",
   "metadata": {},
   "outputs": [
    {
     "name": "stdout",
     "output_type": "stream",
     "text": [
      "%pylab is deprecated, use %matplotlib inline and import the required libraries.\n",
      "Populating the interactive namespace from numpy and matplotlib\n"
     ]
    }
   ],
   "source": [
    "%pylab inline\n",
    "from ase.build import bulk\n",
    "from ase.visualize import view\n",
    "from ase.visualize.plot import plot_atoms\n",
    "from ase.calculators.abinit import Abinit\n",
    "import ase.io\n",
    "from ase import units as un\n",
    "import os\n",
    "\n",
    "# Patch bug in ASE AbInit interface\n",
    "import ase_patch\n",
    "ase.io.abinit.read_abinit_out = ase_patch.read_abinit_out"
   ]
  },
  {
   "cell_type": "markdown",
   "id": "297d0b00",
   "metadata": {},
   "source": [
    "### Building the Silicon crystal\n",
    "\n",
    "The silicon has a simple crystal structure with two atoms per primitive unit cell - in fact it is the same structure as diamond. Thus, building the structure is almost trivial - the only free parameter is the length of the lattice vector $a$."
   ]
  },
  {
   "cell_type": "code",
   "execution_count": 2,
   "id": "7d1d692f",
   "metadata": {},
   "outputs": [
    {
     "name": "stdout",
     "output_type": "stream",
     "text": [
      "[ 3.81837662  3.81837662  3.81837662 60.         60.         60.        ]\n"
     ]
    }
   ],
   "source": [
    "Si = bulk('Si', crystalstructure='diamond', a=5.4)\n",
    "print(Si.cell.cellpar())"
   ]
  },
  {
   "cell_type": "code",
   "execution_count": 3,
   "id": "4216bde8",
   "metadata": {},
   "outputs": [
    {
     "data": {
      "image/png": "[encoded data removed]",
      "text/plain": [
       "<Figure size 640x480 with 1 Axes>"
      ]
     },
     "metadata": {},
     "output_type": "display_data"
    }
   ],
   "source": [
    "ax = plot_atoms(Si, rotation='10x,20y,15z')\n",
    "ax.set_axis_off()"
   ]
  },
  {
   "cell_type": "code",
   "execution_count": 4,
   "id": "a74ff2b2",
   "metadata": {},
   "outputs": [
    {
     "name": "stdout",
     "output_type": "stream",
     "text": [
      "Energy:  -216.001048427314\n",
      "Stress tensor:\n",
      " [[1.83981555 0.         0.        ]\n",
      " [0.         1.83981555 0.        ]\n",
      " [0.         0.         1.83981555]]\n"
     ]
    }
   ],
   "source": [
    "calc = Abinit(directory=\"work_04\",\n",
    "              ecut= 270,\n",
    "              xc='PBE',\n",
    "              pps='hgh',\n",
    "              toldfe=1.0e-6,\n",
    "              diemac=12,\n",
    "              nstep=20,\n",
    "              kptopt=1,\n",
    "              ngkpt=[2,2,2],\n",
    "              nshiftk=4,\n",
    "              shiftk=[[0.5, 0.5, 0.5],\n",
    "                      [0.5, 0.0, 0.0],\n",
    "                      [0.0, 0.5, 0.0],\n",
    "                      [0.0, 0.0, 0.5]]\n",
    "              )\n",
    "\n",
    "Si.calc = calc\n",
    "print('Energy: ', Si.get_potential_energy())\n",
    "print('Stress tensor:\\n', Si.get_stress(voigt=False)/un.GPa)"
   ]
  },
  {
   "cell_type": "markdown",
   "id": "382b1177",
   "metadata": {},
   "source": [
    "### Convergence"
   ]
  },
  {
   "cell_type": "markdown",
   "id": "251feb65",
   "metadata": {},
   "source": [
    "We will be scanning multiple parameters in our study. To avoid repeating the same code over and over again, we will write (somewhat) universal scanning function. This function uses some more advanced Python techniques like doc-strings inside the function, basic functional programming (`lambda` expression defining anonymous function and function assignment) and passing arguments as dictionaries. You can read about these topics in the python documentation. You can experiment with this function and use it as a basis for your own tools.\n",
    "\n",
    "To avoid cluttering the examples, all auxiliary functions are collected in one file: `abilib.py` which we import here and in other notebooks. The relevant functions are printed below."
   ]
  },
  {
   "cell_type": "code",
   "execution_count": 5,
   "id": "381003d7-d12c-4576-b10f-6fe594ae2670",
   "metadata": {},
   "outputs": [],
   "source": [
    "from abilib import set_params, scan_param"
   ]
  },
  {
   "cell_type": "code",
   "execution_count": 6,
   "id": "170978ed-9a46-4503-945c-3e881e9a88b4",
   "metadata": {},
   "outputs": [
    {
     "data": {
      "text/plain": [
       "\u001b[0;31mSignature:\u001b[0m  \u001b[0mset_params\u001b[0m\u001b[0;34m(\u001b[0m\u001b[0mcalc\u001b[0m\u001b[0;34m,\u001b[0m \u001b[0;34m**\u001b[0m\u001b[0margs\u001b[0m\u001b[0;34m)\u001b[0m\u001b[0;34m\u001b[0m\u001b[0;34m\u001b[0m\u001b[0m\n",
       "\u001b[0;31mSource:\u001b[0m   \n",
       "\u001b[0;32mdef\u001b[0m \u001b[0mset_params\u001b[0m\u001b[0;34m(\u001b[0m\u001b[0mcalc\u001b[0m\u001b[0;34m,\u001b[0m \u001b[0;34m**\u001b[0m\u001b[0margs\u001b[0m\u001b[0;34m)\u001b[0m\u001b[0;34m:\u001b[0m\u001b[0;34m\u001b[0m\n",
       "\u001b[0;34m\u001b[0m    \u001b[0;34m'''\u001b[0m\n",
       "\u001b[0;34m    Create new calculator with modified parameters based on the `calc` argument.\u001b[0m\n",
       "\u001b[0;34m    '''\u001b[0m\u001b[0;34m\u001b[0m\n",
       "\u001b[0;34m\u001b[0m    \u001b[0mparams\u001b[0m \u001b[0;34m=\u001b[0m \u001b[0mdict\u001b[0m\u001b[0;34m(\u001b[0m\u001b[0mcalc\u001b[0m\u001b[0;34m.\u001b[0m\u001b[0mparameters\u001b[0m\u001b[0;34m)\u001b[0m\u001b[0;34m\u001b[0m\n",
       "\u001b[0;34m\u001b[0m    \u001b[0;32mfor\u001b[0m \u001b[0mk\u001b[0m\u001b[0;34m,\u001b[0m \u001b[0mv\u001b[0m \u001b[0;32min\u001b[0m \u001b[0margs\u001b[0m\u001b[0;34m.\u001b[0m\u001b[0mitems\u001b[0m\u001b[0;34m(\u001b[0m\u001b[0;34m)\u001b[0m\u001b[0;34m:\u001b[0m\u001b[0;34m\u001b[0m\n",
       "\u001b[0;34m\u001b[0m        \u001b[0mparams\u001b[0m\u001b[0;34m[\u001b[0m\u001b[0mk\u001b[0m\u001b[0;34m]\u001b[0m \u001b[0;34m=\u001b[0m \u001b[0mv\u001b[0m\u001b[0;34m\u001b[0m\n",
       "\u001b[0;34m\u001b[0m    \u001b[0;32mreturn\u001b[0m \u001b[0mAbinit\u001b[0m\u001b[0;34m(\u001b[0m\u001b[0mdirectory\u001b[0m\u001b[0;34m=\u001b[0m\u001b[0mcalc\u001b[0m\u001b[0;34m.\u001b[0m\u001b[0mdirectory\u001b[0m\u001b[0;34m,\u001b[0m \u001b[0;34m**\u001b[0m\u001b[0mparams\u001b[0m\u001b[0;34m)\u001b[0m\u001b[0;34m\u001b[0m\u001b[0;34m\u001b[0m\u001b[0m\n",
       "\u001b[0;31mFile:\u001b[0m      ~/Project/abinitio-methods/abilib.py\n",
       "\u001b[0;31mType:\u001b[0m      function"
      ]
     },
     "metadata": {},
     "output_type": "display_data"
    }
   ],
   "source": [
    "?? set_params"
   ]
  },
  {
   "cell_type": "code",
   "execution_count": 7,
   "id": "84c94a8e-3dcd-4eb5-b63a-13f121f68d7b",
   "metadata": {},
   "outputs": [
    {
     "data": {
      "text/plain": [
       "\u001b[0;31mSignature:\u001b[0m\n",
       " \u001b[0mscan_param\u001b[0m\u001b[0;34m(\u001b[0m\u001b[0;34m\u001b[0m\n",
       "\u001b[0;34m\u001b[0m    \u001b[0mcryst\u001b[0m\u001b[0;34m,\u001b[0m\u001b[0;34m\u001b[0m\n",
       "\u001b[0;34m\u001b[0m    \u001b[0mparam\u001b[0m\u001b[0;34m,\u001b[0m\u001b[0;34m\u001b[0m\n",
       "\u001b[0;34m\u001b[0m    \u001b[0mstart\u001b[0m\u001b[0;34m=\u001b[0m\u001b[0;36m0\u001b[0m\u001b[0;34m,\u001b[0m\u001b[0;34m\u001b[0m\n",
       "\u001b[0;34m\u001b[0m    \u001b[0mstop\u001b[0m\u001b[0;34m=\u001b[0m\u001b[0;36m1\u001b[0m\u001b[0;34m,\u001b[0m\u001b[0;34m\u001b[0m\n",
       "\u001b[0;34m\u001b[0m    \u001b[0msteps\u001b[0m\u001b[0;34m=\u001b[0m\u001b[0;36m7\u001b[0m\u001b[0;34m,\u001b[0m\u001b[0;34m\u001b[0m\n",
       "\u001b[0;34m\u001b[0m    \u001b[0mlista\u001b[0m\u001b[0;34m=\u001b[0m\u001b[0;32mNone\u001b[0m\u001b[0;34m,\u001b[0m\u001b[0;34m\u001b[0m\n",
       "\u001b[0;34m\u001b[0m    \u001b[0mlog_scale\u001b[0m\u001b[0;34m=\u001b[0m\u001b[0;32mTrue\u001b[0m\u001b[0;34m,\u001b[0m\u001b[0;34m\u001b[0m\n",
       "\u001b[0;34m\u001b[0m    \u001b[0mint_par\u001b[0m\u001b[0;34m=\u001b[0m\u001b[0;32mFalse\u001b[0m\u001b[0;34m,\u001b[0m\u001b[0;34m\u001b[0m\n",
       "\u001b[0;34m\u001b[0m\u001b[0;34m)\u001b[0m\u001b[0;34m\u001b[0m\u001b[0;34m\u001b[0m\u001b[0m\n",
       "\u001b[0;31mSource:\u001b[0m   \n",
       "\u001b[0;32mdef\u001b[0m \u001b[0mscan_param\u001b[0m\u001b[0;34m(\u001b[0m\u001b[0mcryst\u001b[0m\u001b[0;34m,\u001b[0m \u001b[0mparam\u001b[0m\u001b[0;34m,\u001b[0m \u001b[0mstart\u001b[0m\u001b[0;34m=\u001b[0m\u001b[0;36m0\u001b[0m\u001b[0;34m,\u001b[0m \u001b[0mstop\u001b[0m\u001b[0;34m=\u001b[0m\u001b[0;36m1\u001b[0m\u001b[0;34m,\u001b[0m \u001b[0msteps\u001b[0m\u001b[0;34m=\u001b[0m\u001b[0;36m7\u001b[0m\u001b[0;34m,\u001b[0m \u001b[0;34m\u001b[0m\n",
       "\u001b[0;34m\u001b[0m               \u001b[0mlista\u001b[0m\u001b[0;34m=\u001b[0m\u001b[0;32mNone\u001b[0m\u001b[0;34m,\u001b[0m \u001b[0mlog_scale\u001b[0m\u001b[0;34m=\u001b[0m\u001b[0;32mTrue\u001b[0m\u001b[0;34m,\u001b[0m \u001b[0mint_par\u001b[0m\u001b[0;34m=\u001b[0m\u001b[0;32mFalse\u001b[0m\u001b[0;34m)\u001b[0m\u001b[0;34m:\u001b[0m\u001b[0;34m\u001b[0m\n",
       "\u001b[0;34m\u001b[0m    \u001b[0;34m'''\u001b[0m\n",
       "\u001b[0;34m    Scan a range of parameter param and plot \u001b[0m\n",
       "\u001b[0;34m    '''\u001b[0m\u001b[0;34m\u001b[0m\n",
       "\u001b[0;34m\u001b[0m    \u001b[0mfi\u001b[0m \u001b[0;34m=\u001b[0m \u001b[0;32mlambda\u001b[0m \u001b[0mx\u001b[0m\u001b[0;34m:\u001b[0m \u001b[0mx\u001b[0m\u001b[0;34m\u001b[0m\n",
       "\u001b[0;34m\u001b[0m    \u001b[0mfo\u001b[0m \u001b[0;34m=\u001b[0m \u001b[0;32mlambda\u001b[0m \u001b[0mx\u001b[0m\u001b[0;34m:\u001b[0m \u001b[0mx\u001b[0m\u001b[0;34m\u001b[0m\n",
       "\u001b[0;34m\u001b[0m\u001b[0;34m\u001b[0m\n",
       "\u001b[0;34m\u001b[0m    \u001b[0;32mif\u001b[0m \u001b[0mlista\u001b[0m \u001b[0;32mis\u001b[0m \u001b[0;32mNone\u001b[0m\u001b[0;34m:\u001b[0m\u001b[0;34m\u001b[0m\n",
       "\u001b[0;34m\u001b[0m        \u001b[0;32mif\u001b[0m \u001b[0mlog_scale\u001b[0m \u001b[0;34m:\u001b[0m\u001b[0;34m\u001b[0m\n",
       "\u001b[0;34m\u001b[0m            \u001b[0mfi\u001b[0m \u001b[0;34m=\u001b[0m \u001b[0mnp\u001b[0m\u001b[0;34m.\u001b[0m\u001b[0mlog\u001b[0m\u001b[0;34m\u001b[0m\n",
       "\u001b[0;34m\u001b[0m            \u001b[0mfo\u001b[0m \u001b[0;34m=\u001b[0m \u001b[0mnp\u001b[0m\u001b[0;34m.\u001b[0m\u001b[0mexp\u001b[0m\u001b[0;34m\u001b[0m\n",
       "\u001b[0;34m\u001b[0m        \u001b[0mlst\u001b[0m \u001b[0;34m=\u001b[0m \u001b[0mnp\u001b[0m\u001b[0;34m.\u001b[0m\u001b[0mlinspace\u001b[0m\u001b[0;34m(\u001b[0m\u001b[0mfi\u001b[0m\u001b[0;34m(\u001b[0m\u001b[0mstart\u001b[0m\u001b[0;34m)\u001b[0m\u001b[0;34m,\u001b[0m \u001b[0mfi\u001b[0m\u001b[0;34m(\u001b[0m\u001b[0mstop\u001b[0m\u001b[0;34m)\u001b[0m\u001b[0;34m,\u001b[0m \u001b[0msteps\u001b[0m\u001b[0;34m)\u001b[0m\u001b[0;34m\u001b[0m\n",
       "\u001b[0;34m\u001b[0m    \u001b[0;32melse\u001b[0m \u001b[0;34m:\u001b[0m\u001b[0;34m\u001b[0m\n",
       "\u001b[0;34m\u001b[0m        \u001b[0mint_par\u001b[0m\u001b[0;34m=\u001b[0m\u001b[0;32mFalse\u001b[0m\u001b[0;34m\u001b[0m\n",
       "\u001b[0;34m\u001b[0m        \u001b[0mlst\u001b[0m \u001b[0;34m=\u001b[0m \u001b[0mlista\u001b[0m\u001b[0;34m\u001b[0m\n",
       "\u001b[0;34m\u001b[0m    \u001b[0;34m\u001b[0m\n",
       "\u001b[0;34m\u001b[0m    \u001b[0mdat\u001b[0m \u001b[0;34m=\u001b[0m \u001b[0;34m[\u001b[0m\u001b[0;34m]\u001b[0m\u001b[0;34m\u001b[0m\n",
       "\u001b[0;34m\u001b[0m    \u001b[0mvs\u001b[0m \u001b[0;34m=\u001b[0m \u001b[0;34m[\u001b[0m\u001b[0;34m]\u001b[0m\u001b[0;34m\u001b[0m\n",
       "\u001b[0;34m\u001b[0m\u001b[0;34m\u001b[0m\n",
       "\u001b[0;34m\u001b[0m    \u001b[0;32mfor\u001b[0m \u001b[0mv\u001b[0m \u001b[0;32min\u001b[0m \u001b[0mlst\u001b[0m\u001b[0;34m:\u001b[0m\u001b[0;34m\u001b[0m\n",
       "\u001b[0;34m\u001b[0m        \u001b[0mprint\u001b[0m\u001b[0;34m(\u001b[0m\u001b[0;34mf'{param}='\u001b[0m\u001b[0;34m,\u001b[0m \u001b[0mend\u001b[0m\u001b[0;34m=\u001b[0m\u001b[0;34m''\u001b[0m\u001b[0;34m)\u001b[0m\u001b[0;34m\u001b[0m\n",
       "\u001b[0;34m\u001b[0m        \u001b[0;32mif\u001b[0m \u001b[0mlista\u001b[0m \u001b[0;32mis\u001b[0m \u001b[0;32mNone\u001b[0m\u001b[0;34m:\u001b[0m\u001b[0;34m\u001b[0m\n",
       "\u001b[0;34m\u001b[0m            \u001b[0mprint\u001b[0m\u001b[0;34m(\u001b[0m\u001b[0;34mf'{int(fo(v)):<8d}'\u001b[0m \u001b[0;32mif\u001b[0m \u001b[0mint_par\u001b[0m \u001b[0;32melse\u001b[0m \u001b[0;34mf'{fo(v):<8.2f}'\u001b[0m\u001b[0;34m,\u001b[0m \u001b[0mend\u001b[0m\u001b[0;34m=\u001b[0m\u001b[0;34m': '\u001b[0m\u001b[0;34m)\u001b[0m\u001b[0;34m\u001b[0m\n",
       "\u001b[0;34m\u001b[0m        \u001b[0;32melse\u001b[0m\u001b[0;34m:\u001b[0m\u001b[0;34m\u001b[0m\n",
       "\u001b[0;34m\u001b[0m            \u001b[0mprint\u001b[0m\u001b[0;34m(\u001b[0m\u001b[0;34mf'{fo(v)}'\u001b[0m\u001b[0;34m,\u001b[0m \u001b[0mend\u001b[0m\u001b[0;34m=\u001b[0m\u001b[0;34m': '\u001b[0m\u001b[0;34m)\u001b[0m\u001b[0;34m\u001b[0m\n",
       "\u001b[0;34m\u001b[0m        \u001b[0;32mif\u001b[0m \u001b[0mint_par\u001b[0m\u001b[0;34m:\u001b[0m\u001b[0;34m\u001b[0m\n",
       "\u001b[0;34m\u001b[0m            \u001b[0mcryst\u001b[0m\u001b[0;34m.\u001b[0m\u001b[0mcalc\u001b[0m \u001b[0;34m=\u001b[0m \u001b[0mset_params\u001b[0m\u001b[0;34m(\u001b[0m\u001b[0mcryst\u001b[0m\u001b[0;34m.\u001b[0m\u001b[0mcalc\u001b[0m\u001b[0;34m,\u001b[0m \u001b[0;34m**\u001b[0m\u001b[0;34m{\u001b[0m\u001b[0mparam\u001b[0m\u001b[0;34m:\u001b[0m \u001b[0mint\u001b[0m\u001b[0;34m(\u001b[0m\u001b[0mfo\u001b[0m\u001b[0;34m(\u001b[0m\u001b[0mv\u001b[0m\u001b[0;34m)\u001b[0m\u001b[0;34m)\u001b[0m\u001b[0;34m}\u001b[0m\u001b[0;34m)\u001b[0m\u001b[0;34m\u001b[0m\n",
       "\u001b[0;34m\u001b[0m        \u001b[0;32melse\u001b[0m \u001b[0;34m:\u001b[0m\u001b[0;34m\u001b[0m\n",
       "\u001b[0;34m\u001b[0m            \u001b[0mcryst\u001b[0m\u001b[0;34m.\u001b[0m\u001b[0mcalc\u001b[0m \u001b[0;34m=\u001b[0m \u001b[0mset_params\u001b[0m\u001b[0;34m(\u001b[0m\u001b[0mcryst\u001b[0m\u001b[0;34m.\u001b[0m\u001b[0mcalc\u001b[0m\u001b[0;34m,\u001b[0m \u001b[0;34m**\u001b[0m\u001b[0;34m{\u001b[0m\u001b[0mparam\u001b[0m\u001b[0;34m:\u001b[0m \u001b[0mfo\u001b[0m\u001b[0;34m(\u001b[0m\u001b[0mv\u001b[0m\u001b[0;34m)\u001b[0m\u001b[0;34m}\u001b[0m\u001b[0;34m)\u001b[0m\u001b[0;34m\u001b[0m\n",
       "\u001b[0;34m\u001b[0m        \u001b[0mvs\u001b[0m\u001b[0;34m.\u001b[0m\u001b[0mappend\u001b[0m\u001b[0;34m(\u001b[0m\u001b[0mfo\u001b[0m\u001b[0;34m(\u001b[0m\u001b[0mv\u001b[0m\u001b[0;34m)\u001b[0m\u001b[0;34m)\u001b[0m\u001b[0;34m\u001b[0m\n",
       "\u001b[0;34m\u001b[0m        \u001b[0mdat\u001b[0m\u001b[0;34m.\u001b[0m\u001b[0mappend\u001b[0m\u001b[0;34m(\u001b[0m\u001b[0;34m[\u001b[0m\u001b[0mcryst\u001b[0m\u001b[0;34m.\u001b[0m\u001b[0mget_potential_energy\u001b[0m\u001b[0;34m(\u001b[0m\u001b[0;34m)\u001b[0m\u001b[0;34m,\u001b[0m\u001b[0;34m\u001b[0m\n",
       "\u001b[0;34m\u001b[0m                    \u001b[0mcryst\u001b[0m\u001b[0;34m.\u001b[0m\u001b[0mget_stress\u001b[0m\u001b[0;34m(\u001b[0m\u001b[0;34m)\u001b[0m\u001b[0;34m[\u001b[0m\u001b[0;34m:\u001b[0m\u001b[0;36m3\u001b[0m\u001b[0;34m]\u001b[0m\u001b[0;34m.\u001b[0m\u001b[0mmean\u001b[0m\u001b[0;34m(\u001b[0m\u001b[0;34m)\u001b[0m\u001b[0;34m]\u001b[0m\u001b[0;34m)\u001b[0m\u001b[0;34m\u001b[0m\n",
       "\u001b[0;34m\u001b[0m        \u001b[0mprint\u001b[0m\u001b[0;34m(\u001b[0m\u001b[0;34mf'{dat[-1][0]:.3f} eV ; {dat[-1][1]/un.GPa:6.3f} GPa'\u001b[0m\u001b[0;34m,\u001b[0m\u001b[0;34m)\u001b[0m\u001b[0;34m\u001b[0m\n",
       "\u001b[0;34m\u001b[0m    \u001b[0mdat\u001b[0m \u001b[0;34m=\u001b[0m \u001b[0mnp\u001b[0m\u001b[0;34m.\u001b[0m\u001b[0marray\u001b[0m\u001b[0;34m(\u001b[0m\u001b[0mdat\u001b[0m\u001b[0;34m)\u001b[0m\u001b[0;34m.\u001b[0m\u001b[0mT\u001b[0m\u001b[0;34m\u001b[0m\n",
       "\u001b[0;34m\u001b[0m    \u001b[0;32mreturn\u001b[0m \u001b[0mvs\u001b[0m\u001b[0;34m,\u001b[0m \u001b[0mdat\u001b[0m\u001b[0;34m\u001b[0m\u001b[0;34m\u001b[0m\u001b[0m\n",
       "\u001b[0;31mFile:\u001b[0m      ~/Project/abinitio-methods/abilib.py\n",
       "\u001b[0;31mType:\u001b[0m      function"
      ]
     },
     "metadata": {},
     "output_type": "display_data"
    }
   ],
   "source": [
    "?? scan_param"
   ]
  },
  {
   "cell_type": "markdown",
   "id": "36c0fa09-5243-4bd1-83be-ebdc3af8944a",
   "metadata": {},
   "source": [
    "### Energy cutoff convergence\n",
    "\n",
    "The energy cut-off should be the first parameter to check for convergence. It has a strong influence on both: calculation efficiency and accuracy. It should be selected at the level which provides stable, converged energy differences (not absolute energy) and forces/stresses."
   ]
  },
  {
   "cell_type": "code",
   "execution_count": 8,
   "id": "d929d25c",
   "metadata": {},
   "outputs": [
    {
     "name": "stdout",
     "output_type": "stream",
     "text": [
      "ecut=250.00  : -215.933 eV ;  2.410 GPa\n",
      "ecut=280.62  : -216.026 eV ;  1.606 GPa\n",
      "ecut=314.98  : -216.102 eV ;  1.005 GPa\n",
      "ecut=353.55  : -216.148 eV ;  0.578 GPa\n",
      "ecut=396.85  : -216.172 eV ;  0.346 GPa\n",
      "ecut=445.45  : -216.185 eV ;  0.235 GPa\n",
      "ecut=500.00  : -216.192 eV ;  0.187 GPa\n"
     ]
    }
   ],
   "source": [
    "ecuts, eres = scan_param(Si, 'ecut', 250, 500)"
   ]
  },
  {
   "cell_type": "code",
   "execution_count": 9,
   "id": "cc743864",
   "metadata": {},
   "outputs": [
    {
     "data": {
      "image/png": "[encoded data removed]",
      "text/plain": [
       "<Figure size 600x600 with 2 Axes>"
      ]
     },
     "metadata": {},
     "output_type": "display_data"
    }
   ],
   "source": [
    "figsize(6,6)\n",
    "subplot(211)\n",
    "plot(ecuts, eres[0], 'o')\n",
    "ylabel('Energy (eV)')\n",
    "subplot(212)\n",
    "plot(ecuts, eres[1]/un.GPa, 'o')\n",
    "ylabel('Pressure (GPa)')\n",
    "xlabel('ecut (eV)');"
   ]
  },
  {
   "cell_type": "markdown",
   "id": "7cd31201-2aca-40da-8078-1d1ddff6abf7",
   "metadata": {},
   "source": [
    "Now we set the cutoff at the selected level for future calculations."
   ]
  },
  {
   "cell_type": "code",
   "execution_count": 10,
   "id": "07dd9450",
   "metadata": {},
   "outputs": [],
   "source": [
    "Si.calc = set_params(Si.calc, ecut = 350)"
   ]
  },
  {
   "cell_type": "markdown",
   "id": "5667f92e-0d50-4f33-8c6a-bdd955642d83",
   "metadata": {},
   "source": [
    "### Reciprocal space sampling grid\n",
    "\n",
    "The grid over which the momentum space integrations are executed plays the similar role to energy cutoff for momenta. It determines how accurate the summations over reciprocal space will be. For insulators and semiconductors, the sparse grid of just few points usually suffices. Sometimes just a single point at zone-center or off-center is enough. For metals, where Fermi surface enters the Brillouin zone, it needs to be much denser. Since this is a discrete parameter, we provide a list of grid sizes to the scanning function."
   ]
  },
  {
   "cell_type": "code",
   "execution_count": 21,
   "id": "7dcfd392",
   "metadata": {},
   "outputs": [
    {
     "name": "stdout",
     "output_type": "stream",
     "text": [
      "ngkpt=[1, 1, 1]: -211.779 eV ; -6.245 GPa\n",
      "ngkpt=[2, 2, 2]: -214.031 eV ; -0.333 GPa\n",
      "ngkpt=[3, 3, 3]: -214.159 eV ; -0.024 GPa\n",
      "ngkpt=[4, 4, 4]: -214.172 eV ; -0.001 GPa\n",
      "ngkpt=[5, 5, 5]: -214.173 eV ; -0.003 GPa\n"
     ]
    }
   ],
   "source": [
    "kv, kres = scan_param(Si, 'ngkpt', lista=[[1,1,1], [2,2,2], [3,3,3], [4,4,4], [5,5,5]])"
   ]
  },
  {
   "cell_type": "code",
   "execution_count": 22,
   "id": "02ce084a",
   "metadata": {},
   "outputs": [
    {
     "data": {
      "image/png": "[encoded data removed]",
      "text/plain": [
       "<Figure size 600x600 with 2 Axes>"
      ]
     },
     "metadata": {},
     "output_type": "display_data"
    }
   ],
   "source": [
    "subplot(211)\n",
    "plot([k[0] for k in kv], kres[0], 'o')\n",
    "ylabel('Energy (eV)')\n",
    "subplot(212)\n",
    "plot([k[0] for k in kv], kres[1]/un.GPa, 'o')\n",
    "ylabel('Pressure (GPa)')\n",
    "xlabel('Grid size (NxNxN)');"
   ]
  },
  {
   "cell_type": "markdown",
   "id": "e14770c9-24c3-443a-9928-64c5f266ad75",
   "metadata": {},
   "source": [
    "Now we fix both parameters for future calculations. In real production calculations, the energy convergence should be checked at this point, to make sure that the resulting calculation is indeed well converged."
   ]
  },
  {
   "cell_type": "code",
   "execution_count": 23,
   "id": "b6e471b3",
   "metadata": {},
   "outputs": [],
   "source": [
    "ngp=4\n",
    "Si.calc = set_params(Si.calc, ecut=350, ngkpt=[ngp, ngp, ngp])"
   ]
  },
  {
   "cell_type": "markdown",
   "id": "698b459b",
   "metadata": {},
   "source": [
    "### Cell size optimization\n",
    "\n",
    "To find optimum size of the cell we run the calculator with `optcell=1` parameter (plus some other connected parameters). After the run is finished we read-in the results and update the crystal."
   ]
  },
  {
   "cell_type": "code",
   "execution_count": 24,
   "id": "2233d51c",
   "metadata": {},
   "outputs": [
    {
     "name": "stdout",
     "output_type": "stream",
     "text": [
      "Initial cell:\n",
      "   [ 3.84627441  3.84627441  3.84627441 60.         60.         60.        ]\n",
      "Initial stress:\n",
      "   [-0.00080608 -0.00080608 -0.00080608  0.          0.          0.        ] GPa\n"
     ]
    }
   ],
   "source": [
    "print('Initial cell:\\n  ', Si.cell.cellpar())\n",
    "print('Initial stress:\\n  ', Si.get_stress()/un.GPa, 'GPa')"
   ]
  },
  {
   "cell_type": "code",
   "execution_count": 25,
   "id": "0a0042c6",
   "metadata": {},
   "outputs": [
    {
     "name": "stdout",
     "output_type": "stream",
     "text": [
      "-214.171809130701 [-0.00080608 -0.00080608 -0.00080608]\n"
     ]
    }
   ],
   "source": [
    "# Set up the calculation\n",
    "Si.calc = set_params(Si.calc, \n",
    "                     optcell=1,              # Optimize cell volume\n",
    "                     ionmov=2,               # Update atomic positions\n",
    "                     ntime=20,               # Max. number of steps\n",
    "                     ecutsm=0.5*un.Ha,       # Energy buffer for changing basis\n",
    "                     chkdilatmx=0,\n",
    "                    )\n",
    "\n",
    "# Run the calculation and check the result\n",
    "print(Si.get_potential_energy(), Si.get_stress()[:3]/un.GPa)"
   ]
  },
  {
   "cell_type": "markdown",
   "id": "f0cd06c5",
   "metadata": {},
   "source": [
    "Update the crystal from the `Si.calc.results` dictionary and check if we have acceptable convergence by switching off optimization mode (`optcell=0`) and recalculating the stress tensor."
   ]
  },
  {
   "cell_type": "code",
   "execution_count": 26,
   "id": "f80c32ca",
   "metadata": {},
   "outputs": [],
   "source": [
    "# Update the cell matrix\n",
    "Si.set_cell(Si.calc.results['atoms'].cell, scale_atoms=True)\n",
    "\n",
    "# Reset the calculator to the *single point* mode\n",
    "Si.calc = set_params(Si.calc, optcell=0, ionmov=0)"
   ]
  },
  {
   "cell_type": "code",
   "execution_count": 27,
   "id": "621d4572",
   "metadata": {},
   "outputs": [
    {
     "name": "stdout",
     "output_type": "stream",
     "text": [
      "Final cell:\n",
      "   [ 3.84627443  3.84627443  3.84627443 60.         60.         60.        ]\n",
      "Final stress:\n",
      "   [-0.00080502 -0.00080502 -0.00080502  0.          0.          0.        ] GPa\n"
     ]
    }
   ],
   "source": [
    "print('Final cell:\\n  ', Si.cell.cellpar())\n",
    "print('Final stress:\\n  ', Si.get_stress()/un.GPa, 'GPa')"
   ]
  },
  {
   "cell_type": "code",
   "execution_count": 28,
   "id": "da618293",
   "metadata": {},
   "outputs": [
    {
     "name": "stdout",
     "output_type": "stream",
     "text": [
      "Final lattice constant a = 5.4395 A\n"
     ]
    }
   ],
   "source": [
    "print(f'Final lattice constant a = {2*Si.cell[0,2]:.4f} A')"
   ]
  },
  {
   "cell_type": "code",
   "execution_count": null,
   "id": "0d1112b0-b206-4289-89ee-ef4d6fbfeb58",
   "metadata": {},
   "outputs": [],
   "source": []
  }
 ],
 "metadata": {
  "kernelspec": {
   "display_name": "Python 3 (ipykernel)",
   "language": "python",
   "name": "python3"
  },
  "language_info": {
   "codemirror_mode": {
    "name": "ipython",
    "version": 3
   },
   "file_extension": ".py",
   "mimetype": "text/x-python",
   "name": "python",
   "nbconvert_exporter": "python",
   "pygments_lexer": "ipython3",
   "version": "3.11.9"
  }
 },
 "nbformat": 4,
 "nbformat_minor": 5
}
