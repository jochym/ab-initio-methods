{
 "cells": [
  {
   "cell_type": "markdown",
   "id": "worthy-capability",
   "metadata": {},
   "source": [
    "## Crystals\n",
    "---"
   ]
  },
  {
   "cell_type": "markdown",
   "id": "literary-length",
   "metadata": {},
   "source": [
    "Crystalline solids have multiple peculiarities connected with their fundamental property: discrete translational symmetry. Additionally, they exhibit additional symmetries which influence their properties (e.g. electronic band structure) as well as procedures used in the calculation. Dealing with crystals require use of Periodic Boundary Conditions and, often, reciprocal space, Brillouin Zone etc. ASE provides multiple tools for working with crystals. We will use some of them in the following examples - which is modeled after one of the AbInit tutorials.\n",
    "\n",
    "In the following exercise we will:\n",
    "* build a crystal of Silicon,\n",
    "* calculate its lattice parameters,\n",
    "* derive its electronic band structure.\n",
    "\n",
    "As usual the detailed technical documentation regarding ASE toolbox can be found [ASE documentation site](https://wiki.fysik.dtu.dk/ase/index.html). The documentation concerning the DFT tool used in the exercise is located at [AbInit documentation site](https://docs.abinit.org/)."
   ]
  },
  {
   "cell_type": "code",
   "execution_count": 2,
   "id": "minor-kazakhstan",
   "metadata": {},
   "outputs": [
    {
     "name": "stdout",
     "output_type": "stream",
     "text": [
      "Populating the interactive namespace from numpy and matplotlib\n"
     ]
    }
   ],
   "source": [
    "%pylab inline\n",
    "from ase.build import bulk\n",
    "from ase.visualize import view\n",
    "from ase.visualize.plot import plot_atoms\n",
    "from ase.calculators.abinit import Abinit\n",
    "import ase.io\n",
    "from ase import units as un\n",
    "import os\n",
    "\n",
    "# Patch bug in ASE AbInit interface\n",
    "import ase_patch\n",
    "ase.io.abinit.read_abinit_out = ase_patch.read_abinit_out"
   ]
  },
  {
   "cell_type": "markdown",
   "id": "received-surrey",
   "metadata": {},
   "source": [
    "### Building the Silicon crystal\n",
    "\n",
    "The silicon has a simple crystal structure with two atoms per primitive unit cell - in fact it is the same structure as diamond. Thus, building the structure is almost trivial - the only free parameter is the length of the lattice vector $a$."
   ]
  },
  {
   "cell_type": "code",
   "execution_count": 3,
   "id": "heard-change",
   "metadata": {},
   "outputs": [
    {
     "name": "stdout",
     "output_type": "stream",
     "text": [
      "[ 3.81837662  3.81837662  3.81837662 60.         60.         60.        ]\n"
     ]
    }
   ],
   "source": [
    "Si = bulk('Si', crystalstructure='diamond', a=5.4)\n",
    "print(Si.cell.cellpar())"
   ]
  },
  {
   "cell_type": "code",
   "execution_count": 4,
   "id": "republican-harvey",
   "metadata": {},
   "outputs": [
    {
     "data": {
      "image/png": "[encoded data removed]",
      "text/plain": [
       "<Figure size 432x288 with 1 Axes>"
      ]
     },
     "metadata": {
      "needs_background": "light"
     },
     "output_type": "display_data"
    }
   ],
   "source": [
    "ax = plot_atoms(Si, rotation='10x,20y,15z')\n",
    "ax.set_axis_off()"
   ]
  },
  {
   "cell_type": "code",
   "execution_count": 5,
   "id": "laden-defendant",
   "metadata": {},
   "outputs": [
    {
     "name": "stdout",
     "output_type": "stream",
     "text": [
      "-229.75936503992062 [-2.54036912 -2.54036912 -2.54036912  0.          0.          0.        ]\n"
     ]
    }
   ],
   "source": [
    "calc = Abinit(label='Si', directory=\"work_04\", v8_legacy_format=True,\n",
    "              ecut= 270,\n",
    "              pps='psp8',\n",
    "              toldfe=1.0e-6,\n",
    "              diemac=12,\n",
    "              nstep=20,\n",
    "              kptopt=1,\n",
    "              ngkpt=[2,2,2],\n",
    "              nshiftk=4,\n",
    "              shiftk=[[0.5, 0.5, 0.5],\n",
    "                      [0.5, 0.0, 0.0],\n",
    "                      [0.0, 0.5, 0.0],\n",
    "                      [0.0, 0.0, 0.5]]\n",
    "              )\n",
    "\n",
    "Si.set_calculator(calc)\n",
    "print(Si.get_potential_energy(), Si.get_stress()/un.GPa)"
   ]
  },
  {
   "cell_type": "markdown",
   "id": "substantial-meaning",
   "metadata": {},
   "source": [
    "### Convergence"
   ]
  },
  {
   "cell_type": "markdown",
   "id": "bright-circle",
   "metadata": {},
   "source": [
    "We will be scanning multiple parameters in our study. To avoid repeating the same code over and over again we will write (somewhat) universal scanning function. This function uses some more advanced Python techniques like doc-strings inside the function, basic functional programming (`lambda` expression defining anonymous function and function assignment) and passing arguments as dictionaries. You can read about these topics in the python documentation. You can experiment with this function and use it as a basis for your own tools."
   ]
  },
  {
   "cell_type": "code",
   "execution_count": 6,
   "id": "passing-kitchen",
   "metadata": {},
   "outputs": [],
   "source": [
    "def scan_param(cryst, param, start=0, stop=1, steps=7, \n",
    "               lista=None, log_scale=True, int_par=False):\n",
    "    '''\n",
    "    Scan a range of parameter param and plot \n",
    "    '''\n",
    "    fi = lambda x: x\n",
    "    fo = lambda x: x\n",
    "\n",
    "    if lista is None:\n",
    "        if log_scale :\n",
    "            fi = log\n",
    "            fo = exp\n",
    "        lista = linspace(fi(start), fi(stop), steps)\n",
    "    else :\n",
    "        int_par=False\n",
    "    \n",
    "    dat = []\n",
    "    vs = []\n",
    "        \n",
    "    for v in lista:\n",
    "        print(f'{param}={fo(v)}: ', end='')\n",
    "        if int_par:\n",
    "            cryst.calc.set(**{param: int(fo(v))})\n",
    "        else :\n",
    "            cryst.calc.set(**{param: fo(v)})\n",
    "        vs.append(fo(v))\n",
    "        dat.append([cryst.get_potential_energy(),\n",
    "                    cryst.get_stress()[:3].mean()])\n",
    "        print(f'{dat[-1][0]:.3f} eV ; {dat[-1][1]/un.GPa:6.3f} GPa',)\n",
    "    dat = array(dat).T\n",
    "    return vs, dat"
   ]
  },
  {
   "cell_type": "code",
   "execution_count": 7,
   "id": "automotive-reunion",
   "metadata": {},
   "outputs": [
    {
     "name": "stdout",
     "output_type": "stream",
     "text": [
      "ecut=249.9999999999999: -229.742 eV ; -2.227 GPa\n",
      "ecut=280.6155120773432: -229.765 eV ; -2.641 GPa\n",
      "ecut=314.9802624737181: -229.777 eV ; -2.835 GPa\n",
      "ecut=353.5533905932736: -229.780 eV ; -2.876 GPa\n",
      "ecut=396.85026299204986: -229.783 eV ; -2.866 GPa\n",
      "ecut=445.44935907016935: -229.786 eV ; -2.881 GPa\n",
      "ecut=499.99999999999983: -229.787 eV ; -2.903 GPa\n"
     ]
    }
   ],
   "source": [
    "ecuts, eres = scan_param(Si, 'ecut', 250, 500)"
   ]
  },
  {
   "cell_type": "code",
   "execution_count": 8,
   "id": "focal-bahrain",
   "metadata": {},
   "outputs": [
    {
     "data": {
      "image/png": "[encoded data removed]",
      "text/plain": [
       "<Figure size 432x432 with 2 Axes>"
      ]
     },
     "metadata": {
      "needs_background": "light"
     },
     "output_type": "display_data"
    }
   ],
   "source": [
    "figsize(6,6)\n",
    "subplot(211)\n",
    "plot(ecuts, eres[0], 'o')\n",
    "ylabel('Energy (eV)')\n",
    "subplot(212)\n",
    "plot(ecuts, eres[1]/un.GPa, 'o')\n",
    "ylabel('Pressure (GPa)')\n",
    "xlabel('ecut (eV)');"
   ]
  },
  {
   "cell_type": "code",
   "execution_count": 9,
   "id": "everyday-arlington",
   "metadata": {},
   "outputs": [
    {
     "data": {
      "text/plain": [
       "{'ecut': 350}"
      ]
     },
     "execution_count": 9,
     "metadata": {},
     "output_type": "execute_result"
    }
   ],
   "source": [
    "Si.calc.set(ecut=350)"
   ]
  },
  {
   "cell_type": "code",
   "execution_count": 10,
   "id": "lesbian-baltimore",
   "metadata": {},
   "outputs": [
    {
     "name": "stdout",
     "output_type": "stream",
     "text": [
      "ngkpt=[1, 1, 1]: -227.290 eV ; -9.352 GPa\n",
      "ngkpt=[2, 2, 2]: -229.780 eV ; -2.876 GPa\n",
      "ngkpt=[3, 3, 3]: -229.936 eV ; -2.486 GPa\n",
      "ngkpt=[4, 4, 4]: -229.953 eV ; -2.445 GPa\n",
      "ngkpt=[5, 5, 5]: -229.956 eV ; -2.445 GPa\n"
     ]
    }
   ],
   "source": [
    "kv, kres = scan_param(Si, 'ngkpt', lista=[[1,1,1], [2,2,2], [3,3,3], [4,4,4], [5,5,5]])"
   ]
  },
  {
   "cell_type": "code",
   "execution_count": 11,
   "id": "young-hawaii",
   "metadata": {},
   "outputs": [
    {
     "data": {
      "image/png": "[encoded data removed]",
      "text/plain": [
       "<Figure size 432x432 with 2 Axes>"
      ]
     },
     "metadata": {
      "needs_background": "light"
     },
     "output_type": "display_data"
    }
   ],
   "source": [
    "subplot(211)\n",
    "plot([k[0] for k in kv], kres[0], 'o')\n",
    "ylabel('Energy (eV)')\n",
    "subplot(212)\n",
    "plot([k[0] for k in kv], kres[1]/un.GPa, 'o')\n",
    "ylabel('Pressure (GPa)')\n",
    "xlabel('Grid size (NxNxN)');"
   ]
  },
  {
   "cell_type": "code",
   "execution_count": 12,
   "id": "cardiac-technology",
   "metadata": {},
   "outputs": [
    {
     "data": {
      "text/plain": [
       "{'ngkpt': [4, 4, 4]}"
      ]
     },
     "execution_count": 12,
     "metadata": {},
     "output_type": "execute_result"
    }
   ],
   "source": [
    "ngp=4\n",
    "Si.calc.set(ecut=350, ngkpt=[ngp, ngp, ngp])"
   ]
  },
  {
   "cell_type": "markdown",
   "id": "premier-spanking",
   "metadata": {},
   "source": [
    "### Cell size optimization\n",
    "\n",
    "To find optimum size of the cell we run the calculator with `optcell=1` parameter (plus some other connected parameters). After the run is finished we read-in the results and update the crystal."
   ]
  },
  {
   "cell_type": "code",
   "execution_count": 13,
   "id": "monetary-reducing",
   "metadata": {},
   "outputs": [
    {
     "name": "stdout",
     "output_type": "stream",
     "text": [
      "Initial cell:   [ 3.81837662  3.81837662  3.81837662 60.         60.         60.        ]\n",
      "Initial stress: [-2.44493764 -2.44493764 -2.44493764  0.          0.          0.        ] GPa\n"
     ]
    }
   ],
   "source": [
    "print('Initial cell:  ', Si.cell.cellpar())\n",
    "print('Initial stress:', Si.get_stress()/un.GPa, 'GPa')"
   ]
  },
  {
   "cell_type": "code",
   "execution_count": 14,
   "id": "beneficial-pharmacy",
   "metadata": {},
   "outputs": [
    {
     "name": "stdout",
     "output_type": "stream",
     "text": [
      "-228.380507662247 [-0.00373005 -0.00373005 -0.00373005]\n"
     ]
    }
   ],
   "source": [
    "# Set up the calculation\n",
    "Si.calc.set(optcell=1,              # Optimize cell volume\n",
    "            ionmov=2,               # Update atomic positions\n",
    "            ntime=20,               # Max. number of steps\n",
    "            ecutsm=0.5*un.Ha        # Energy buffer for changing basis\n",
    "            )\n",
    "\n",
    "# Run the calculation and check the result\n",
    "print(Si.get_potential_energy(), Si.get_stress()[:3]/un.GPa)"
   ]
  },
  {
   "cell_type": "markdown",
   "id": "plastic-infrared",
   "metadata": {},
   "source": [
    "Update the crystal from the `Si.calc.results` dictionary and check if we have acceptable convergence by switching off optimization mode (`optcell=0`) and recalculating the stress tensor."
   ]
  },
  {
   "cell_type": "code",
   "execution_count": 15,
   "id": "joint-court",
   "metadata": {},
   "outputs": [
    {
     "data": {
      "text/plain": [
       "{'optcell': 0, 'ionmov': 0}"
      ]
     },
     "execution_count": 15,
     "metadata": {},
     "output_type": "execute_result"
    }
   ],
   "source": [
    "# Update the cell matrix\n",
    "Si.set_cell(Si.calc.results['atoms'].cell, scale_atoms=True)\n",
    "\n",
    "# Reset the calculator to the *single point* mode\n",
    "Si.calc.set(optcell=0, ionmov=0)"
   ]
  },
  {
   "cell_type": "code",
   "execution_count": 16,
   "id": "peaceful-vector",
   "metadata": {},
   "outputs": [
    {
     "name": "stdout",
     "output_type": "stream",
     "text": [
      "Final cell:   [ 3.86738647  3.86738647  3.86738647 60.         60.         60.        ]\n",
      "Final stress: [-0.00380692 -0.00380692 -0.00380692  0.          0.          0.        ] GPa\n"
     ]
    }
   ],
   "source": [
    "print('Final cell:  ', Si.cell.cellpar())\n",
    "print('Final stress:', Si.get_stress()/un.GPa, 'GPa')"
   ]
  },
  {
   "cell_type": "code",
   "execution_count": 17,
   "id": "through-visiting",
   "metadata": {},
   "outputs": [
    {
     "name": "stdout",
     "output_type": "stream",
     "text": [
      "Final lattice constant a = 5.4693 A\n"
     ]
    }
   ],
   "source": [
    "print(f'Final lattice constant a = {2*Si.cell[0,2]:.4f} A')"
   ]
  },
  {
   "cell_type": "code",
   "execution_count": null,
   "id": "dental-spencer",
   "metadata": {},
   "outputs": [],
   "source": []
  }
 ],
 "metadata": {
  "kernelspec": {
   "display_name": "Python 3",
   "language": "python",
   "name": "python3"
  },
  "language_info": {
   "codemirror_mode": {
    "name": "ipython",
    "version": 3
   },
   "file_extension": ".py",
   "mimetype": "text/x-python",
   "name": "python",
   "nbconvert_exporter": "python",
   "pygments_lexer": "ipython3",
   "version": "3.6.13"
  }
 },
 "nbformat": 4,
 "nbformat_minor": 5
}
